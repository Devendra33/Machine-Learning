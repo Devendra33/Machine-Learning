{
  "nbformat": 4,
  "nbformat_minor": 0,
  "metadata": {
    "colab": {
      "name": "Barchart.ipynb",
      "provenance": []
    },
    "kernelspec": {
      "name": "python3",
      "display_name": "Python 3"
    }
  },
  "cells": [
    {
      "cell_type": "code",
      "metadata": {
        "id": "bVNR6NECoTGj",
        "colab_type": "code",
        "colab": {}
      },
      "source": [
        "# ploting a barchart \n",
        "import matplotlib.pyplot as plt\n",
        "import numpy as np\n",
        "\n",
        "company = [\"ggl\", \"amz\", \"ms\", \"fb\"]\n",
        "rev = [90, 136, 89, 27]\n",
        "\n",
        "xpos = np.arange(len(company))\n",
        "\n",
        "plt.xticks(xpos, company)\n",
        "plt.title(\"Company Revenue\")\n",
        "plt.bar(xpos, rev)\n",
        "\n",
        "# now making 2 bars in one area\n",
        "profit = [45, 25, 50, 10]\n",
        "\n",
        "plt.xticks(xpos, company)\n",
        "plt.title(\"Company Revenue\")\n",
        "plt.bar(xpos - 0.2, rev, width = 0.4, label = \"revenue\")\n",
        "plt.bar(xpos + 0.2, profit, width = 0.4, label = \"profit\")\n",
        "plt.xlabel(\"Company Name\")\n",
        "plt.ylabel(\"rev and profit\")\n",
        "plt.legend(shadow = True, fontsize = \"large\")\n",
        "\n",
        "\n",
        "# for ploting a horizontal bar graph\n",
        "plt.yticks(xpos, company)\n",
        "plt.title(\"Company Revenue\")\n",
        "plt.barh(xpos - 0.2, rev,)\n",
        "plt.barh(xpos + 0.2, profit,)\n"
      ],
      "execution_count": null,
      "outputs": []
    }
  ]
}