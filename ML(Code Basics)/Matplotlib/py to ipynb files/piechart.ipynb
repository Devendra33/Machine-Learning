{
  "nbformat": 4,
  "nbformat_minor": 0,
  "metadata": {
    "colab": {
      "name": "piechart.ipynb",
      "provenance": []
    },
    "kernelspec": {
      "name": "python3",
      "display_name": "Python 3"
    }
  },
  "cells": [
    {
      "cell_type": "code",
      "metadata": {
        "id": "bVNR6NECoTGj",
        "colab_type": "code",
        "colab": {}
      },
      "source": [
        "\n",
        "# Creatin a pie chart using matplotlib\n",
        "\n",
        "import matplotlib.pyplot as plt\n",
        "\n",
        "exp_val = [1400,600,400,300,200]\n",
        "exp_lab = [\"Rent\",\"Food\",\"Phn Bill\",\"car\",\"other utilities\"]\n",
        "\n",
        "# normal pie chart\n",
        "plt.pie(exp_val, labels = exp_lab, autopct = \"%0.2f%%\", radius = 1.5, shadow = True, explode = [0,0,0,0,0])\n",
        "\n",
        "# splitted pie chart\n",
        "plt.pie(exp_val, labels = exp_lab, autopct = \"%0.2f%%\", radius = 1.5, shadow = True, explode = [0.3,0.2,0,0,0])\n",
        " "
      ],
      "execution_count": null,
      "outputs": []
    }
  ]
}