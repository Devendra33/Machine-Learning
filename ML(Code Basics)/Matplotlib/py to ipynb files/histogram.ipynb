{
  "nbformat": 4,
  "nbformat_minor": 0,
  "metadata": {
    "colab": {
      "name": "histogram.ipynb",
      "provenance": []
    },
    "kernelspec": {
      "name": "python3",
      "display_name": "Python 3"
    }
  },
  "cells": [
    {
      "cell_type": "code",
      "metadata": {
        "id": "bVNR6NECoTGj",
        "colab_type": "code",
        "colab": {}
      },
      "source": [
        "# Histogram using matplotlib\n",
        "import pandas as pd\n",
        "import numpy  as np\n",
        "import matplotlib.pyplot as plt\n",
        "\n",
        "# now creating the data.\n",
        "\n",
        "blood_sugar_men = [80,85,85,88,90,151,100,150,121,122,135,150]\n",
        "blood_sugar_women = [121,135,145,122,4,159,142,153,126,80,90,85]\n",
        "\n",
        "plt.hist([blood_sugar_men, blood_sugar_women], bins = [80,100,120,160], label = [\"men\", \"women\"],\n",
        "         rwidth = 0.9, color = [\"green\",\"yellow\"])\n",
        "plt.legend(shadow = True)\n",
        "plt.title(\"Blood Sugar Analysis\")\n",
        "plt.xlabel(\"Sugar count\")\n",
        "plt.ylabel(\"Frequency of people\")\n",
        "\n"
      ],
      "execution_count": null,
      "outputs": []
    }
  ]
}