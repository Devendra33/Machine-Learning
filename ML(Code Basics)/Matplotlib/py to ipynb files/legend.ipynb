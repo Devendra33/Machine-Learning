{
  "nbformat": 4,
  "nbformat_minor": 0,
  "metadata": {
    "colab": {
      "name": "legend.ipynb",
      "provenance": []
    },
    "kernelspec": {
      "name": "python3",
      "display_name": "Python 3"
    }
  },
  "cells": [
    {
      "cell_type": "code",
      "metadata": {
        "id": "bVNR6NECoTGj",
        "colab_type": "code",
        "colab": {}
      },
      "source": [
        "# legend and grid function and labels.\n",
        "import matplotlib.pyplot as plt\n",
        "\n",
        "days = [1,2,3,4,5,6]\n",
        "\n",
        "max_t = [45, 43, 50, 42 ,42, 43]\n",
        "min_t = [25, 30, 26, 28, 29, 32]\n",
        "avg_t = [35, 36, 45, 40, 30, 38]\n",
        "\n",
        "plt.title(\"Days Vs Temp\")\n",
        "plt.xlabel(\"Days.\")\n",
        "plt.ylabel(\"Temperature.\")\n",
        "\n",
        "plt.plot(days, max_t, label = 'Max')\n",
        "plt.plot(days, min_t, label = 'Min')\n",
        "plt.plot(days, avg_t, label = 'Avg')\n",
        "\n",
        "plt.grid() # this can be important\n",
        "\n",
        "plt.legend(loc = 'best')   \n",
        "# loc can be modified to: 'best'    0\t\n",
        "#'upper right'\t    1\n",
        "#'upper left'\t    2\n",
        "#'lower left'\t    3 \n",
        "#'lower right'\t    4\n",
        "#'right'\t        5\n",
        "#'center left'\t    6 \n",
        "#'center right'\t    7\n",
        "#'lower center'\t    8 \n",
        "#'upper center'\t    9\n",
        "#'center'           10"
      ],
      "execution_count": null,
      "outputs": []
    }
  ]
}