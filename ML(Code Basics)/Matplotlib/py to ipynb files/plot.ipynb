{
  "nbformat": 4,
  "nbformat_minor": 0,
  "metadata": {
    "colab": {
      "name": "plot.ipynb",
      "provenance": []
    },
    "kernelspec": {
      "name": "python3",
      "display_name": "Python 3"
    }
  },
  "cells": [
    {
      "cell_type": "code",
      "metadata": {
        "id": "bVNR6NECoTGj",
        "colab_type": "code",
        "colab": {}
      },
      "source": [
        "import pandas as pd\n",
        "import matplotlib.pyplot as plt\n",
        "import numpy as np\n",
        "\n",
        "x = [1,2,3,4,5,6,7]\n",
        "y = [50,51,59,53,61,48,45]\n",
        "\n",
        "plt.plot(x, y, color = \"green\", marker = \"D\", linestyle = \"-\", markersize = 10)\n",
        "\n"
      ],
      "execution_count": null,
      "outputs": []
    }
  ]
}