{
  "nbformat": 4,
  "nbformat_minor": 0,
  "metadata": {
    "colab": {
      "name": "job_lib.ipynb",
      "provenance": []
    },
    "kernelspec": {
      "name": "python3",
      "display_name": "Python 3"
    }
  },
  "cells": [
    {
      "cell_type": "code",
      "metadata": {
        "id": "bVNR6NECoTGj",
        "colab_type": "code",
        "colab": {}
      },
      "source": [
        "# Joblib : used to save the object of the model to a external file so,\n",
        "# we dont have to train the model every time we use it just load the external file and use it.\n",
        "\n",
        "import pandas as pd\n",
        "from sklearn.linear_model import LinearRegression\n",
        "from sklearn.externals import joblib\n",
        "\n",
        "# importing the data set\n",
        "ds = pd.read_csv(\"Salary_Data.csv\")\n",
        "x = ds.iloc[:, 0:1].values\n",
        "y = ds.iloc[:, 1].values\n",
        "\n",
        "# fitting the model LinearRegresison\n",
        "reg = LinearRegression()\n",
        "reg.fit(x, y)\n",
        "reg.predict([[2]])\n",
        "\n",
        "\n",
        "joblib.dump(reg, \"sal_reg\")   # dumping the model\n",
        "\n",
        "obj = joblib.load(\"sal_reg\")   # loading the model back in the memory\n",
        "\n",
        "obj.predict([[2]])   # prediction using joblib.\n",
        "\n"
      ],
      "execution_count": null,
      "outputs": []
    }
  ]
}