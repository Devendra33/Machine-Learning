{
  "nbformat": 4,
  "nbformat_minor": 0,
  "metadata": {
    "colab": {
      "name": "onehotencoding_exercise.ipynb",
      "provenance": []
    },
    "kernelspec": {
      "name": "python3",
      "display_name": "Python 3"
    }
  },
  "cells": [
    {
      "cell_type": "code",
      "metadata": {
        "id": "bVNR6NECoTGj",
        "colab_type": "code",
        "colab": {}
      },
      "source": [
        "# One Hot encoding without using sklearn library\n",
        "\n",
        "import pandas as pd\n",
        "import numpy as np\n",
        "import matplotlib.pyplot as plt\n",
        "\n",
        "# importing the dataset\n",
        "ds = pd.read_csv(\"carprices.csv\")\n",
        "\n",
        "dum = pd.get_dummies(ds[\"Car Model\"])\n",
        "ds = pd.concat([ds, dum], axis = \"columns\")\n",
        "\n",
        "ds.drop([\"Car Model\", \"Audi A5\"], axis = \"columns\", inplace = True)\n",
        "\n",
        "x = ds.iloc[:,[0, 2, 3, 4]].values\n",
        "y = ds.iloc[:, 1].values\n",
        "\n",
        "# training the dataset by multiple linear regressioln\n",
        "from sklearn.linear_model import LinearRegression\n",
        "\n",
        "regress = LinearRegression()\n",
        "regress.fit(x,y)\n",
        "regress.score(x,y)   \n",
        "\n",
        "\n",
        "# 1. predict the price of mercedes benz that is 4 yr old with mileage 45000\n",
        "regress.predict([[45000, 4, 0, 1]])  # 36991.31721061\n",
        "\n",
        "# 2. predict the price of a BMW X5 that is  7yr old with milege 86000\n",
        "regress.predict([[86000, 7, 1, 0]])  # 11080.74313219\n",
        "\n",
        "# 3. Tell me the score(accuracy) of your model\n",
        "regress.score(x,y)   # 0.9417050937281082"
      ],
      "execution_count": null,
      "outputs": []
    }
  ]
}