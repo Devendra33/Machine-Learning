{
  "nbformat": 4,
  "nbformat_minor": 0,
  "metadata": {
    "colab": {
      "name": "digits_svm.ipynb",
      "provenance": []
    },
    "kernelspec": {
      "name": "python3",
      "display_name": "Python 3"
    }
  },
  "cells": [
    {
      "cell_type": "code",
      "metadata": {
        "id": "bVNR6NECoTGj",
        "colab_type": "code",
        "colab": {}
      },
      "source": [
        "# Creating a support vector model using Support Vector Mchine\n",
        "from sklearn.datasets import load_digits\n",
        "\n",
        "import numpy as np\n",
        "import pandas as pd\n",
        "import matplotlib.pyplot as plt\n",
        "from sklearn.model_selection import train_test_split\n",
        "from sklearn.svm import SVC\n",
        "\n",
        "digit = load_digits()\n",
        "# to show the image\n",
        "dir(digit)\n",
        "for i in range(5):\n",
        "    plt.matshow(digit.images[i])\n",
        "\n",
        "\n",
        "ds = pd.DataFrame(digit.data)\n",
        "\n",
        "ds[\"Target\"] = digit.target\n",
        "\n",
        "ds.to_csv(\"digit_data.csv\", index = False)\n",
        "X = ds.iloc[:,:-1].values\n",
        "y = ds.iloc[:,-1].values\n",
        "\n",
        "# train & test split\n",
        "X_train, X_test, y_train, y_test = train_test_split(X,y, test_size = 0.2)\n",
        "\n",
        "# Training the Model\n",
        "classifier = SVC(C=15.0, kernel='rbf', degree=3, gamma='scale', random_state = 0) # radial basis function\n",
        "classifier.fit(X_train, y_train)\n",
        "classifier.score(X_test, y_test)  # 99.61% accuracy\n",
        "\n",
        "y_pred = classifier.predict(X_test)\n",
        "# creating the confusion matrix\n",
        "from sklearn.metrics import confusion_matrix\n",
        "cm = confusion_matrix(y_test, y_pred)\n",
        "\n",
        "# visualizing confusion matrix\n",
        "import seaborn as sn\n",
        "plt.figure(figsize = (10,7))\n",
        "sn.heatmap(cm, annot = True)\n",
        "plt.title(\"Digit Dataset.\")\n",
        "plt.xlabel(\"predicted\")\n",
        "plt.ylabel(\"Truth\")"
      ],
      "execution_count": null,
      "outputs": []
    }
  ]
}