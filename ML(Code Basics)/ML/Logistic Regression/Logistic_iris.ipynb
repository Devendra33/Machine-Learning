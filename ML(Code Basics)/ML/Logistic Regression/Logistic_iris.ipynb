{
  "nbformat": 4,
  "nbformat_minor": 0,
  "metadata": {
    "colab": {
      "name": "Logistic_iris.ipynb",
      "provenance": []
    },
    "kernelspec": {
      "name": "python3",
      "display_name": "Python 3"
    }
  },
  "cells": [
    {
      "cell_type": "code",
      "metadata": {
        "id": "bVNR6NECoTGj",
        "colab_type": "code",
        "colab": {}
      },
      "source": [
        "# Logistic Regression for iris flower dataset\n",
        "\n",
        "import pandas as pd\n",
        "import numpy as np\n",
        "import matplotlib.pyplot as plt\n",
        "from sklearn.model_selection import train_test_split\n",
        "from sklearn.linear_model import LogisticRegression\n",
        "from sklearn.metrics import confusion_matrix\n",
        "\n",
        "# now loading the data set\n",
        "from sklearn.datasets import load_iris\n",
        "iris = load_iris()\n",
        "\n",
        "# creating a pandas dataframe\n",
        "ds = pd.DataFrame(iris.data, columns = iris.feature_names)\n",
        "ds[\"Target\"] = iris.target\n",
        "\n",
        "ds[\"Name\"] = ds.Target.replace([0, 1, 2],['setosa', 'versicolor', 'virginica'])\n",
        "ds.to_csv(\"Iris_Data.csv\", index = False)\n",
        "\n",
        "X = ds.iloc[:, 0:4].values\n",
        "y = ds.iloc[:,4].values\n",
        "\n",
        "# spliting into training and test\n",
        "X_train, X_test, y_train, y_test = train_test_split(X,y,test_size = 0.2)\n",
        "\n",
        "# fitting the model\n",
        "\n",
        "classifier = LogisticRegression()\n",
        "classifier.fit(X_train, y_train)\n",
        "classifier.score(X_test, y_test)\n",
        "y_pred = classifier.predict(X_test)\n",
        "\n",
        "# now creating the confusion matrix.\n",
        "cm = confusion_matrix(y_test, y_pred)\n",
        "\n",
        "# creating the confusion matrix for better visualization using seborn\n",
        "\n",
        "import seaborn as sn\n",
        "plt.figure(figsize = (6,5))\n",
        "sn.heatmap(cm, annot = True)\n",
        "plt.title(\"Iris Dataset\")\n",
        "plt.xlabel(\"predicted\")\n",
        "plt.ylabel(\"Truth\")"
      ],
      "execution_count": null,
      "outputs": []
    }
  ]
}