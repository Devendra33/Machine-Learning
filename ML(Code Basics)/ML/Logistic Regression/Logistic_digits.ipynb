{
  "nbformat": 4,
  "nbformat_minor": 0,
  "metadata": {
    "colab": {
      "name": "Logistic_digits.ipynb",
      "provenance": []
    },
    "kernelspec": {
      "name": "python3",
      "display_name": "Python 3"
    }
  },
  "cells": [
    {
      "cell_type": "code",
      "metadata": {
        "id": "bVNR6NECoTGj",
        "colab_type": "code",
        "colab": {}
      },
      "source": [
        "# logistic Regression model for digit\n",
        "import numpy as np\n",
        "import pandas as pd\n",
        "import matplotlib.pyplot as plt\n",
        "\n",
        "from sklearn.linear_model import LogisticRegression\n",
        "from sklearn.model_selection import train_test_split, cross_val_score\n",
        "from sklearn.datasets import load_digits\n",
        "\n",
        "digit = load_digits()\n",
        "# for showing the images\n",
        "for i in range(4):\n",
        "    plt.matshow(digit.images[i])\n",
        "\n",
        "ds = pd.DataFrame(digit.data)\n",
        "ds[\"Target\"] = digit.target\n",
        "ds.to_csv(\"Digits_Data.csv\", index = False)\n",
        "\n",
        "X = ds.iloc[:,:-1].values\n",
        "y = ds.iloc[:,-1].values\n",
        "\n",
        "# traning and testing\n",
        "X_train, X_test, y_train, y_test = train_test_split(X, y, test_size  = 0.2)\n",
        "\n",
        "# fittingg into the model\n",
        "classifier = LogisticRegression()\n",
        "classifier.fit(X_train, y_train)\n",
        "classifier.score(X_test, y_test)\n",
        "y_pred = classifier.predict(X_test)\n",
        "\n",
        "# now creating the confusion matrix\n",
        "from sklearn.metrics import confusion_matrix\n",
        "cm = confusion_matrix(y_test, y_pred)\n",
        "\n",
        "# creating the confusion matrix for better visualization using seborn\n",
        "import seaborn as sn\n",
        "plt.figure(figsize = (10,7))\n",
        "sn.heatmap(cm, annot = True)\n",
        "plt.xlabel(\"predicted\")\n",
        "plt.ylabel(\"Truth\")"
      ],
      "execution_count": null,
      "outputs": []
    }
  ]
}