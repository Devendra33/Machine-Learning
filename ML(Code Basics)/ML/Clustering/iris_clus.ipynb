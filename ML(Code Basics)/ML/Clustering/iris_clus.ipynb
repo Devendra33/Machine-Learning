{
  "nbformat": 4,
  "nbformat_minor": 0,
  "metadata": {
    "colab": {
      "name": "iris_clus.ipynb",
      "provenance": []
    },
    "kernelspec": {
      "name": "python3",
      "display_name": "Python 3"
    }
  },
  "cells": [
    {
      "cell_type": "code",
      "metadata": {
        "id": "bVNR6NECoTGj",
        "colab_type": "code",
        "colab": {}
      },
      "source": [
        "import pandas as pd\n",
        "import numpy as np\n",
        "import matplotlib.pyplot as plt\n",
        "from sklearn.preprocessing import StandardScaler\n",
        "from sklearn.cluster import KMeans\n",
        "from sklearn.datasets import load_iris\n",
        "\n",
        "iris = load_iris()\n",
        "dir(iris)\n",
        "\n",
        "ds = pd.DataFrame(iris.data, columns = iris.feature_names)\n",
        "ds = ds.drop(columns = [\"sepal length (cm)\",\"sepal width (cm)\"])\n",
        "\n",
        "# performing features scaling\n",
        "sc = StandardScaler()\n",
        "ds = sc.fit_transform(ds)\n",
        "ds = pd.DataFrame(ds, columns = [\"pl\",\"pw\"])\n",
        "# now elbow method\n",
        "wcss = []\n",
        "for i in range(1,11):\n",
        "    k = KMeans(n_clusters = i, init = \"k-means++\")\n",
        "    k.fit(ds)\n",
        "    wcss.append(k.inertia_)\n",
        "plt.plot(range(1,11), wcss)   # 3 clusters are optimum\n",
        "\n",
        "# making cluster model\n",
        "km = KMeans(n_clusters = 3, init = \"k-means++\")\n",
        "y_means = km.fit_predict(ds)\n",
        "ds[\"cluster\"] = y_means\n",
        "\n",
        "ds0 = ds[ds.cluster == 0]\n",
        "ds1 = ds[ds.cluster == 1]\n",
        "ds2 = ds[ds.cluster == 2]\n",
        "\n",
        "# visualization of clusters\n",
        "plt.scatter(ds0[\"pl\"], ds0[\"pw\"], color = \"red\", s=100, label = \"c1\" )\n",
        "plt.scatter(ds1[\"pl\"], ds1[\"pw\"], color = \"green\", s=100, label = \"c2\" )\n",
        "plt.scatter(ds2[\"pl\"], ds2[\"pw\"], color = \"blue\", s=100, label = \"c3\" )\n",
        "plt.scatter(km.cluster_centers_[:,0], km.cluster_centers_[:,1], color = \"yellow\", s = 400, label = \"centers\")\n",
        "plt.xlabel(\"petal length\")\n",
        "plt.ylabel(\"petal width\")\n",
        "plt.legend()\n",
        "plt.show()\n",
        "\n",
        "\n",
        "\n"
      ],
      "execution_count": null,
      "outputs": []
    }
  ]
}