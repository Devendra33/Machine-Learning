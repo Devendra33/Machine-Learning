{
  "nbformat": 4,
  "nbformat_minor": 0,
  "metadata": {
    "colab": {
      "name": "income_clus.ipynb",
      "provenance": []
    },
    "kernelspec": {
      "name": "python3",
      "display_name": "Python 3"
    }
  },
  "cells": [
    {
      "cell_type": "code",
      "metadata": {
        "id": "bVNR6NECoTGj",
        "colab_type": "code",
        "colab": {}
      },
      "source": [
        "import numpy as np\n",
        "import pandas as pd\n",
        "import matplotlib.pyplot as plt\n",
        "\n",
        "from sklearn.preprocessing import StandardScaler\n",
        "from sklearn.cluster import KMeans\n",
        "\n",
        "ds = pd.read_csv(\"income.csv\")\n",
        "\n",
        "# performed feature scaling\n",
        "sc = StandardScaler()\n",
        "ds[[\"Age\",\"Income($)\"]] = sc.fit_transform(ds[[\"Age\",\"Income($)\"]])\n",
        "\n",
        "# elbow method\n",
        "\n",
        "wcss = []\n",
        "for i in range(1,11):\n",
        "    k = KMeans(n_clusters = i, init = \"k-means++\")\n",
        "    k.fit(ds[[\"Age\",\"Income($)\"]])\n",
        "    wcss.append(k.inertia_)\n",
        "plt.plot(range(1,11), wcss)\n",
        "plt.xlabel(\"frequency\")\n",
        "plt.ylabel(\"clusters\")    # now we get 3 clusters by elbow method\n",
        "\n",
        "# now fitting into kmeans model\n",
        "\n",
        "km = KMeans(n_clusters = 3, init = \"k-means++\")\n",
        "y_means = km.fit_predict(ds[[\"Age\",\"Income($)\"]])\n",
        "\n",
        "# visualizing the graph\n",
        "ds[\"cluster\"] = y_means\n",
        "\n",
        "ds0 = ds[ds.cluster == 0]\n",
        "ds1 = ds[ds.cluster == 1]\n",
        "ds2 = ds[ds.cluster == 2]\n",
        "\n",
        "plt.scatter(ds0[\"Age\"],ds0[\"Income($)\"], color = \"red\", s = 100, label = \"c1\") # cluster 1\n",
        "plt.scatter(ds1[\"Age\"],ds1[\"Income($)\"], color = \"blue\", s = 100, label = \"c2\")# cluster 2\n",
        "plt.scatter(ds2[\"Age\"],ds2[\"Income($)\"], color = \"green\", s = 100, label = \"c3\")# cluster 3\n",
        "# to represent the centers\n",
        "plt.scatter(km.cluster_centers_[:,0],km.cluster_centers_[:,1], s = 400, color = \"yellow\", label = \"centers\")\n",
        "plt.xlabel(\"clusters\")\n",
        "plt.ylabel(\"frequency\")\n",
        "plt.legend()\n"
      ],
      "execution_count": null,
      "outputs": []
    }
  ]
}