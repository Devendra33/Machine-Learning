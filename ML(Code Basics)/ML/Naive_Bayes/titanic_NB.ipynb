{
  "nbformat": 4,
  "nbformat_minor": 0,
  "metadata": {
    "colab": {
      "name": "titanic_NB.ipynb",
      "provenance": []
    },
    "kernelspec": {
      "name": "python3",
      "display_name": "Python 3"
    }
  },
  "cells": [
    {
      "cell_type": "code",
      "metadata": {
        "id": "bVNR6NECoTGj",
        "colab_type": "code",
        "colab": {}
      },
      "source": [
        "# Naive bayes theoram\n",
        "import pandas as pd\n",
        "from sklearn.preprocessing import LabelEncoder\n",
        "from sklearn.model_selection import train_test_split\n",
        "\n",
        "# importing the dataset\n",
        "\n",
        "ds = pd.read_csv(\"titanic.csv\")\n",
        "ds = ds.drop(columns = ['PassengerId', 'Name', 'SibSp', 'Parch',\n",
        "       'Ticket', 'Fare', 'Cabin', 'Embarked'])\n",
        "\n",
        "# now data  preprcessiing\n",
        "lab = LabelEncoder()\n",
        "ds[\"Sex\"][:] = lab.fit_transform(ds[\"Sex\"][:])\n",
        "ds.Age = ds.fillna(ds.Age.mean())\n",
        "\n",
        "X = ds.iloc[:,:-1].values\n",
        "y = ds.iloc[:,-1].values\n",
        "\n",
        "X_train, X_test, y_train, y_test = train_test_split(X, y, test_size = 0.2)\n",
        "\n",
        "# Now fitting into the Gausian model\n",
        "\n",
        "from sklearn.naive_bayes import GaussianNB\n",
        "classifier = GaussianNB()\n",
        "classifier.fit(X_train, y_train)\n",
        "classifier.score(X_test, y_test)\n",
        "\n",
        "y_pred  = classifier.predict(X_test) # predicted values\n",
        "\n",
        "from sklearn.metrics import r2_score\n",
        "r2_score(y_test, y_pred)\n"
      ],
      "execution_count": null,
      "outputs": []
    }
  ]
}