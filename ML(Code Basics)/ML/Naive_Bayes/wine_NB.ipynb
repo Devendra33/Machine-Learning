{
  "nbformat": 4,
  "nbformat_minor": 0,
  "metadata": {
    "colab": {
      "name": "wine_NB.ipynb",
      "provenance": []
    },
    "kernelspec": {
      "name": "python3",
      "display_name": "Python 3"
    }
  },
  "cells": [
    {
      "cell_type": "code",
      "metadata": {
        "id": "bVNR6NECoTGj",
        "colab_type": "code",
        "colab": {}
      },
      "source": [
        "# Naive bayes model for wine data set of sklearn library.\n",
        "# classifier1 by GaussianNB \n",
        "# classifier2 by MultinomialNB\n",
        "\n",
        "import pandas as pd\n",
        "import numpy as np\n",
        "import matplotlib.pyplot as plt\n",
        "\n",
        "from sklearn.naive_bayes import GaussianNB, MultinomialNB\n",
        "from sklearn.model_selection import train_test_split\n",
        "from sklearn.datasets import load_wine\n",
        "from sklearn.metrics import r2_score\n",
        "\n",
        "# importing the dataset\n",
        "wine = load_wine() \n",
        "dir(wine)\n",
        "\n",
        "# creating the dataset\n",
        "ds = pd.DataFrame(wine.data, columns = wine.feature_names)\n",
        "ds[\"Target\"] = wine.target\n",
        "ds[\"Target_names\"] = ds.Target.replace([0, 1, 2], ['class_0', 'class_1', 'class_2'])\n",
        "ds.to_csv(\"Wine_Data.csv\", index = False)\n",
        "\n",
        "X = ds.iloc[:, :-2].values\n",
        "y = ds.iloc[:, -2].values\n",
        "\n",
        "X_train, X_test, y_train, y_test = train_test_split(X, y, test_size = 0.2)\n",
        "\n",
        "classifier1 = GaussianNB()\n",
        "classifier2 = MultinomialNB()\n",
        "\n",
        "classifier1.fit(X_train, y_train)\n",
        "classifier1.score(X_test, y_test)   # 100 % accuracy  aquired.\n",
        "y1_pred = classifier1.predict(X_test)\n",
        "r2_score(y_test, y1_pred)\n",
        "\n",
        "classifier2.fit(X_train, y_train)\n",
        "classifier2.score(X_test, y_test) # 91.6 % accuracy aquired.\n",
        "y2_pred = classifier2.predict(X_test)\n",
        "r2_score(y_test, y2_pred)\n",
        "\n",
        "\n"
      ],
      "execution_count": null,
      "outputs": []
    }
  ]
}