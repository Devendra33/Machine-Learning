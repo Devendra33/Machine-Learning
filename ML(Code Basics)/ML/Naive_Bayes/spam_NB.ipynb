{
  "nbformat": 4,
  "nbformat_minor": 0,
  "metadata": {
    "colab": {
      "name": "spam_NB.ipynb",
      "provenance": []
    },
    "kernelspec": {
      "name": "python3",
      "display_name": "Python 3"
    }
  },
  "cells": [
    {
      "cell_type": "code",
      "metadata": {
        "id": "bVNR6NECoTGj",
        "colab_type": "code",
        "colab": {}
      },
      "source": [
        "# Spam detection Model by  Naive_bayes theorem\n",
        "\n",
        "import pandas as pd\n",
        "import matplotlib.pyplot as plt\n",
        "import numpy as np\n",
        "from sklearn.naive_bayes import GaussianNB\n",
        "\n",
        "# importing the dataset\n",
        "ds = pd.read_csv(\"spam.csv\")\n",
        "ds[\"spam\"] = ds.Category.apply(lambda x: 1 if x == \"spam\" else 0)\n",
        "\n",
        "from sklearn.model_selection import train_test_split\n",
        "X_train, X_test, y_train, y_test = train_test_split(ds.Message, ds.spam, test_size = 0.2)\n",
        "\n",
        "\n",
        "\n",
        "from sklearn.pipeline import Pipeline\n",
        "from sklearn.naive_bayes import MultinomialNB\n",
        "from sklearn.feature_extraction.text import CountVectorizer\n",
        "\n",
        "# takes pandas series module to use vectorize method\n",
        "classifier = Pipeline([(\"vectorizer\", CountVectorizer()),(\"nb\", MultinomialNB())])\n",
        "classifier.fit(X_train, y_train)\n",
        "classifier.score(X_test, y_test)   # 98% accuracy.\n",
        "\n",
        "y_pred = classifier.predict(X_test)\n"
      ],
      "execution_count": null,
      "outputs": []
    }
  ]
}