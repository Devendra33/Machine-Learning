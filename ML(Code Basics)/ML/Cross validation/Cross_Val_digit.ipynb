{
  "nbformat": 4,
  "nbformat_minor": 0,
  "metadata": {
    "colab": {
      "name": "Cross_Val_digit.ipynb",
      "provenance": []
    },
    "kernelspec": {
      "name": "python3",
      "display_name": "Python 3"
    }
  },
  "cells": [
    {
      "cell_type": "code",
      "metadata": {
        "id": "bVNR6NECoTGj",
        "colab_type": "code",
        "colab": {}
      },
      "source": [
        "# Used to select the best model for given set of data.\n",
        "import numpy as np\n",
        "import pandas as pd\n",
        "import matplotlib.pyplot as plt\n",
        "\n",
        "from sklearn.linear_model import LogisticRegression\n",
        "from sklearn.svm import SVC\n",
        "from sklearn.ensemble import RandomForestClassifier\n",
        "from sklearn.model_selection import cross_val_score\n",
        "\n",
        "from sklearn.datasets import load_digits\n",
        "\n",
        "digit = load_digits()\n",
        "\n",
        "# creating the pandas dataframe\n",
        "ds = pd.DataFrame(digit.data)\n",
        "ds[\"Target\"] = digit.target\n",
        "\n",
        "X = ds.iloc[:, :-1].values\n",
        "y = ds.iloc[:, -1].values\n",
        "dic = {}\n",
        "# for logistic regression\n",
        "\n",
        "lst_lg = cross_val_score(LogisticRegression(), X, y, cv = 5)\n",
        "lg_score = lst_lg.mean()\n",
        "dic[\"logistic regression\"] = lg_score\n",
        "\n",
        "# for support vector machine\n",
        "lst_svc = cross_val_score(SVC(), X, y, cv = 5)\n",
        "svc_score = lst_svc.mean()\n",
        "dic[\"support vector machine\"] = svc_score\n",
        "\n",
        "# for Random forest classifier\n",
        "lst_rf = cross_val_score(RandomForestClassifier(n_estimators = 25), X, y, cv = 5)\n",
        "rf_score = lst_rf.mean()\n",
        "dic[\"Random forest classifier\"] = rf_score\n",
        "\n",
        "max_score = max(dic.values())\n",
        "print(\"_________________________________________________________________________\")\n",
        "print(\"\\n\")\n",
        "\n",
        "for k, v in dic.items():\n",
        "    if v == max_score:\n",
        "        print(f\"The Best Model is:\\n\\t{k} \")\n",
        "\n"
      ],
      "execution_count": null,
      "outputs": []
    }
  ]
}