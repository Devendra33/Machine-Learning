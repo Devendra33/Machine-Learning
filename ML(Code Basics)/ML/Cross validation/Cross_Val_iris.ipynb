{
  "nbformat": 4,
  "nbformat_minor": 0,
  "metadata": {
    "colab": {
      "name": "Cross_Val_iris.ipynb",
      "provenance": []
    },
    "kernelspec": {
      "name": "python3",
      "display_name": "Python 3"
    }
  },
  "cells": [
    {
      "cell_type": "code",
      "metadata": {
        "id": "bVNR6NECoTGj",
        "colab_type": "code",
        "colab": {}
      },
      "source": [
        "# selction best model for iris data sets\n",
        "\n",
        "import pandas as pd\n",
        "from sklearn.linear_model import LogisticRegression\n",
        "from sklearn.svm import SVC\n",
        "from sklearn.ensemble import RandomForestClassifier\n",
        "from sklearn.tree import DecisionTreeClassifier\n",
        "from sklearn.model_selection import train_test_split, cross_val_score\n",
        "\n",
        "from sklearn.datasets import load_iris\n",
        "\n",
        "iris = load_iris()\n",
        "\n",
        "# creating the dataframe\n",
        "ds = pd.DataFrame(iris.data, columns = iris.feature_names)\n",
        "ds[\"Target\"] = iris.target\n",
        "ds[\"Name\"]  = ds.Target.apply(lambda x: iris.target_names[x])\n",
        "\n",
        "X = ds.iloc[:,0:4].values\n",
        "y = ds.iloc[:, 4].values\n",
        "\n",
        "dic = {}\n",
        "\n",
        "# for logistic regression\n",
        "lst_lg = cross_val_score(LogisticRegression(),X, y, cv = 5)\n",
        "lg_score = lst_lg.mean()\n",
        "dic[\"logistic regression\"] = lg_score\n",
        "\n",
        "# for support vector machine\n",
        "lst_svc = cross_val_score(SVC(),X, y, cv = 5)\n",
        "svc_score = lst_svc.mean()\n",
        "dic[\"support vector machine\"] = svc_score\n",
        "\n",
        "# for randomforest classificaction\n",
        "lst_rf = cross_val_score(RandomForestClassifier(n_estimators = 10),X, y, cv = 5)\n",
        "rf_score = lst_rf.mean()\n",
        "dic[\"randomforest classificaction\"] = rf_score\n",
        "\n",
        "# for decsion tree.\n",
        "lst_dt = cross_val_score(DecisionTreeClassifier(criterion = \"entropy\"),X, y, cv = 5)\n",
        "dt_score = lst_dt.mean()\n",
        "dic[\"Decision Tree Classifier\"] = dt_score\n",
        "\n",
        "max_score = max(dic.values())\n",
        "print(\"_________________________________________________________________________\")\n",
        "print(\"\\n\")\n",
        "\n",
        "for k, v in dic.items():\n",
        "    if v == max_score:\n",
        "        print(f\"The Best Model is:\\n\\t{k} \")\n"
      ],
      "execution_count": null,
      "outputs": []
    }
  ]
}