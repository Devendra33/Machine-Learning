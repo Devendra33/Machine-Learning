{
  "nbformat": 4,
  "nbformat_minor": 0,
  "metadata": {
    "colab": {
      "name": "Regression_MS.ipynb",
      "provenance": [],
      "toc_visible": true
    },
    "kernelspec": {
      "name": "python3",
      "display_name": "Python 3"
    }
  },
  "cells": [
    {
      "cell_type": "markdown",
      "metadata": {
        "id": "RW4awY8DcoHN",
        "colab_type": "text"
      },
      "source": [
        "#Regression Model selection \n"
      ]
    },
    {
      "cell_type": "markdown",
      "metadata": {
        "id": "G6fdDqZcBk2b",
        "colab_type": "text"
      },
      "source": [
        "# For Small Datasets"
      ]
    },
    {
      "cell_type": "code",
      "metadata": {
        "id": "SqHi2wo9d7RT",
        "colab_type": "code",
        "colab": {}
      },
      "source": [
        "# Required packages! \n",
        "\n",
        "import pandas as pd\n",
        "import numpy as np\n",
        "import matplotlib.pyplot as plt\n",
        "from sklearn.preprocessing import LabelEncoder, OneHotEncoder, PolynomialFeatures, StandardScaler\n",
        "from sklearn.linear_model import LinearRegression\n",
        "from sklearn.svm import SVR\n",
        "from sklearn.tree import DecisionTreeRegressor\n",
        "from sklearn.ensemble import RandomForestRegressor\n",
        "from sklearn.model_selection import train_test_split, GridSearchCV, cross_val_score\n"
      ],
      "execution_count": 1,
      "outputs": []
    },
    {
      "cell_type": "code",
      "metadata": {
        "id": "EWUBTi8meCwC",
        "colab_type": "code",
        "colab": {}
      },
      "source": [
        "# importing the dataset\n",
        "ds = pd.read_csv(\"Salary_Data.csv\")  # change file name of any preprocessed file\n",
        "X = ds.iloc[:, :-1].values\n",
        "y = ds.iloc[:, -1].values"
      ],
      "execution_count": 2,
      "outputs": []
    },
    {
      "cell_type": "code",
      "metadata": {
        "id": "R3nMFvLLi__R",
        "colab_type": "code",
        "colab": {}
      },
      "source": [
        "# for Support Vector machines or whose ever model which required feature scaling.\n",
        "y1 = ds.iloc[:,-1].values\n",
        "y1 = y1.reshape(len(y1), 1)\n"
      ],
      "execution_count": 3,
      "outputs": []
    },
    {
      "cell_type": "code",
      "metadata": {
        "id": "AFJmCdWsjxxM",
        "colab_type": "code",
        "colab": {}
      },
      "source": [
        "# scaling for support vector\n",
        "sc_x = StandardScaler()\n",
        "sc_y = StandardScaler()\n",
        "\n",
        "SX = sc_x.fit_transform(X)\n",
        "SY = sc_y.fit_transform(y1)\n"
      ],
      "execution_count": 4,
      "outputs": []
    },
    {
      "cell_type": "code",
      "metadata": {
        "id": "2NG_hBX9lQEM",
        "colab_type": "code",
        "colab": {}
      },
      "source": [
        "# for polynomial Regression\n",
        "x_poly = PolynomialFeatures(degree = 2)  # degree can be change\n",
        "X_poly = x_poly.fit_transform(X)\n",
        "SX_poly = x_poly.fit_transform(SX)"
      ],
      "execution_count": 5,
      "outputs": []
    },
    {
      "cell_type": "markdown",
      "metadata": {
        "id": "Hbop649wCkRL",
        "colab_type": "text"
      },
      "source": [
        "# Without Feature Scaling"
      ]
    },
    {
      "cell_type": "code",
      "metadata": {
        "id": "DE4MPW1rg8FS",
        "colab_type": "code",
        "colab": {}
      },
      "source": [
        "# NOW applying GridSearchCV for Hyperparameter tuning and selecting the best model.\n",
        "model_params = {\n",
        "        \"Random_Forest_Reg\":{\"model\":RandomForestRegressor(),\n",
        "                        \"params\":{\"n_estimators\":[10,20,30],\n",
        "                                  \"criterion\":[\"mse\", \"mae\"]}\n",
        "                        },\n",
        "        \"Linear_Reg\":{\"model\":LinearRegression(),\n",
        "                               \"params\":{\"normalize\":[True,False]}\n",
        "                               },\n",
        "        \"DecisionTree_Reg\":{\"model\":DecisionTreeRegressor(),\n",
        "                        \"params\":{\"criterion\":[\"mse\", \"friedman_mse\", \"mae\"]}\n",
        "                        }\n",
        "                } \n",
        "# for  svc\n",
        "model_params1 = {\n",
        "        \"svr\":{\"model\":SVR(),\n",
        "                \"params\":{\"kernel\":['linear', 'poly', 'rbf'],\n",
        "                          \"C\":[1.0, 3.0, 6.0, 10.0]}\n",
        "                        }}\n",
        "\n",
        "# for Polynomial Regression\n",
        "model_params2 = {\n",
        "        \"Poly_Reg\":{\"model\":LinearRegression(),\n",
        "                \"params\":{\"normalize\":[True, False]}\n",
        "                        }}\n",
        "\n",
        "# To run model_params we need for loop.\n",
        "score = []\n",
        "for model_name, mp in model_params.items():\n",
        "    classifier = GridSearchCV(mp[\"model\"], mp[\"params\"],\n",
        "                              cv = 5, return_train_score=False)\n",
        "    classifier.fit(X, y)\n",
        "    score.append({\"model\":model_name,\n",
        "                  \"best_score\":classifier.best_score_,\n",
        "                  \"best_params\" : classifier.best_params_})\n",
        "    \n",
        "# for svc\n",
        "for model_name, mp in model_params1.items():\n",
        "    classifier = GridSearchCV(mp[\"model\"], mp[\"params\"],\n",
        "                              cv = 5, return_train_score=False)\n",
        "    classifier.fit(SX, SY)\n",
        "    score.append({\"model\":model_name,\n",
        "                  \"best_score\":classifier.best_score_,\n",
        "                  \"best_params\" : classifier.best_params_})\n",
        "\n",
        "# for polynomial regression \n",
        "for model_name, mp in model_params2.items():\n",
        "    classifier = GridSearchCV(mp[\"model\"], mp[\"params\"],\n",
        "                              cv = 5, return_train_score=False)\n",
        "    classifier.fit(X_poly, y)\n",
        "    score.append({\"model\":model_name,\n",
        "                  \"best_score\":classifier.best_score_,\n",
        "                  \"best_params\" : classifier.best_params_})\n",
        "\n",
        "\n",
        "df = pd.DataFrame(score, columns = [\"model\", \"best_score\", \"best_params\"])\n",
        "\n"
      ],
      "execution_count": null,
      "outputs": []
    },
    {
      "cell_type": "markdown",
      "metadata": {
        "id": "kjfozQNjGF5h",
        "colab_type": "text"
      },
      "source": [
        "# Shows the Best model"
      ]
    },
    {
      "cell_type": "code",
      "metadata": {
        "id": "pZAXJS4uyda2",
        "colab_type": "code",
        "colab": {}
      },
      "source": [
        "\n",
        "df[[\"model\", \"best_params\",\"best_score\"]][df.best_score == df.best_score.max()]\n"
      ],
      "execution_count": null,
      "outputs": []
    },
    {
      "cell_type": "markdown",
      "metadata": {
        "id": "zwHvJMmJGJT3",
        "colab_type": "text"
      },
      "source": [
        "# Shows all model performances."
      ]
    },
    {
      "cell_type": "code",
      "metadata": {
        "id": "wRuQnqPyt5GO",
        "colab_type": "code",
        "colab": {}
      },
      "source": [
        "df  "
      ],
      "execution_count": null,
      "outputs": []
    },
    {
      "cell_type": "markdown",
      "metadata": {
        "id": "fNDU9M7kF-cE",
        "colab_type": "text"
      },
      "source": [
        "#With Feature Scaling! "
      ]
    },
    {
      "cell_type": "code",
      "metadata": {
        "id": "5Chj5N0cCqyn",
        "colab_type": "code",
        "colab": {}
      },
      "source": [
        "# for all other models\n",
        "score1 = []\n",
        "for model_name, mp in model_params.items():\n",
        "    classifier1 = GridSearchCV(mp[\"model\"], mp[\"params\"],\n",
        "                              cv = 5, return_train_score=False)\n",
        "    classifier1.fit(SX, SY)\n",
        "    score1.append({\"model\":model_name,\n",
        "                  \"best_score\":classifier1.best_score_,\n",
        "                  \"best_params\" : classifier1.best_params_})\n",
        "    \n",
        "# for polynomial regression    \n",
        "for model_name, mp in model_params2.items():\n",
        "    classifier1 = GridSearchCV(mp[\"model\"], mp[\"params\"],\n",
        "                              cv = 5, return_train_score=False)\n",
        "    classifier1.fit(SX_poly, SY)\n",
        "    score1.append({\"model\":model_name,\n",
        "                  \"best_score\":classifier1.best_score_,\n",
        "                  \"best_params\" :classifier1.best_params_})\n",
        "df1 = pd.DataFrame(score1, columns = [\"model\", \"best_score\", \"best_params\"])\n"
      ],
      "execution_count": null,
      "outputs": []
    },
    {
      "cell_type": "markdown",
      "metadata": {
        "id": "jLDKnI9MGUdF",
        "colab_type": "text"
      },
      "source": [
        "# Shows the Best Models"
      ]
    },
    {
      "cell_type": "code",
      "metadata": {
        "id": "p-egGRKNGMJG",
        "colab_type": "code",
        "colab": {}
      },
      "source": [
        "\n",
        "df1[[\"model\", \"best_params\",\"best_score\"]][df1.best_score == df1.best_score.max()]\n"
      ],
      "execution_count": null,
      "outputs": []
    },
    {
      "cell_type": "markdown",
      "metadata": {
        "id": "wetIj3qcGVtr",
        "colab_type": "text"
      },
      "source": [
        "# show other models performances"
      ]
    },
    {
      "cell_type": "code",
      "metadata": {
        "id": "2LmXBzkNGaY0",
        "colab_type": "code",
        "colab": {}
      },
      "source": [
        "df1"
      ],
      "execution_count": null,
      "outputs": []
    },
    {
      "cell_type": "code",
      "metadata": {
        "id": "6PUMuR3_HI1E",
        "colab_type": "code",
        "colab": {}
      },
      "source": [
        "cross_val_score(RandomForestRegressor(), SX, SY).mean()"
      ],
      "execution_count": null,
      "outputs": []
    }
  ]
}