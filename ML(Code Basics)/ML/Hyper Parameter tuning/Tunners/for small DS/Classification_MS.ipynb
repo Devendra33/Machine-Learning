{
  "nbformat": 4,
  "nbformat_minor": 0,
  "metadata": {
    "colab": {
      "name": "Classification_MS.ipynb",
      "provenance": [],
      "toc_visible": true
    },
    "kernelspec": {
      "name": "python3",
      "display_name": "Python 3"
    }
  },
  "cells": [
    {
      "cell_type": "markdown",
      "metadata": {
        "id": "cuvmYqBvWvMs",
        "colab_type": "text"
      },
      "source": [
        "# Classification Model Selection"
      ]
    },
    {
      "cell_type": "markdown",
      "metadata": {
        "id": "baGdzGGXykJ_",
        "colab_type": "text"
      },
      "source": [
        "# For Small Datasets"
      ]
    },
    {
      "cell_type": "code",
      "metadata": {
        "id": "CAXJempfXN8t",
        "colab_type": "code",
        "colab": {}
      },
      "source": [
        "# Required Packages\n",
        "import pandas as pd\n",
        "import numpy as np\n",
        "import matplotlib.pyplot as plt\n",
        "from sklearn.preprocessing import LabelEncoder, OneHotEncoder, StandardScaler, PolynomialFeatures\n",
        "from sklearn.linear_model import LogisticRegression\n",
        "from sklearn.model_selection import GridSearchCV, cross_val_score\n",
        "from sklearn.neighbors import KNeighborsClassifier\n",
        "from sklearn.tree import DecisionTreeClassifier\n",
        "from sklearn.ensemble import RandomForestClassifier\n",
        "from sklearn.svm import SVC\n",
        "from sklearn.naive_bayes import GaussianNB, MultinomialNB, BernoulliNB"
      ],
      "execution_count": 7,
      "outputs": []
    },
    {
      "cell_type": "code",
      "metadata": {
        "id": "YNLBA-i7XSHs",
        "colab_type": "code",
        "colab": {}
      },
      "source": [
        "# importing the dataset\n",
        "ds = pd.read_csv(\".csv\", nrows=15)\n"
      ],
      "execution_count": 8,
      "outputs": []
    },
    {
      "cell_type": "markdown",
      "metadata": {
        "id": "PpFG-9eaXT0v",
        "colab_type": "text"
      },
      "source": [
        "# Data Preprocessing"
      ]
    },
    {
      "cell_type": "code",
      "metadata": {
        "id": "4uoKQJksXYUo",
        "colab_type": "code",
        "colab": {}
      },
      "source": [
        "# preprocessing if required\n"
      ],
      "execution_count": 9,
      "outputs": []
    },
    {
      "cell_type": "code",
      "metadata": {
        "id": "Rcm8QmxtXfP8",
        "colab_type": "code",
        "colab": {
          "base_uri": "https://localhost:8080/",
          "height": 285
        },
        "outputId": "94125956-088e-4d57-c47a-dae4f3a647a6"
      },
      "source": [
        "# splitting into dependent and independent variables\n",
        "X = ds.iloc[:, :-1].values\n",
        "y = ds.iloc[:, -1].values\n",
        "X"
      ],
      "execution_count": 10,
      "outputs": [
        {
          "output_type": "execute_result",
          "data": {
            "text/plain": [
              "array([[    19,  19000],\n",
              "       [    35,  20000],\n",
              "       [    26,  43000],\n",
              "       [    27,  57000],\n",
              "       [    19,  76000],\n",
              "       [    27,  58000],\n",
              "       [    27,  84000],\n",
              "       [    32, 150000],\n",
              "       [    25,  33000],\n",
              "       [    35,  65000],\n",
              "       [    26,  80000],\n",
              "       [    26,  52000],\n",
              "       [    20,  86000],\n",
              "       [    32,  18000],\n",
              "       [    18,  82000]])"
            ]
          },
          "metadata": {
            "tags": []
          },
          "execution_count": 10
        }
      ]
    },
    {
      "cell_type": "code",
      "metadata": {
        "id": "BQVgVPijABU8",
        "colab_type": "code",
        "colab": {}
      },
      "source": [
        "# y dataset\n",
        "y"
      ],
      "execution_count": null,
      "outputs": []
    },
    {
      "cell_type": "code",
      "metadata": {
        "id": "wUXiDMsAytQM",
        "colab_type": "code",
        "colab": {
          "base_uri": "https://localhost:8080/",
          "height": 285
        },
        "outputId": "7d1505c5-c549-4c7f-c484-c728d9f41e60"
      },
      "source": [
        "# Feature scaling\n",
        "sc = StandardScaler()\n",
        "SX = sc.fit_transform(X)\n",
        "SX"
      ],
      "execution_count": 12,
      "outputs": [
        {
          "output_type": "execute_result",
          "data": {
            "text/plain": [
              "array([[-1.34948954, -1.27772353],\n",
              "       [ 1.62186357, -1.24768301],\n",
              "       [-0.04952255, -0.55675101],\n",
              "       [ 0.13618702, -0.1361837 ],\n",
              "       [-1.34948954,  0.43458622],\n",
              "       [ 0.13618702, -0.10614318],\n",
              "       [ 0.13618702,  0.67491039],\n",
              "       [ 1.06473486,  2.65758484],\n",
              "       [-0.23523212, -0.85715623],\n",
              "       [ 1.62186357,  0.10414048],\n",
              "       [-0.04952255,  0.55474831],\n",
              "       [-0.04952255, -0.28638631],\n",
              "       [-1.16377997,  0.73499144],\n",
              "       [ 1.06473486, -1.30776406],\n",
              "       [-1.53519911,  0.61482935]])"
            ]
          },
          "metadata": {
            "tags": []
          },
          "execution_count": 12
        }
      ]
    },
    {
      "cell_type": "markdown",
      "metadata": {
        "id": "IJ_gIbCpy-qx",
        "colab_type": "text"
      },
      "source": [
        "# Without Feature Scaling"
      ]
    },
    {
      "cell_type": "code",
      "metadata": {
        "id": "HP7AxTJcYYvS",
        "colab_type": "code",
        "colab": {}
      },
      "source": [
        "# Model Tuner\n",
        "model_params = {\n",
        "        \"svc\":{\"model\":SVC(),\n",
        "                \"params\":{\"C\":[1, 5, 10],\n",
        "                          \"kernel\":[\"rbf\",\"poly\",\"linear\"]},\n",
        "                          \n",
        "            },\n",
        "        \"Random_Forest\":{\"model\":RandomForestClassifier(),\n",
        "                        \"params\":{\"n_estimators\":[10,50,100],\n",
        "                                  \"criterion\":[\"gini\",\"entropy\"]}\n",
        "                        },\n",
        "        \"Logistic_Regression\":{\"model\":LogisticRegression(),\n",
        "                               \"params\":{\"C\":[1,5,10]}\n",
        "                               },\n",
        "        \"Gaussian_NB\":{\"model\":GaussianNB(),\n",
        "                        \"params\":{}\n",
        "                        },\n",
        "         \"Multinomial_NB\":{\"model\":MultinomialNB(),\n",
        "                        \"params\":{}\n",
        "                        },\n",
        "         \"Bernoulli_NB\":{\"model\":BernoulliNB(),\n",
        "                        \"params\":{}\n",
        "                        },\n",
        "         \"K_NN\":{\"model\":KNeighborsClassifier(),\n",
        "                        \"params\":{\"n_neighbors\":[5, 7, 9]}\n",
        "                        },\n",
        "         \"DecisionTree_Classifier\":{\"model\":DecisionTreeClassifier(),\n",
        "                        \"params\":{\"criterion\":[\"gini\", \"entropy\"]}\n",
        "                        }\n",
        "                } \n",
        "               \n"
      ],
      "execution_count": 13,
      "outputs": []
    },
    {
      "cell_type": "code",
      "metadata": {
        "id": "SNLTqZsGYi8E",
        "colab_type": "code",
        "colab": {}
      },
      "source": [
        "# To run model_params we need for loop.\n",
        "score = []\n",
        "for model_name, mp in model_params.items():\n",
        "    classifier = GridSearchCV(mp[\"model\"], mp[\"params\"],\n",
        "                              cv = 5, return_train_score=False)\n",
        "    classifier.fit(X, y)\n",
        "    score.append({\"model\":model_name,\n",
        "                  \"best_score\":classifier.best_score_,\n",
        "                  \"best_params\" : classifier.best_params_})\n",
        "    \n",
        "df = pd.DataFrame(score, columns = [\"model\", \"best_score\", \"best_params\"])"
      ],
      "execution_count": 14,
      "outputs": []
    },
    {
      "cell_type": "markdown",
      "metadata": {
        "id": "QFqQ9qz2YpSj",
        "colab_type": "text"
      },
      "source": [
        "#The Best Model Is:(Without Feature Scaling)"
      ]
    },
    {
      "cell_type": "code",
      "metadata": {
        "id": "0dao3qiDYnTi",
        "colab_type": "code",
        "colab": {
          "base_uri": "https://localhost:8080/",
          "height": 138
        },
        "outputId": "dc3f1e66-4f78-4e6c-bb82-5471ca9fed34"
      },
      "source": [
        "\n",
        "df[[\"model\", \"best_params\",\"best_score\"]][df.best_score == df.best_score.max()]\n"
      ],
      "execution_count": 15,
      "outputs": [
        {
          "output_type": "execute_result",
          "data": {
            "text/html": [
              "<div>\n",
              "<style scoped>\n",
              "    .dataframe tbody tr th:only-of-type {\n",
              "        vertical-align: middle;\n",
              "    }\n",
              "\n",
              "    .dataframe tbody tr th {\n",
              "        vertical-align: top;\n",
              "    }\n",
              "\n",
              "    .dataframe thead th {\n",
              "        text-align: right;\n",
              "    }\n",
              "</style>\n",
              "<table border=\"1\" class=\"dataframe\">\n",
              "  <thead>\n",
              "    <tr style=\"text-align: right;\">\n",
              "      <th></th>\n",
              "      <th>model</th>\n",
              "      <th>best_params</th>\n",
              "      <th>best_score</th>\n",
              "    </tr>\n",
              "  </thead>\n",
              "  <tbody>\n",
              "    <tr>\n",
              "      <th>0</th>\n",
              "      <td>svc</td>\n",
              "      <td>{'C': 1, 'kernel': 'rbf'}</td>\n",
              "      <td>0.666667</td>\n",
              "    </tr>\n",
              "    <tr>\n",
              "      <th>5</th>\n",
              "      <td>Bernoulli_NB</td>\n",
              "      <td>{}</td>\n",
              "      <td>0.666667</td>\n",
              "    </tr>\n",
              "    <tr>\n",
              "      <th>6</th>\n",
              "      <td>K_NN</td>\n",
              "      <td>{'n_neighbors': 7}</td>\n",
              "      <td>0.666667</td>\n",
              "    </tr>\n",
              "  </tbody>\n",
              "</table>\n",
              "</div>"
            ],
            "text/plain": [
              "          model                best_params  best_score\n",
              "0           svc  {'C': 1, 'kernel': 'rbf'}    0.666667\n",
              "5  Bernoulli_NB                         {}    0.666667\n",
              "6          K_NN         {'n_neighbors': 7}    0.666667"
            ]
          },
          "metadata": {
            "tags": []
          },
          "execution_count": 15
        }
      ]
    },
    {
      "cell_type": "markdown",
      "metadata": {
        "id": "Iq7kW0pAYyRa",
        "colab_type": "text"
      },
      "source": [
        "# Other model Performances"
      ]
    },
    {
      "cell_type": "code",
      "metadata": {
        "id": "Dq4NDK1lY2nW",
        "colab_type": "code",
        "colab": {
          "base_uri": "https://localhost:8080/",
          "height": 288
        },
        "outputId": "3ec38e2c-cee4-4006-8c7c-b84749a7f1d4"
      },
      "source": [
        "df"
      ],
      "execution_count": 16,
      "outputs": [
        {
          "output_type": "execute_result",
          "data": {
            "text/html": [
              "<div>\n",
              "<style scoped>\n",
              "    .dataframe tbody tr th:only-of-type {\n",
              "        vertical-align: middle;\n",
              "    }\n",
              "\n",
              "    .dataframe tbody tr th {\n",
              "        vertical-align: top;\n",
              "    }\n",
              "\n",
              "    .dataframe thead th {\n",
              "        text-align: right;\n",
              "    }\n",
              "</style>\n",
              "<table border=\"1\" class=\"dataframe\">\n",
              "  <thead>\n",
              "    <tr style=\"text-align: right;\">\n",
              "      <th></th>\n",
              "      <th>model</th>\n",
              "      <th>best_score</th>\n",
              "      <th>best_params</th>\n",
              "    </tr>\n",
              "  </thead>\n",
              "  <tbody>\n",
              "    <tr>\n",
              "      <th>0</th>\n",
              "      <td>svc</td>\n",
              "      <td>0.666667</td>\n",
              "      <td>{'C': 1, 'kernel': 'rbf'}</td>\n",
              "    </tr>\n",
              "    <tr>\n",
              "      <th>1</th>\n",
              "      <td>Random_Forest</td>\n",
              "      <td>0.600000</td>\n",
              "      <td>{'criterion': 'gini', 'n_estimators': 10}</td>\n",
              "    </tr>\n",
              "    <tr>\n",
              "      <th>2</th>\n",
              "      <td>Logistic_Regression</td>\n",
              "      <td>0.600000</td>\n",
              "      <td>{'C': 1}</td>\n",
              "    </tr>\n",
              "    <tr>\n",
              "      <th>3</th>\n",
              "      <td>Gaussian_NB</td>\n",
              "      <td>0.533333</td>\n",
              "      <td>{}</td>\n",
              "    </tr>\n",
              "    <tr>\n",
              "      <th>4</th>\n",
              "      <td>Multinomial_NB</td>\n",
              "      <td>0.466667</td>\n",
              "      <td>{}</td>\n",
              "    </tr>\n",
              "    <tr>\n",
              "      <th>5</th>\n",
              "      <td>Bernoulli_NB</td>\n",
              "      <td>0.666667</td>\n",
              "      <td>{}</td>\n",
              "    </tr>\n",
              "    <tr>\n",
              "      <th>6</th>\n",
              "      <td>K_NN</td>\n",
              "      <td>0.666667</td>\n",
              "      <td>{'n_neighbors': 7}</td>\n",
              "    </tr>\n",
              "    <tr>\n",
              "      <th>7</th>\n",
              "      <td>DecisionTree_Classifier</td>\n",
              "      <td>0.400000</td>\n",
              "      <td>{'criterion': 'gini'}</td>\n",
              "    </tr>\n",
              "  </tbody>\n",
              "</table>\n",
              "</div>"
            ],
            "text/plain": [
              "                     model  ...                                best_params\n",
              "0                      svc  ...                  {'C': 1, 'kernel': 'rbf'}\n",
              "1            Random_Forest  ...  {'criterion': 'gini', 'n_estimators': 10}\n",
              "2      Logistic_Regression  ...                                   {'C': 1}\n",
              "3              Gaussian_NB  ...                                         {}\n",
              "4           Multinomial_NB  ...                                         {}\n",
              "5             Bernoulli_NB  ...                                         {}\n",
              "6                     K_NN  ...                         {'n_neighbors': 7}\n",
              "7  DecisionTree_Classifier  ...                      {'criterion': 'gini'}\n",
              "\n",
              "[8 rows x 3 columns]"
            ]
          },
          "metadata": {
            "tags": []
          },
          "execution_count": 16
        }
      ]
    },
    {
      "cell_type": "markdown",
      "metadata": {
        "id": "oew9XW5YzFQ3",
        "colab_type": "text"
      },
      "source": [
        "# With Feature Scaling\n"
      ]
    },
    {
      "cell_type": "code",
      "metadata": {
        "id": "WxR9JxbLzJka",
        "colab_type": "code",
        "colab": {}
      },
      "source": [
        "# Model Tuner\n",
        "model_params1 = {\n",
        "        \"svc\":{\"model\":SVC(),\n",
        "                \"params\":{\"C\":[1, 10, 20],\n",
        "                          \"kernel\":[\"rbf\",\"poly\",\"linear\"]},\n",
        "                          \n",
        "            },\n",
        "        \"Random_Forest\":{\"model\":RandomForestClassifier(),\n",
        "                        \"params\":{\"n_estimators\":[10,20,30],\n",
        "                                  \"criterion\":[\"gini\",\"entropy\"]}\n",
        "                        },\n",
        "        \"Logistic_Regression\":{\"model\":LogisticRegression(),\n",
        "                               \"params\":{\"C\":[1,5,10]}\n",
        "                               },\n",
        "        \"Gaussian_NB\":{\"model\":GaussianNB(),\n",
        "                        \"params\":{}\n",
        "                        },\n",
        "         \"Bernoulli_NB\":{\"model\":BernoulliNB(),\n",
        "                        \"params\":{}\n",
        "                        },\n",
        "         \"K_NN\":{\"model\":KNeighborsClassifier(),\n",
        "                        \"params\":{\"n_neighbors\":[5,7]}\n",
        "                        },\n",
        "         \"DecisionTree_Classifier\":{\"model\":DecisionTreeClassifier(),\n",
        "                        \"params\":{\"criterion\":[\"gini\", \"entropy\"]}\n",
        "                        }\n",
        "                } \n",
        "               \n"
      ],
      "execution_count": 17,
      "outputs": []
    },
    {
      "cell_type": "code",
      "metadata": {
        "id": "k6AxzYJlzecM",
        "colab_type": "code",
        "colab": {}
      },
      "source": [
        "# To run model_params we need for loop.\n",
        "score1 = []\n",
        "for model_name, mp in model_params1.items():\n",
        "    classifier1 = GridSearchCV(mp[\"model\"], mp[\"params\"],\n",
        "                              cv = 5, return_train_score=False)\n",
        "    classifier1.fit(SX, y)\n",
        "    score1.append({\"model\":model_name,\n",
        "                  \"best_score\":classifier1.best_score_,\n",
        "                  \"best_params\" : classifier1.best_params_})\n",
        "    \n",
        "df1 = pd.DataFrame(score1, columns = [\"model\", \"best_score\", \"best_params\"])"
      ],
      "execution_count": 27,
      "outputs": []
    },
    {
      "cell_type": "markdown",
      "metadata": {
        "id": "pm_CqfCTztgn",
        "colab_type": "text"
      },
      "source": [
        "# The Best Model is: (With Feature Scaling)"
      ]
    },
    {
      "cell_type": "code",
      "metadata": {
        "id": "t-HHx3g3zzeR",
        "colab_type": "code",
        "colab": {
          "base_uri": "https://localhost:8080/",
          "height": 138
        },
        "outputId": "c6f87db7-b050-46fc-b53d-235715ee7c9d"
      },
      "source": [
        "\n",
        "df1[[\"model\", \"best_params\",\"best_score\"]][df1.best_score == df1.best_score.max()]\n"
      ],
      "execution_count": 28,
      "outputs": [
        {
          "output_type": "execute_result",
          "data": {
            "text/html": [
              "<div>\n",
              "<style scoped>\n",
              "    .dataframe tbody tr th:only-of-type {\n",
              "        vertical-align: middle;\n",
              "    }\n",
              "\n",
              "    .dataframe tbody tr th {\n",
              "        vertical-align: top;\n",
              "    }\n",
              "\n",
              "    .dataframe thead th {\n",
              "        text-align: right;\n",
              "    }\n",
              "</style>\n",
              "<table border=\"1\" class=\"dataframe\">\n",
              "  <thead>\n",
              "    <tr style=\"text-align: right;\">\n",
              "      <th></th>\n",
              "      <th>model</th>\n",
              "      <th>best_params</th>\n",
              "      <th>best_score</th>\n",
              "    </tr>\n",
              "  </thead>\n",
              "  <tbody>\n",
              "    <tr>\n",
              "      <th>0</th>\n",
              "      <td>svc</td>\n",
              "      <td>{'C': 1, 'kernel': 'rbf'}</td>\n",
              "      <td>0.666667</td>\n",
              "    </tr>\n",
              "    <tr>\n",
              "      <th>4</th>\n",
              "      <td>Bernoulli_NB</td>\n",
              "      <td>{}</td>\n",
              "      <td>0.666667</td>\n",
              "    </tr>\n",
              "    <tr>\n",
              "      <th>5</th>\n",
              "      <td>K_NN</td>\n",
              "      <td>{'n_neighbors': 7}</td>\n",
              "      <td>0.666667</td>\n",
              "    </tr>\n",
              "  </tbody>\n",
              "</table>\n",
              "</div>"
            ],
            "text/plain": [
              "          model                best_params  best_score\n",
              "0           svc  {'C': 1, 'kernel': 'rbf'}    0.666667\n",
              "4  Bernoulli_NB                         {}    0.666667\n",
              "5          K_NN         {'n_neighbors': 7}    0.666667"
            ]
          },
          "metadata": {
            "tags": []
          },
          "execution_count": 28
        }
      ]
    },
    {
      "cell_type": "markdown",
      "metadata": {
        "id": "GsQsvWOR0CYF",
        "colab_type": "text"
      },
      "source": [
        "# Other Model performances!"
      ]
    },
    {
      "cell_type": "code",
      "metadata": {
        "id": "vN8BKwkOz_r6",
        "colab_type": "code",
        "colab": {
          "base_uri": "https://localhost:8080/",
          "height": 258
        },
        "outputId": "5b70e5f7-dabe-471b-cc68-e74c025b49ee"
      },
      "source": [
        "df1"
      ],
      "execution_count": 29,
      "outputs": [
        {
          "output_type": "execute_result",
          "data": {
            "text/html": [
              "<div>\n",
              "<style scoped>\n",
              "    .dataframe tbody tr th:only-of-type {\n",
              "        vertical-align: middle;\n",
              "    }\n",
              "\n",
              "    .dataframe tbody tr th {\n",
              "        vertical-align: top;\n",
              "    }\n",
              "\n",
              "    .dataframe thead th {\n",
              "        text-align: right;\n",
              "    }\n",
              "</style>\n",
              "<table border=\"1\" class=\"dataframe\">\n",
              "  <thead>\n",
              "    <tr style=\"text-align: right;\">\n",
              "      <th></th>\n",
              "      <th>model</th>\n",
              "      <th>best_score</th>\n",
              "      <th>best_params</th>\n",
              "    </tr>\n",
              "  </thead>\n",
              "  <tbody>\n",
              "    <tr>\n",
              "      <th>0</th>\n",
              "      <td>svc</td>\n",
              "      <td>0.666667</td>\n",
              "      <td>{'C': 1, 'kernel': 'rbf'}</td>\n",
              "    </tr>\n",
              "    <tr>\n",
              "      <th>1</th>\n",
              "      <td>Random_Forest</td>\n",
              "      <td>0.533333</td>\n",
              "      <td>{'criterion': 'gini', 'n_estimators': 10}</td>\n",
              "    </tr>\n",
              "    <tr>\n",
              "      <th>2</th>\n",
              "      <td>Logistic_Regression</td>\n",
              "      <td>0.600000</td>\n",
              "      <td>{'C': 1}</td>\n",
              "    </tr>\n",
              "    <tr>\n",
              "      <th>3</th>\n",
              "      <td>Gaussian_NB</td>\n",
              "      <td>0.533333</td>\n",
              "      <td>{}</td>\n",
              "    </tr>\n",
              "    <tr>\n",
              "      <th>4</th>\n",
              "      <td>Bernoulli_NB</td>\n",
              "      <td>0.666667</td>\n",
              "      <td>{}</td>\n",
              "    </tr>\n",
              "    <tr>\n",
              "      <th>5</th>\n",
              "      <td>K_NN</td>\n",
              "      <td>0.666667</td>\n",
              "      <td>{'n_neighbors': 7}</td>\n",
              "    </tr>\n",
              "    <tr>\n",
              "      <th>6</th>\n",
              "      <td>DecisionTree_Classifier</td>\n",
              "      <td>0.400000</td>\n",
              "      <td>{'criterion': 'gini'}</td>\n",
              "    </tr>\n",
              "  </tbody>\n",
              "</table>\n",
              "</div>"
            ],
            "text/plain": [
              "                     model  ...                                best_params\n",
              "0                      svc  ...                  {'C': 1, 'kernel': 'rbf'}\n",
              "1            Random_Forest  ...  {'criterion': 'gini', 'n_estimators': 10}\n",
              "2      Logistic_Regression  ...                                   {'C': 1}\n",
              "3              Gaussian_NB  ...                                         {}\n",
              "4             Bernoulli_NB  ...                                         {}\n",
              "5                     K_NN  ...                         {'n_neighbors': 7}\n",
              "6  DecisionTree_Classifier  ...                      {'criterion': 'gini'}\n",
              "\n",
              "[7 rows x 3 columns]"
            ]
          },
          "metadata": {
            "tags": []
          },
          "execution_count": 29
        }
      ]
    }
  ]
}