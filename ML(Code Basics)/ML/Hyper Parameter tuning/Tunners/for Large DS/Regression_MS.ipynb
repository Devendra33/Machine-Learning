{
  "nbformat": 4,
  "nbformat_minor": 0,
  "metadata": {
    "colab": {
      "name": "Regression_MS.ipynb",
      "provenance": [],
      "toc_visible": true
    },
    "kernelspec": {
      "name": "python3",
      "display_name": "Python 3"
    }
  },
  "cells": [
    {
      "cell_type": "markdown",
      "metadata": {
        "id": "RW4awY8DcoHN",
        "colab_type": "text"
      },
      "source": [
        "#Regression Model selection \n"
      ]
    },
    {
      "cell_type": "markdown",
      "metadata": {
        "id": "G6fdDqZcBk2b",
        "colab_type": "text"
      },
      "source": [
        "# For Large Datasets"
      ]
    },
    {
      "cell_type": "code",
      "metadata": {
        "id": "SqHi2wo9d7RT",
        "colab_type": "code",
        "colab": {}
      },
      "source": [
        "# Required packages! \n",
        "\n",
        "import pandas as pd\n",
        "import numpy as np\n",
        "import matplotlib.pyplot as plt\n",
        "from sklearn.preprocessing import LabelEncoder, OneHotEncoder, PolynomialFeatures, StandardScaler\n",
        "from sklearn.linear_model import LinearRegression\n",
        "from sklearn.svm import SVR\n",
        "from sklearn.tree import DecisionTreeRegressor\n",
        "from sklearn.ensemble import RandomForestRegressor\n",
        "from sklearn.model_selection import train_test_split, RandomizedSearchCV, cross_val_score\n"
      ],
      "execution_count": null,
      "outputs": []
    },
    {
      "cell_type": "code",
      "metadata": {
        "id": "EWUBTi8meCwC",
        "colab_type": "code",
        "colab": {}
      },
      "source": [
        "# importing the dataset\n",
        "ds = pd.read_csv(\"Salary_Data.csv\")  # change file name of any preprocessed file\n",
        "X = ds.iloc[:, :-1].values\n",
        "y = ds.iloc[:, -1].values"
      ],
      "execution_count": null,
      "outputs": []
    },
    {
      "cell_type": "code",
      "metadata": {
        "id": "R3nMFvLLi__R",
        "colab_type": "code",
        "colab": {}
      },
      "source": [
        "# for Support Vector machines or whose ever model which required feature scaling.\n",
        "y1 = ds.iloc[:,-1].values\n",
        "y1 = y1.reshape(len(y1), 1)\n"
      ],
      "execution_count": null,
      "outputs": []
    },
    {
      "cell_type": "code",
      "metadata": {
        "id": "AFJmCdWsjxxM",
        "colab_type": "code",
        "colab": {}
      },
      "source": [
        "# scaling for support vector\n",
        "sc_x = StandardScaler()\n",
        "sc_y = StandardScaler()\n",
        "\n",
        "SX = sc_x.fit_transform(X)\n",
        "SY = sc_y.fit_transform(y1)\n"
      ],
      "execution_count": null,
      "outputs": []
    },
    {
      "cell_type": "code",
      "metadata": {
        "id": "2NG_hBX9lQEM",
        "colab_type": "code",
        "colab": {}
      },
      "source": [
        "# for polynomial Regression\n",
        "x_poly = PolynomialFeatures(degree = 2)  # degree can be change\n",
        "X_poly = x_poly.fit_transform(X)\n",
        "SX_poly = x_poly.fit_transform(SX)"
      ],
      "execution_count": null,
      "outputs": []
    },
    {
      "cell_type": "markdown",
      "metadata": {
        "id": "Hbop649wCkRL",
        "colab_type": "text"
      },
      "source": [
        "# Without Feature Scaling"
      ]
    },
    {
      "cell_type": "code",
      "metadata": {
        "id": "DE4MPW1rg8FS",
        "colab_type": "code",
        "colab": {
          "base_uri": "https://localhost:8080/",
          "height": 680
        },
        "outputId": "357e4e9a-95c3-4c5f-d630-3697e35a752f"
      },
      "source": [
        "# NOW applying GridSearchCV for Hyperparameter tuning and selecting the best model.\n",
        "model_params = {\n",
        "        \"Random_Forest_Reg\":{\"model\":RandomForestRegressor(),\n",
        "                        \"params\":{\"n_estimators\":[10, 25, 50, 75, 100],\n",
        "                                  \"criterion\":[\"mse\", \"mae\"]}\n",
        "                        },\n",
        "        \"Linear_Reg\":{\"model\":LinearRegression(),\n",
        "                               \"params\":{\"normalize\": [True, False]}\n",
        "                               },\n",
        "        \"DecisionTree_Reg\":{\"model\":DecisionTreeRegressor(),\n",
        "                        \"params\":{\"criterion\":[\"mse\", \"friedman_mse\", \"mae\"]}\n",
        "                        }\n",
        "                } \n",
        "# for  svc\n",
        "model_params1 = {\n",
        "        \"svr\":{\"model\":SVR(),\n",
        "                \"params\":{\"kernel\":['linear', 'poly', 'rbf'],\n",
        "                          \"C\":[1.0, 1.5, 2.0, 2.5, 3.0, 3.5, 4.0]}\n",
        "                        }}\n",
        "\n",
        "# for Polynomial Regression\n",
        "model_params2 = {\n",
        "        \"Poly_Reg\":{\"model\":LinearRegression(),\n",
        "                \"params\":{\"normalize\":[True, False]}\n",
        "                        }}\n",
        "\n",
        "# To run model_params we need for loop.\n",
        "score = []\n",
        "for model_name, mp in model_params.items():\n",
        "    classifier = RandomizedSearchCV(mp[\"model\"], mp[\"params\"],\n",
        "                              cv = 5, return_train_score=False, n_iter = 3)\n",
        "    classifier.fit(X, y)\n",
        "    score.append({\"model\":model_name,\n",
        "                  \"best_score\":classifier.best_score_,\n",
        "                  \"best_params\" : classifier.best_params_})\n",
        "    \n",
        "# for svc\n",
        "for model_name, mp in model_params1.items():\n",
        "    classifier = RandomizedSearchCV(mp[\"model\"], mp[\"params\"],\n",
        "                              cv = 5, return_train_score=False, n_iter = 3)\n",
        "    classifier.fit(SX, SY)\n",
        "    score.append({\"model\":model_name,\n",
        "                  \"best_score\":classifier.best_score_,\n",
        "                  \"best_params\" : classifier.best_params_})\n",
        "\n",
        "# for polynomial regression \n",
        "for model_name, mp in model_params2.items():\n",
        "    classifier = RandomizedSearchCV(mp[\"model\"], mp[\"params\"],\n",
        "                              cv = 5, return_train_score=False, n_iter = 3)\n",
        "    classifier.fit(X_poly, y)\n",
        "    score.append({\"model\":model_name,\n",
        "                  \"best_score\":classifier.best_score_,\n",
        "                  \"best_params\" : classifier.best_params_})\n",
        "\n",
        "\n",
        "df = pd.DataFrame(score, columns = [\"model\", \"best_score\", \"best_params\"])\n",
        "\n"
      ],
      "execution_count": null,
      "outputs": [
        {
          "output_type": "stream",
          "text": [
            "/usr/local/lib/python3.6/dist-packages/sklearn/model_selection/_search.py:281: UserWarning: The total space of parameters 2 is smaller than n_iter=3. Running 2 iterations. For exhaustive searches, use GridSearchCV.\n",
            "  % (grid_size, self.n_iter, grid_size), UserWarning)\n",
            "/usr/local/lib/python3.6/dist-packages/sklearn/utils/validation.py:760: DataConversionWarning: A column-vector y was passed when a 1d array was expected. Please change the shape of y to (n_samples, ), for example using ravel().\n",
            "  y = column_or_1d(y, warn=True)\n",
            "/usr/local/lib/python3.6/dist-packages/sklearn/utils/validation.py:760: DataConversionWarning: A column-vector y was passed when a 1d array was expected. Please change the shape of y to (n_samples, ), for example using ravel().\n",
            "  y = column_or_1d(y, warn=True)\n",
            "/usr/local/lib/python3.6/dist-packages/sklearn/utils/validation.py:760: DataConversionWarning: A column-vector y was passed when a 1d array was expected. Please change the shape of y to (n_samples, ), for example using ravel().\n",
            "  y = column_or_1d(y, warn=True)\n",
            "/usr/local/lib/python3.6/dist-packages/sklearn/utils/validation.py:760: DataConversionWarning: A column-vector y was passed when a 1d array was expected. Please change the shape of y to (n_samples, ), for example using ravel().\n",
            "  y = column_or_1d(y, warn=True)\n",
            "/usr/local/lib/python3.6/dist-packages/sklearn/utils/validation.py:760: DataConversionWarning: A column-vector y was passed when a 1d array was expected. Please change the shape of y to (n_samples, ), for example using ravel().\n",
            "  y = column_or_1d(y, warn=True)\n",
            "/usr/local/lib/python3.6/dist-packages/sklearn/utils/validation.py:760: DataConversionWarning: A column-vector y was passed when a 1d array was expected. Please change the shape of y to (n_samples, ), for example using ravel().\n",
            "  y = column_or_1d(y, warn=True)\n",
            "/usr/local/lib/python3.6/dist-packages/sklearn/utils/validation.py:760: DataConversionWarning: A column-vector y was passed when a 1d array was expected. Please change the shape of y to (n_samples, ), for example using ravel().\n",
            "  y = column_or_1d(y, warn=True)\n",
            "/usr/local/lib/python3.6/dist-packages/sklearn/utils/validation.py:760: DataConversionWarning: A column-vector y was passed when a 1d array was expected. Please change the shape of y to (n_samples, ), for example using ravel().\n",
            "  y = column_or_1d(y, warn=True)\n",
            "/usr/local/lib/python3.6/dist-packages/sklearn/utils/validation.py:760: DataConversionWarning: A column-vector y was passed when a 1d array was expected. Please change the shape of y to (n_samples, ), for example using ravel().\n",
            "  y = column_or_1d(y, warn=True)\n",
            "/usr/local/lib/python3.6/dist-packages/sklearn/utils/validation.py:760: DataConversionWarning: A column-vector y was passed when a 1d array was expected. Please change the shape of y to (n_samples, ), for example using ravel().\n",
            "  y = column_or_1d(y, warn=True)\n",
            "/usr/local/lib/python3.6/dist-packages/sklearn/utils/validation.py:760: DataConversionWarning: A column-vector y was passed when a 1d array was expected. Please change the shape of y to (n_samples, ), for example using ravel().\n",
            "  y = column_or_1d(y, warn=True)\n",
            "/usr/local/lib/python3.6/dist-packages/sklearn/utils/validation.py:760: DataConversionWarning: A column-vector y was passed when a 1d array was expected. Please change the shape of y to (n_samples, ), for example using ravel().\n",
            "  y = column_or_1d(y, warn=True)\n",
            "/usr/local/lib/python3.6/dist-packages/sklearn/utils/validation.py:760: DataConversionWarning: A column-vector y was passed when a 1d array was expected. Please change the shape of y to (n_samples, ), for example using ravel().\n",
            "  y = column_or_1d(y, warn=True)\n",
            "/usr/local/lib/python3.6/dist-packages/sklearn/utils/validation.py:760: DataConversionWarning: A column-vector y was passed when a 1d array was expected. Please change the shape of y to (n_samples, ), for example using ravel().\n",
            "  y = column_or_1d(y, warn=True)\n",
            "/usr/local/lib/python3.6/dist-packages/sklearn/utils/validation.py:760: DataConversionWarning: A column-vector y was passed when a 1d array was expected. Please change the shape of y to (n_samples, ), for example using ravel().\n",
            "  y = column_or_1d(y, warn=True)\n",
            "/usr/local/lib/python3.6/dist-packages/sklearn/utils/validation.py:760: DataConversionWarning: A column-vector y was passed when a 1d array was expected. Please change the shape of y to (n_samples, ), for example using ravel().\n",
            "  y = column_or_1d(y, warn=True)\n",
            "/usr/local/lib/python3.6/dist-packages/sklearn/model_selection/_search.py:281: UserWarning: The total space of parameters 2 is smaller than n_iter=3. Running 2 iterations. For exhaustive searches, use GridSearchCV.\n",
            "  % (grid_size, self.n_iter, grid_size), UserWarning)\n"
          ],
          "name": "stderr"
        }
      ]
    },
    {
      "cell_type": "markdown",
      "metadata": {
        "id": "kjfozQNjGF5h",
        "colab_type": "text"
      },
      "source": [
        "# Shows the Best model"
      ]
    },
    {
      "cell_type": "code",
      "metadata": {
        "id": "pZAXJS4uyda2",
        "colab_type": "code",
        "colab": {
          "base_uri": "https://localhost:8080/",
          "height": 78
        },
        "outputId": "aa4e8de6-206e-47dc-de89-0f30fdb75aad"
      },
      "source": [
        "\n",
        "df[[\"model\", \"best_params\",\"best_score\"]][df.best_score == df.best_score.max()]\n"
      ],
      "execution_count": null,
      "outputs": [
        {
          "output_type": "execute_result",
          "data": {
            "text/html": [
              "<div>\n",
              "<style scoped>\n",
              "    .dataframe tbody tr th:only-of-type {\n",
              "        vertical-align: middle;\n",
              "    }\n",
              "\n",
              "    .dataframe tbody tr th {\n",
              "        vertical-align: top;\n",
              "    }\n",
              "\n",
              "    .dataframe thead th {\n",
              "        text-align: right;\n",
              "    }\n",
              "</style>\n",
              "<table border=\"1\" class=\"dataframe\">\n",
              "  <thead>\n",
              "    <tr style=\"text-align: right;\">\n",
              "      <th></th>\n",
              "      <th>model</th>\n",
              "      <th>best_params</th>\n",
              "      <th>best_score</th>\n",
              "    </tr>\n",
              "  </thead>\n",
              "  <tbody>\n",
              "    <tr>\n",
              "      <th>3</th>\n",
              "      <td>svr</td>\n",
              "      <td>{'kernel': 'linear', 'C': 1.0}</td>\n",
              "      <td>0.033265</td>\n",
              "    </tr>\n",
              "  </tbody>\n",
              "</table>\n",
              "</div>"
            ],
            "text/plain": [
              "  model                     best_params  best_score\n",
              "3   svr  {'kernel': 'linear', 'C': 1.0}    0.033265"
            ]
          },
          "metadata": {
            "tags": []
          },
          "execution_count": 56
        }
      ]
    },
    {
      "cell_type": "markdown",
      "metadata": {
        "id": "zwHvJMmJGJT3",
        "colab_type": "text"
      },
      "source": [
        "# Shows all model performances."
      ]
    },
    {
      "cell_type": "code",
      "metadata": {
        "id": "wRuQnqPyt5GO",
        "colab_type": "code",
        "colab": {
          "base_uri": "https://localhost:8080/",
          "height": 198
        },
        "outputId": "9585c809-42c0-4e54-fe02-ce99da2e1915"
      },
      "source": [
        "df.sort_values(\"best_score\", ascending = False)  "
      ],
      "execution_count": null,
      "outputs": [
        {
          "output_type": "execute_result",
          "data": {
            "text/html": [
              "<div>\n",
              "<style scoped>\n",
              "    .dataframe tbody tr th:only-of-type {\n",
              "        vertical-align: middle;\n",
              "    }\n",
              "\n",
              "    .dataframe tbody tr th {\n",
              "        vertical-align: top;\n",
              "    }\n",
              "\n",
              "    .dataframe thead th {\n",
              "        text-align: right;\n",
              "    }\n",
              "</style>\n",
              "<table border=\"1\" class=\"dataframe\">\n",
              "  <thead>\n",
              "    <tr style=\"text-align: right;\">\n",
              "      <th></th>\n",
              "      <th>model</th>\n",
              "      <th>best_score</th>\n",
              "      <th>best_params</th>\n",
              "    </tr>\n",
              "  </thead>\n",
              "  <tbody>\n",
              "    <tr>\n",
              "      <th>3</th>\n",
              "      <td>svr</td>\n",
              "      <td>0.033265</td>\n",
              "      <td>{'kernel': 'linear', 'C': 1.0}</td>\n",
              "    </tr>\n",
              "    <tr>\n",
              "      <th>1</th>\n",
              "      <td>Linear_Reg</td>\n",
              "      <td>-0.053364</td>\n",
              "      <td>{'normalize': False}</td>\n",
              "    </tr>\n",
              "    <tr>\n",
              "      <th>2</th>\n",
              "      <td>DecisionTree_Reg</td>\n",
              "      <td>-1.312027</td>\n",
              "      <td>{'criterion': 'mse'}</td>\n",
              "    </tr>\n",
              "    <tr>\n",
              "      <th>0</th>\n",
              "      <td>Random_Forest_Reg</td>\n",
              "      <td>-1.507813</td>\n",
              "      <td>{'n_estimators': 50, 'criterion': 'mse'}</td>\n",
              "    </tr>\n",
              "    <tr>\n",
              "      <th>4</th>\n",
              "      <td>Poly_Reg</td>\n",
              "      <td>-2.073959</td>\n",
              "      <td>{'normalize': True}</td>\n",
              "    </tr>\n",
              "  </tbody>\n",
              "</table>\n",
              "</div>"
            ],
            "text/plain": [
              "               model  best_score                               best_params\n",
              "3                svr    0.033265            {'kernel': 'linear', 'C': 1.0}\n",
              "1         Linear_Reg   -0.053364                      {'normalize': False}\n",
              "2   DecisionTree_Reg   -1.312027                      {'criterion': 'mse'}\n",
              "0  Random_Forest_Reg   -1.507813  {'n_estimators': 50, 'criterion': 'mse'}\n",
              "4           Poly_Reg   -2.073959                       {'normalize': True}"
            ]
          },
          "metadata": {
            "tags": []
          },
          "execution_count": 57
        }
      ]
    },
    {
      "cell_type": "markdown",
      "metadata": {
        "id": "5jq_Pue8D7Bx",
        "colab_type": "text"
      },
      "source": [
        "# Self increasing the efficiency by tunning"
      ]
    },
    {
      "cell_type": "code",
      "metadata": {
        "id": "YunQSThpECAN",
        "colab_type": "code",
        "colab": {}
      },
      "source": [
        "# cross_val_score()"
      ],
      "execution_count": null,
      "outputs": []
    },
    {
      "cell_type": "markdown",
      "metadata": {
        "id": "fNDU9M7kF-cE",
        "colab_type": "text"
      },
      "source": [
        "#With Feature Scaling! "
      ]
    },
    {
      "cell_type": "code",
      "metadata": {
        "id": "5Chj5N0cCqyn",
        "colab_type": "code",
        "colab": {
          "base_uri": "https://localhost:8080/",
          "height": 680
        },
        "outputId": "cb7535a6-6574-49a7-c2ab-f36869143da4"
      },
      "source": [
        "# for all other models\n",
        "# we do not need svr here because it already gives us result with Feature scaling above.\n",
        "score1 = []\n",
        "for model_name, mp in model_params.items():\n",
        "    classifier1 = RandomizedSearchCV(mp[\"model\"], mp[\"params\"],\n",
        "                              cv = 5, return_train_score=False, n_iter = 3)\n",
        "    classifier1.fit(SX, SY)\n",
        "    score1.append({\"model\":model_name,\n",
        "                  \"best_score\":classifier1.best_score_,\n",
        "                  \"best_params\" : classifier1.best_params_})\n",
        "    \n",
        "# for polynomial regression    \n",
        "for model_name, mp in model_params2.items():\n",
        "    classifier1 = RandomizedSearchCV(mp[\"model\"], mp[\"params\"],\n",
        "                              cv = 5, return_train_score=False, n_iter = 3)\n",
        "    classifier1.fit(SX_poly, SY)\n",
        "    score1.append({\"model\":model_name,\n",
        "                  \"best_score\":classifier1.best_score_,\n",
        "                  \"best_params\" :classifier1.best_params_})\n",
        "df1 = pd.DataFrame(score1, columns = [\"model\", \"best_score\", \"best_params\"])\n"
      ],
      "execution_count": null,
      "outputs": [
        {
          "output_type": "stream",
          "text": [
            "/usr/local/lib/python3.6/dist-packages/sklearn/model_selection/_validation.py:515: DataConversionWarning: A column-vector y was passed when a 1d array was expected. Please change the shape of y to (n_samples,), for example using ravel().\n",
            "  estimator.fit(X_train, y_train, **fit_params)\n",
            "/usr/local/lib/python3.6/dist-packages/sklearn/model_selection/_validation.py:515: DataConversionWarning: A column-vector y was passed when a 1d array was expected. Please change the shape of y to (n_samples,), for example using ravel().\n",
            "  estimator.fit(X_train, y_train, **fit_params)\n",
            "/usr/local/lib/python3.6/dist-packages/sklearn/model_selection/_validation.py:515: DataConversionWarning: A column-vector y was passed when a 1d array was expected. Please change the shape of y to (n_samples,), for example using ravel().\n",
            "  estimator.fit(X_train, y_train, **fit_params)\n",
            "/usr/local/lib/python3.6/dist-packages/sklearn/model_selection/_validation.py:515: DataConversionWarning: A column-vector y was passed when a 1d array was expected. Please change the shape of y to (n_samples,), for example using ravel().\n",
            "  estimator.fit(X_train, y_train, **fit_params)\n",
            "/usr/local/lib/python3.6/dist-packages/sklearn/model_selection/_validation.py:515: DataConversionWarning: A column-vector y was passed when a 1d array was expected. Please change the shape of y to (n_samples,), for example using ravel().\n",
            "  estimator.fit(X_train, y_train, **fit_params)\n",
            "/usr/local/lib/python3.6/dist-packages/sklearn/model_selection/_validation.py:515: DataConversionWarning: A column-vector y was passed when a 1d array was expected. Please change the shape of y to (n_samples,), for example using ravel().\n",
            "  estimator.fit(X_train, y_train, **fit_params)\n",
            "/usr/local/lib/python3.6/dist-packages/sklearn/model_selection/_validation.py:515: DataConversionWarning: A column-vector y was passed when a 1d array was expected. Please change the shape of y to (n_samples,), for example using ravel().\n",
            "  estimator.fit(X_train, y_train, **fit_params)\n",
            "/usr/local/lib/python3.6/dist-packages/sklearn/model_selection/_validation.py:515: DataConversionWarning: A column-vector y was passed when a 1d array was expected. Please change the shape of y to (n_samples,), for example using ravel().\n",
            "  estimator.fit(X_train, y_train, **fit_params)\n",
            "/usr/local/lib/python3.6/dist-packages/sklearn/model_selection/_validation.py:515: DataConversionWarning: A column-vector y was passed when a 1d array was expected. Please change the shape of y to (n_samples,), for example using ravel().\n",
            "  estimator.fit(X_train, y_train, **fit_params)\n",
            "/usr/local/lib/python3.6/dist-packages/sklearn/model_selection/_validation.py:515: DataConversionWarning: A column-vector y was passed when a 1d array was expected. Please change the shape of y to (n_samples,), for example using ravel().\n",
            "  estimator.fit(X_train, y_train, **fit_params)\n",
            "/usr/local/lib/python3.6/dist-packages/sklearn/model_selection/_validation.py:515: DataConversionWarning: A column-vector y was passed when a 1d array was expected. Please change the shape of y to (n_samples,), for example using ravel().\n",
            "  estimator.fit(X_train, y_train, **fit_params)\n",
            "/usr/local/lib/python3.6/dist-packages/sklearn/model_selection/_validation.py:515: DataConversionWarning: A column-vector y was passed when a 1d array was expected. Please change the shape of y to (n_samples,), for example using ravel().\n",
            "  estimator.fit(X_train, y_train, **fit_params)\n",
            "/usr/local/lib/python3.6/dist-packages/sklearn/model_selection/_validation.py:515: DataConversionWarning: A column-vector y was passed when a 1d array was expected. Please change the shape of y to (n_samples,), for example using ravel().\n",
            "  estimator.fit(X_train, y_train, **fit_params)\n",
            "/usr/local/lib/python3.6/dist-packages/sklearn/model_selection/_validation.py:515: DataConversionWarning: A column-vector y was passed when a 1d array was expected. Please change the shape of y to (n_samples,), for example using ravel().\n",
            "  estimator.fit(X_train, y_train, **fit_params)\n",
            "/usr/local/lib/python3.6/dist-packages/sklearn/model_selection/_validation.py:515: DataConversionWarning: A column-vector y was passed when a 1d array was expected. Please change the shape of y to (n_samples,), for example using ravel().\n",
            "  estimator.fit(X_train, y_train, **fit_params)\n",
            "/usr/local/lib/python3.6/dist-packages/sklearn/model_selection/_search.py:739: DataConversionWarning: A column-vector y was passed when a 1d array was expected. Please change the shape of y to (n_samples,), for example using ravel().\n",
            "  self.best_estimator_.fit(X, y, **fit_params)\n",
            "/usr/local/lib/python3.6/dist-packages/sklearn/model_selection/_search.py:281: UserWarning: The total space of parameters 2 is smaller than n_iter=3. Running 2 iterations. For exhaustive searches, use GridSearchCV.\n",
            "  % (grid_size, self.n_iter, grid_size), UserWarning)\n",
            "/usr/local/lib/python3.6/dist-packages/sklearn/model_selection/_search.py:281: UserWarning: The total space of parameters 2 is smaller than n_iter=3. Running 2 iterations. For exhaustive searches, use GridSearchCV.\n",
            "  % (grid_size, self.n_iter, grid_size), UserWarning)\n"
          ],
          "name": "stderr"
        }
      ]
    },
    {
      "cell_type": "markdown",
      "metadata": {
        "id": "jLDKnI9MGUdF",
        "colab_type": "text"
      },
      "source": [
        "# Shows the Best Models"
      ]
    },
    {
      "cell_type": "code",
      "metadata": {
        "id": "p-egGRKNGMJG",
        "colab_type": "code",
        "colab": {
          "base_uri": "https://localhost:8080/",
          "height": 78
        },
        "outputId": "e3e1fc16-0bc5-4438-d12c-4f4fe12d6e07"
      },
      "source": [
        "\n",
        "df1[[\"model\", \"best_params\",\"best_score\"]][df1.best_score == df1.best_score.max()]\n"
      ],
      "execution_count": null,
      "outputs": [
        {
          "output_type": "execute_result",
          "data": {
            "text/html": [
              "<div>\n",
              "<style scoped>\n",
              "    .dataframe tbody tr th:only-of-type {\n",
              "        vertical-align: middle;\n",
              "    }\n",
              "\n",
              "    .dataframe tbody tr th {\n",
              "        vertical-align: top;\n",
              "    }\n",
              "\n",
              "    .dataframe thead th {\n",
              "        text-align: right;\n",
              "    }\n",
              "</style>\n",
              "<table border=\"1\" class=\"dataframe\">\n",
              "  <thead>\n",
              "    <tr style=\"text-align: right;\">\n",
              "      <th></th>\n",
              "      <th>model</th>\n",
              "      <th>best_params</th>\n",
              "      <th>best_score</th>\n",
              "    </tr>\n",
              "  </thead>\n",
              "  <tbody>\n",
              "    <tr>\n",
              "      <th>1</th>\n",
              "      <td>Linear_Reg</td>\n",
              "      <td>{'normalize': False}</td>\n",
              "      <td>-0.053364</td>\n",
              "    </tr>\n",
              "  </tbody>\n",
              "</table>\n",
              "</div>"
            ],
            "text/plain": [
              "        model           best_params  best_score\n",
              "1  Linear_Reg  {'normalize': False}   -0.053364"
            ]
          },
          "metadata": {
            "tags": []
          },
          "execution_count": 59
        }
      ]
    },
    {
      "cell_type": "markdown",
      "metadata": {
        "id": "wetIj3qcGVtr",
        "colab_type": "text"
      },
      "source": [
        "# show other models performances"
      ]
    },
    {
      "cell_type": "code",
      "metadata": {
        "id": "2LmXBzkNGaY0",
        "colab_type": "code",
        "colab": {
          "base_uri": "https://localhost:8080/",
          "height": 168
        },
        "outputId": "47fd1bd0-47b6-4e34-fffb-bedc47400f72"
      },
      "source": [
        "df1.sort_values(\"best_score\", ascending = False)"
      ],
      "execution_count": null,
      "outputs": [
        {
          "output_type": "execute_result",
          "data": {
            "text/html": [
              "<div>\n",
              "<style scoped>\n",
              "    .dataframe tbody tr th:only-of-type {\n",
              "        vertical-align: middle;\n",
              "    }\n",
              "\n",
              "    .dataframe tbody tr th {\n",
              "        vertical-align: top;\n",
              "    }\n",
              "\n",
              "    .dataframe thead th {\n",
              "        text-align: right;\n",
              "    }\n",
              "</style>\n",
              "<table border=\"1\" class=\"dataframe\">\n",
              "  <thead>\n",
              "    <tr style=\"text-align: right;\">\n",
              "      <th></th>\n",
              "      <th>model</th>\n",
              "      <th>best_score</th>\n",
              "      <th>best_params</th>\n",
              "    </tr>\n",
              "  </thead>\n",
              "  <tbody>\n",
              "    <tr>\n",
              "      <th>1</th>\n",
              "      <td>Linear_Reg</td>\n",
              "      <td>-0.053364</td>\n",
              "      <td>{'normalize': False}</td>\n",
              "    </tr>\n",
              "    <tr>\n",
              "      <th>2</th>\n",
              "      <td>DecisionTree_Reg</td>\n",
              "      <td>-1.312027</td>\n",
              "      <td>{'criterion': 'mse'}</td>\n",
              "    </tr>\n",
              "    <tr>\n",
              "      <th>0</th>\n",
              "      <td>Random_Forest_Reg</td>\n",
              "      <td>-1.419219</td>\n",
              "      <td>{'n_estimators': 50, 'criterion': 'mse'}</td>\n",
              "    </tr>\n",
              "    <tr>\n",
              "      <th>3</th>\n",
              "      <td>Poly_Reg</td>\n",
              "      <td>-2.073959</td>\n",
              "      <td>{'normalize': True}</td>\n",
              "    </tr>\n",
              "  </tbody>\n",
              "</table>\n",
              "</div>"
            ],
            "text/plain": [
              "               model  best_score                               best_params\n",
              "1         Linear_Reg   -0.053364                      {'normalize': False}\n",
              "2   DecisionTree_Reg   -1.312027                      {'criterion': 'mse'}\n",
              "0  Random_Forest_Reg   -1.419219  {'n_estimators': 50, 'criterion': 'mse'}\n",
              "3           Poly_Reg   -2.073959                       {'normalize': True}"
            ]
          },
          "metadata": {
            "tags": []
          },
          "execution_count": 60
        }
      ]
    },
    {
      "cell_type": "markdown",
      "metadata": {
        "id": "LRbgmPYlEILI",
        "colab_type": "text"
      },
      "source": [
        "# Self increasing the efficiency by tunning"
      ]
    },
    {
      "cell_type": "code",
      "metadata": {
        "id": "-E2FyHUoEKhd",
        "colab_type": "code",
        "colab": {}
      },
      "source": [
        "# cross_val_score()"
      ],
      "execution_count": null,
      "outputs": []
    }
  ]
}