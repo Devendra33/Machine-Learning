{
  "nbformat": 4,
  "nbformat_minor": 0,
  "metadata": {
    "colab": {
      "name": "Classification_MS.ipynb",
      "provenance": [],
      "toc_visible": true
    },
    "kernelspec": {
      "name": "python3",
      "display_name": "Python 3"
    }
  },
  "cells": [
    {
      "cell_type": "markdown",
      "metadata": {
        "id": "cuvmYqBvWvMs",
        "colab_type": "text"
      },
      "source": [
        "# Classification Model Selection"
      ]
    },
    {
      "cell_type": "markdown",
      "metadata": {
        "id": "baGdzGGXykJ_",
        "colab_type": "text"
      },
      "source": [
        "# For Large Datasets"
      ]
    },
    {
      "cell_type": "code",
      "metadata": {
        "id": "CAXJempfXN8t",
        "colab_type": "code",
        "colab": {}
      },
      "source": [
        "# Required Packages\n",
        "import pandas as pd\n",
        "import numpy as np\n",
        "import matplotlib.pyplot as plt\n",
        "from sklearn.preprocessing import LabelEncoder, OneHotEncoder, StandardScaler, PolynomialFeatures\n",
        "from sklearn.linear_model import LogisticRegression\n",
        "from sklearn.model_selection import RandomizedSearchCV, cross_val_score\n",
        "from sklearn.neighbors import KNeighborsClassifier\n",
        "from sklearn.tree import DecisionTreeClassifier\n",
        "from sklearn.ensemble import RandomForestClassifier\n",
        "from sklearn.svm import SVC\n",
        "from sklearn.naive_bayes import GaussianNB, MultinomialNB, BernoulliNB"
      ],
      "execution_count": 13,
      "outputs": []
    },
    {
      "cell_type": "code",
      "metadata": {
        "id": "YNLBA-i7XSHs",
        "colab_type": "code",
        "colab": {}
      },
      "source": [
        "# importing the dataset\n",
        "ds = pd.read_csv(\"Social_Network_Ads.csv\", nrows=200)\n"
      ],
      "execution_count": 14,
      "outputs": []
    },
    {
      "cell_type": "markdown",
      "metadata": {
        "id": "PpFG-9eaXT0v",
        "colab_type": "text"
      },
      "source": [
        "# Data Preprocessing"
      ]
    },
    {
      "cell_type": "code",
      "metadata": {
        "id": "4uoKQJksXYUo",
        "colab_type": "code",
        "colab": {}
      },
      "source": [
        "# preprocessing if required\n"
      ],
      "execution_count": 15,
      "outputs": []
    },
    {
      "cell_type": "code",
      "metadata": {
        "id": "Rcm8QmxtXfP8",
        "colab_type": "code",
        "colab": {
          "base_uri": "https://localhost:8080/",
          "height": 1000
        },
        "outputId": "44c77f8a-bbb7-4c54-8538-e0da698e2a61"
      },
      "source": [
        "# splitting into dependent and independent variables\n",
        "X = ds.iloc[:, 2:4].values\n",
        "y = ds.iloc[:, -1].values\n",
        "X"
      ],
      "execution_count": 16,
      "outputs": [
        {
          "output_type": "execute_result",
          "data": {
            "text/plain": [
              "array([[    19,  19000],\n",
              "       [    35,  20000],\n",
              "       [    26,  43000],\n",
              "       [    27,  57000],\n",
              "       [    19,  76000],\n",
              "       [    27,  58000],\n",
              "       [    27,  84000],\n",
              "       [    32, 150000],\n",
              "       [    25,  33000],\n",
              "       [    35,  65000],\n",
              "       [    26,  80000],\n",
              "       [    26,  52000],\n",
              "       [    20,  86000],\n",
              "       [    32,  18000],\n",
              "       [    18,  82000],\n",
              "       [    29,  80000],\n",
              "       [    47,  25000],\n",
              "       [    45,  26000],\n",
              "       [    46,  28000],\n",
              "       [    48,  29000],\n",
              "       [    45,  22000],\n",
              "       [    47,  49000],\n",
              "       [    48,  41000],\n",
              "       [    45,  22000],\n",
              "       [    46,  23000],\n",
              "       [    47,  20000],\n",
              "       [    49,  28000],\n",
              "       [    47,  30000],\n",
              "       [    29,  43000],\n",
              "       [    31,  18000],\n",
              "       [    31,  74000],\n",
              "       [    27, 137000],\n",
              "       [    21,  16000],\n",
              "       [    28,  44000],\n",
              "       [    27,  90000],\n",
              "       [    35,  27000],\n",
              "       [    33,  28000],\n",
              "       [    30,  49000],\n",
              "       [    26,  72000],\n",
              "       [    27,  31000],\n",
              "       [    27,  17000],\n",
              "       [    33,  51000],\n",
              "       [    35, 108000],\n",
              "       [    30,  15000],\n",
              "       [    28,  84000],\n",
              "       [    23,  20000],\n",
              "       [    25,  79000],\n",
              "       [    27,  54000],\n",
              "       [    30, 135000],\n",
              "       [    31,  89000],\n",
              "       [    24,  32000],\n",
              "       [    18,  44000],\n",
              "       [    29,  83000],\n",
              "       [    35,  23000],\n",
              "       [    27,  58000],\n",
              "       [    24,  55000],\n",
              "       [    23,  48000],\n",
              "       [    28,  79000],\n",
              "       [    22,  18000],\n",
              "       [    32, 117000],\n",
              "       [    27,  20000],\n",
              "       [    25,  87000],\n",
              "       [    23,  66000],\n",
              "       [    32, 120000],\n",
              "       [    59,  83000],\n",
              "       [    24,  58000],\n",
              "       [    24,  19000],\n",
              "       [    23,  82000],\n",
              "       [    22,  63000],\n",
              "       [    31,  68000],\n",
              "       [    25,  80000],\n",
              "       [    24,  27000],\n",
              "       [    20,  23000],\n",
              "       [    33, 113000],\n",
              "       [    32,  18000],\n",
              "       [    34, 112000],\n",
              "       [    18,  52000],\n",
              "       [    22,  27000],\n",
              "       [    28,  87000],\n",
              "       [    26,  17000],\n",
              "       [    30,  80000],\n",
              "       [    39,  42000],\n",
              "       [    20,  49000],\n",
              "       [    35,  88000],\n",
              "       [    30,  62000],\n",
              "       [    31, 118000],\n",
              "       [    24,  55000],\n",
              "       [    28,  85000],\n",
              "       [    26,  81000],\n",
              "       [    35,  50000],\n",
              "       [    22,  81000],\n",
              "       [    30, 116000],\n",
              "       [    26,  15000],\n",
              "       [    29,  28000],\n",
              "       [    29,  83000],\n",
              "       [    35,  44000],\n",
              "       [    35,  25000],\n",
              "       [    28, 123000],\n",
              "       [    35,  73000],\n",
              "       [    28,  37000],\n",
              "       [    27,  88000],\n",
              "       [    28,  59000],\n",
              "       [    32,  86000],\n",
              "       [    33, 149000],\n",
              "       [    19,  21000],\n",
              "       [    21,  72000],\n",
              "       [    26,  35000],\n",
              "       [    27,  89000],\n",
              "       [    26,  86000],\n",
              "       [    38,  80000],\n",
              "       [    39,  71000],\n",
              "       [    37,  71000],\n",
              "       [    38,  61000],\n",
              "       [    37,  55000],\n",
              "       [    42,  80000],\n",
              "       [    40,  57000],\n",
              "       [    35,  75000],\n",
              "       [    36,  52000],\n",
              "       [    40,  59000],\n",
              "       [    41,  59000],\n",
              "       [    36,  75000],\n",
              "       [    37,  72000],\n",
              "       [    40,  75000],\n",
              "       [    35,  53000],\n",
              "       [    41,  51000],\n",
              "       [    39,  61000],\n",
              "       [    42,  65000],\n",
              "       [    26,  32000],\n",
              "       [    30,  17000],\n",
              "       [    26,  84000],\n",
              "       [    31,  58000],\n",
              "       [    33,  31000],\n",
              "       [    30,  87000],\n",
              "       [    21,  68000],\n",
              "       [    28,  55000],\n",
              "       [    23,  63000],\n",
              "       [    20,  82000],\n",
              "       [    30, 107000],\n",
              "       [    28,  59000],\n",
              "       [    19,  25000],\n",
              "       [    19,  85000],\n",
              "       [    18,  68000],\n",
              "       [    35,  59000],\n",
              "       [    30,  89000],\n",
              "       [    34,  25000],\n",
              "       [    24,  89000],\n",
              "       [    27,  96000],\n",
              "       [    41,  30000],\n",
              "       [    29,  61000],\n",
              "       [    20,  74000],\n",
              "       [    26,  15000],\n",
              "       [    41,  45000],\n",
              "       [    31,  76000],\n",
              "       [    36,  50000],\n",
              "       [    40,  47000],\n",
              "       [    31,  15000],\n",
              "       [    46,  59000],\n",
              "       [    29,  75000],\n",
              "       [    26,  30000],\n",
              "       [    32, 135000],\n",
              "       [    32, 100000],\n",
              "       [    25,  90000],\n",
              "       [    37,  33000],\n",
              "       [    35,  38000],\n",
              "       [    33,  69000],\n",
              "       [    18,  86000],\n",
              "       [    22,  55000],\n",
              "       [    35,  71000],\n",
              "       [    29, 148000],\n",
              "       [    29,  47000],\n",
              "       [    21,  88000],\n",
              "       [    34, 115000],\n",
              "       [    26, 118000],\n",
              "       [    34,  43000],\n",
              "       [    34,  72000],\n",
              "       [    23,  28000],\n",
              "       [    35,  47000],\n",
              "       [    25,  22000],\n",
              "       [    24,  23000],\n",
              "       [    31,  34000],\n",
              "       [    26,  16000],\n",
              "       [    31,  71000],\n",
              "       [    32, 117000],\n",
              "       [    33,  43000],\n",
              "       [    33,  60000],\n",
              "       [    31,  66000],\n",
              "       [    20,  82000],\n",
              "       [    33,  41000],\n",
              "       [    35,  72000],\n",
              "       [    28,  32000],\n",
              "       [    24,  84000],\n",
              "       [    19,  26000],\n",
              "       [    29,  43000],\n",
              "       [    19,  70000],\n",
              "       [    28,  89000],\n",
              "       [    34,  43000],\n",
              "       [    30,  79000],\n",
              "       [    20,  36000],\n",
              "       [    26,  80000],\n",
              "       [    35,  22000]])"
            ]
          },
          "metadata": {
            "tags": []
          },
          "execution_count": 16
        }
      ]
    },
    {
      "cell_type": "code",
      "metadata": {
        "id": "BQVgVPijABU8",
        "colab_type": "code",
        "colab": {
          "base_uri": "https://localhost:8080/",
          "height": 196
        },
        "outputId": "e4e5f293-3055-473b-bb63-f8eb1f2bba7b"
      },
      "source": [
        "# y dataset\n",
        "y"
      ],
      "execution_count": 17,
      "outputs": [
        {
          "output_type": "execute_result",
          "data": {
            "text/plain": [
              "array([0, 0, 0, 0, 0, 0, 0, 1, 0, 0, 0, 0, 0, 0, 0, 0, 1, 1, 1, 1, 1, 1,\n",
              "       1, 1, 1, 1, 1, 1, 0, 0, 0, 1, 0, 0, 0, 0, 0, 0, 0, 0, 0, 0, 0, 0,\n",
              "       0, 0, 0, 0, 1, 0, 0, 0, 0, 0, 0, 0, 0, 0, 0, 0, 0, 0, 0, 1, 0, 0,\n",
              "       0, 0, 0, 0, 0, 0, 0, 0, 0, 1, 0, 0, 0, 0, 0, 0, 0, 0, 0, 1, 0, 0,\n",
              "       0, 0, 0, 0, 0, 0, 0, 0, 0, 1, 0, 0, 0, 0, 0, 1, 0, 0, 0, 0, 0, 0,\n",
              "       0, 0, 0, 0, 0, 0, 0, 0, 0, 0, 0, 0, 0, 0, 0, 0, 0, 0, 0, 0, 0, 0,\n",
              "       0, 0, 0, 0, 0, 1, 0, 0, 0, 0, 0, 0, 0, 0, 1, 0, 0, 0, 0, 0, 0, 0,\n",
              "       0, 0, 0, 0, 0, 1, 1, 0, 0, 0, 0, 0, 0, 0, 1, 0, 0, 0, 0, 0, 0, 0,\n",
              "       0, 0, 0, 0, 0, 0, 1, 0, 0, 0, 0, 0, 0, 0, 0, 0, 0, 0, 0, 0, 0, 0,\n",
              "       0, 0])"
            ]
          },
          "metadata": {
            "tags": []
          },
          "execution_count": 17
        }
      ]
    },
    {
      "cell_type": "code",
      "metadata": {
        "id": "wUXiDMsAytQM",
        "colab_type": "code",
        "colab": {
          "base_uri": "https://localhost:8080/",
          "height": 1000
        },
        "outputId": "a9c0b0e9-1275-4c2b-ccc1-e2fd623133b1"
      },
      "source": [
        "# Feature scaling\n",
        "sc = StandardScaler()\n",
        "SX = sc.fit_transform(X)\n",
        "SX"
      ],
      "execution_count": 18,
      "outputs": [
        {
          "output_type": "execute_result",
          "data": {
            "text/plain": [
              "array([[-1.52370992, -1.34479807],\n",
              "       [ 0.62804284, -1.31234638],\n",
              "       [-0.58231809, -0.56595749],\n",
              "       [-0.44783354, -0.11163382],\n",
              "       [-1.52370992,  0.50494831],\n",
              "       [-0.44783354, -0.07918213],\n",
              "       [-0.44783354,  0.76456184],\n",
              "       [ 0.22458919,  2.90637344],\n",
              "       [-0.71680264, -0.8904744 ],\n",
              "       [ 0.62804284,  0.14797971],\n",
              "       [-0.58231809,  0.63475507],\n",
              "       [-0.58231809, -0.27389227],\n",
              "       [-1.38922537,  0.82946522],\n",
              "       [ 0.22458919, -1.37724976],\n",
              "       [-1.65819447,  0.69965846],\n",
              "       [-0.17886445,  0.63475507],\n",
              "       [ 2.2418574 , -1.15008793],\n",
              "       [ 1.97288831, -1.11763623],\n",
              "       [ 2.10737285, -1.05273285],\n",
              "       [ 2.37634195, -1.02028116],\n",
              "       [ 1.97288831, -1.247443  ],\n",
              "       [ 2.2418574 , -0.37124734],\n",
              "       [ 2.37634195, -0.63086087],\n",
              "       [ 1.97288831, -1.247443  ],\n",
              "       [ 2.10737285, -1.21499131],\n",
              "       [ 2.2418574 , -1.31234638],\n",
              "       [ 2.5108265 , -1.05273285],\n",
              "       [ 2.2418574 , -0.98782947],\n",
              "       [-0.17886445, -0.56595749],\n",
              "       [ 0.09010465, -1.37724976],\n",
              "       [ 0.09010465,  0.44004493],\n",
              "       [-0.44783354,  2.48450145],\n",
              "       [-1.25474082, -1.44215314],\n",
              "       [-0.31334899, -0.5335058 ],\n",
              "       [-0.44783354,  0.95927198],\n",
              "       [ 0.62804284, -1.08518454],\n",
              "       [ 0.35907374, -1.05273285],\n",
              "       [-0.0443799 , -0.37124734],\n",
              "       [-0.58231809,  0.37514155],\n",
              "       [-0.44783354, -0.95537778],\n",
              "       [-0.44783354, -1.40970145],\n",
              "       [ 0.35907374, -0.30634396],\n",
              "       [ 0.62804284,  1.54340242],\n",
              "       [-0.0443799 , -1.47460483],\n",
              "       [-0.31334899,  0.76456184],\n",
              "       [-0.98577173, -1.31234638],\n",
              "       [-0.71680264,  0.60230338],\n",
              "       [-0.44783354, -0.20898889],\n",
              "       [-0.0443799 ,  2.41959807],\n",
              "       [ 0.09010465,  0.92682029],\n",
              "       [-0.85128718, -0.92292609],\n",
              "       [-1.65819447, -0.5335058 ],\n",
              "       [-0.17886445,  0.73211015],\n",
              "       [ 0.62804284, -1.21499131],\n",
              "       [-0.44783354, -0.07918213],\n",
              "       [-0.85128718, -0.1765372 ],\n",
              "       [-0.98577173, -0.40369903],\n",
              "       [-0.31334899,  0.60230338],\n",
              "       [-1.12025628, -1.37724976],\n",
              "       [ 0.22458919,  1.83546764],\n",
              "       [-0.44783354, -1.31234638],\n",
              "       [-0.71680264,  0.86191691],\n",
              "       [-0.98577173,  0.1804314 ],\n",
              "       [ 0.22458919,  1.93282271],\n",
              "       [ 3.85567197,  0.73211015],\n",
              "       [-0.85128718, -0.07918213],\n",
              "       [-0.85128718, -1.34479807],\n",
              "       [-0.98577173,  0.69965846],\n",
              "       [-1.12025628,  0.08307633],\n",
              "       [ 0.09010465,  0.24533478],\n",
              "       [-0.71680264,  0.63475507],\n",
              "       [-0.85128718, -1.08518454],\n",
              "       [-1.38922537, -1.21499131],\n",
              "       [ 0.35907374,  1.70566087],\n",
              "       [ 0.22458919, -1.37724976],\n",
              "       [ 0.49355829,  1.67320918],\n",
              "       [-1.65819447, -0.27389227],\n",
              "       [-1.12025628, -1.08518454],\n",
              "       [-0.31334899,  0.86191691],\n",
              "       [-0.58231809, -1.40970145],\n",
              "       [-0.0443799 ,  0.63475507],\n",
              "       [ 1.16598102, -0.59840918],\n",
              "       [-1.38922537, -0.37124734],\n",
              "       [ 0.62804284,  0.8943686 ],\n",
              "       [-0.0443799 ,  0.05062464],\n",
              "       [ 0.09010465,  1.86791933],\n",
              "       [-0.85128718, -0.1765372 ],\n",
              "       [-0.31334899,  0.79701353],\n",
              "       [-0.58231809,  0.66720676],\n",
              "       [ 0.62804284, -0.33879565],\n",
              "       [-1.12025628,  0.66720676],\n",
              "       [-0.0443799 ,  1.80301595],\n",
              "       [-0.58231809, -1.47460483],\n",
              "       [-0.17886445, -1.05273285],\n",
              "       [-0.17886445,  0.73211015],\n",
              "       [ 0.62804284, -0.5335058 ],\n",
              "       [ 0.62804284, -1.15008793],\n",
              "       [-0.31334899,  2.03017778],\n",
              "       [ 0.62804284,  0.40759324],\n",
              "       [-0.31334899, -0.76066763],\n",
              "       [-0.44783354,  0.8943686 ],\n",
              "       [-0.31334899, -0.04673043],\n",
              "       [ 0.22458919,  0.82946522],\n",
              "       [ 0.35907374,  2.87392175],\n",
              "       [-1.52370992, -1.27989469],\n",
              "       [-1.25474082,  0.37514155],\n",
              "       [-0.58231809, -0.82557102],\n",
              "       [-0.44783354,  0.92682029],\n",
              "       [-0.58231809,  0.82946522],\n",
              "       [ 1.03149648,  0.63475507],\n",
              "       [ 1.16598102,  0.34268986],\n",
              "       [ 0.89701193,  0.34268986],\n",
              "       [ 1.03149648,  0.01817295],\n",
              "       [ 0.89701193, -0.1765372 ],\n",
              "       [ 1.56943467,  0.63475507],\n",
              "       [ 1.30046557, -0.11163382],\n",
              "       [ 0.62804284,  0.47249662],\n",
              "       [ 0.76252738, -0.27389227],\n",
              "       [ 1.30046557, -0.04673043],\n",
              "       [ 1.43495012, -0.04673043],\n",
              "       [ 0.76252738,  0.47249662],\n",
              "       [ 0.89701193,  0.37514155],\n",
              "       [ 1.30046557,  0.47249662],\n",
              "       [ 0.62804284, -0.24144058],\n",
              "       [ 1.43495012, -0.30634396],\n",
              "       [ 1.16598102,  0.01817295],\n",
              "       [ 1.56943467,  0.14797971],\n",
              "       [-0.58231809, -0.92292609],\n",
              "       [-0.0443799 , -1.40970145],\n",
              "       [-0.58231809,  0.76456184],\n",
              "       [ 0.09010465, -0.07918213],\n",
              "       [ 0.35907374, -0.95537778],\n",
              "       [-0.0443799 ,  0.86191691],\n",
              "       [-1.25474082,  0.24533478],\n",
              "       [-0.31334899, -0.1765372 ],\n",
              "       [-0.98577173,  0.08307633],\n",
              "       [-1.38922537,  0.69965846],\n",
              "       [-0.0443799 ,  1.51095073],\n",
              "       [-0.31334899, -0.04673043],\n",
              "       [-1.52370992, -1.15008793],\n",
              "       [-1.52370992,  0.79701353],\n",
              "       [-1.65819447,  0.24533478],\n",
              "       [ 0.62804284, -0.04673043],\n",
              "       [-0.0443799 ,  0.92682029],\n",
              "       [ 0.49355829, -1.15008793],\n",
              "       [-0.85128718,  0.92682029],\n",
              "       [-0.44783354,  1.15398213],\n",
              "       [ 1.43495012, -0.98782947],\n",
              "       [-0.17886445,  0.01817295],\n",
              "       [-1.38922537,  0.44004493],\n",
              "       [-0.58231809, -1.47460483],\n",
              "       [ 1.43495012, -0.50105411],\n",
              "       [ 0.09010465,  0.50494831],\n",
              "       [ 0.76252738, -0.33879565],\n",
              "       [ 1.30046557, -0.43615073],\n",
              "       [ 0.09010465, -1.47460483],\n",
              "       [ 2.10737285, -0.04673043],\n",
              "       [-0.17886445,  0.47249662],\n",
              "       [-0.58231809, -0.98782947],\n",
              "       [ 0.22458919,  2.41959807],\n",
              "       [ 0.22458919,  1.28378889],\n",
              "       [-0.71680264,  0.95927198],\n",
              "       [ 0.89701193, -0.8904744 ],\n",
              "       [ 0.62804284, -0.72821594],\n",
              "       [ 0.35907374,  0.27778647],\n",
              "       [-1.65819447,  0.82946522],\n",
              "       [-1.12025628, -0.1765372 ],\n",
              "       [ 0.62804284,  0.34268986],\n",
              "       [-0.17886445,  2.84147005],\n",
              "       [-0.17886445, -0.43615073],\n",
              "       [-1.25474082,  0.8943686 ],\n",
              "       [ 0.49355829,  1.77056425],\n",
              "       [-0.58231809,  1.86791933],\n",
              "       [ 0.49355829, -0.56595749],\n",
              "       [ 0.49355829,  0.37514155],\n",
              "       [-0.98577173, -1.05273285],\n",
              "       [ 0.62804284, -0.43615073],\n",
              "       [-0.71680264, -1.247443  ],\n",
              "       [-0.85128718, -1.21499131],\n",
              "       [ 0.09010465, -0.85802271],\n",
              "       [-0.58231809, -1.44215314],\n",
              "       [ 0.09010465,  0.34268986],\n",
              "       [ 0.22458919,  1.83546764],\n",
              "       [ 0.35907374, -0.56595749],\n",
              "       [ 0.35907374, -0.01427874],\n",
              "       [ 0.09010465,  0.1804314 ],\n",
              "       [-1.38922537,  0.69965846],\n",
              "       [ 0.35907374, -0.63086087],\n",
              "       [ 0.62804284,  0.37514155],\n",
              "       [-0.31334899, -0.92292609],\n",
              "       [-0.85128718,  0.76456184],\n",
              "       [-1.52370992, -1.11763623],\n",
              "       [-0.17886445, -0.56595749],\n",
              "       [-1.52370992,  0.31023816],\n",
              "       [-0.31334899,  0.92682029],\n",
              "       [ 0.49355829, -0.56595749],\n",
              "       [-0.0443799 ,  0.60230338],\n",
              "       [-1.38922537, -0.79311933],\n",
              "       [-0.58231809,  0.63475507],\n",
              "       [ 0.62804284, -1.247443  ]])"
            ]
          },
          "metadata": {
            "tags": []
          },
          "execution_count": 18
        }
      ]
    },
    {
      "cell_type": "markdown",
      "metadata": {
        "id": "IJ_gIbCpy-qx",
        "colab_type": "text"
      },
      "source": [
        "# Without Feature Scaling"
      ]
    },
    {
      "cell_type": "code",
      "metadata": {
        "id": "HP7AxTJcYYvS",
        "colab_type": "code",
        "colab": {}
      },
      "source": [
        "# Model Tuner\n",
        "model_params = {\n",
        "        \"svc\":{\"model\":SVC(),\n",
        "                \"params\":{\"C\":[1.5, 2.0 , 2.5, 3.5, 4],\n",
        "                          \"kernel\":[\"rbf\",\"poly\",\"linear\"]},\n",
        "                          \n",
        "            },\n",
        "        \"Random_Forest\":{\"model\":RandomForestClassifier(),\n",
        "                        \"params\":{\"n_estimators\":[10, 25, 50, 75, 100, 150],\n",
        "                                  \"criterion\":[\"gini\",\"entropy\"]}\n",
        "                        },\n",
        "        \"Logistic_Regression\":{\"model\":LogisticRegression(),\n",
        "                               \"params\":{\"C\":[1.5, 2.0 , 2.5, 3.5, 4]}\n",
        "                               },\n",
        "        \"Gaussian_NB\":{\"model\":GaussianNB(),\n",
        "                        \"params\":{}\n",
        "                        },\n",
        "         \"Bernoulli_NB\":{\"model\":BernoulliNB(),\n",
        "                        \"params\":{}\n",
        "                        },\n",
        "         \"K_NN\":{\"model\":KNeighborsClassifier(),\n",
        "                        \"params\":{\"n_neighbors\":[5, 7, 9, 11]}\n",
        "                        },\n",
        "         \"DecisionTree_Classifier\":{\"model\":DecisionTreeClassifier(),\n",
        "                        \"params\":{\"criterion\":[\"gini\", \"entropy\"]}\n",
        "                        }\n",
        "                } \n",
        "mul_params ={ \"Multinomial_NB\":{\"model\":MultinomialNB(),\n",
        "                        \"params\":{}\n",
        "                        }\n",
        "            }               \n"
      ],
      "execution_count": 19,
      "outputs": []
    },
    {
      "cell_type": "code",
      "metadata": {
        "id": "SNLTqZsGYi8E",
        "colab_type": "code",
        "colab": {
          "base_uri": "https://localhost:8080/",
          "height": 180
        },
        "outputId": "535bad8b-8e04-4d5d-cffe-861665a1a00e"
      },
      "source": [
        "# To run model_params we need for loop.\n",
        "score = []\n",
        "for model_name, mp in model_params.items():\n",
        "    classifier = RandomizedSearchCV(mp[\"model\"], mp[\"params\"],\n",
        "                              cv = 5, return_train_score=False, n_iter = 3)\n",
        "    classifier.fit(X, y)\n",
        "    score.append({\"model\":model_name,\n",
        "                  \"best_score\":classifier.best_score_,\n",
        "                  \"best_params\" : classifier.best_params_})\n",
        "\n",
        "for model_name, mp in mul_params.items():\n",
        "    classifier = RandomizedSearchCV(mp[\"model\"], mp[\"params\"],\n",
        "                              cv = 5, return_train_score=False, n_iter = 3)\n",
        "    classifier.fit(X, y)\n",
        "    score.append({\"model\":model_name,\n",
        "                  \"best_score\":classifier.best_score_,\n",
        "                  \"best_params\" : classifier.best_params_})\n",
        "\n",
        "df = pd.DataFrame(score, columns = [\"model\", \"best_score\", \"best_params\"])"
      ],
      "execution_count": 20,
      "outputs": [
        {
          "output_type": "stream",
          "text": [
            "/usr/local/lib/python3.6/dist-packages/sklearn/model_selection/_search.py:281: UserWarning: The total space of parameters 1 is smaller than n_iter=3. Running 1 iterations. For exhaustive searches, use GridSearchCV.\n",
            "  % (grid_size, self.n_iter, grid_size), UserWarning)\n",
            "/usr/local/lib/python3.6/dist-packages/sklearn/model_selection/_search.py:281: UserWarning: The total space of parameters 1 is smaller than n_iter=3. Running 1 iterations. For exhaustive searches, use GridSearchCV.\n",
            "  % (grid_size, self.n_iter, grid_size), UserWarning)\n",
            "/usr/local/lib/python3.6/dist-packages/sklearn/model_selection/_search.py:281: UserWarning: The total space of parameters 2 is smaller than n_iter=3. Running 2 iterations. For exhaustive searches, use GridSearchCV.\n",
            "  % (grid_size, self.n_iter, grid_size), UserWarning)\n",
            "/usr/local/lib/python3.6/dist-packages/sklearn/model_selection/_search.py:281: UserWarning: The total space of parameters 1 is smaller than n_iter=3. Running 1 iterations. For exhaustive searches, use GridSearchCV.\n",
            "  % (grid_size, self.n_iter, grid_size), UserWarning)\n"
          ],
          "name": "stderr"
        }
      ]
    },
    {
      "cell_type": "markdown",
      "metadata": {
        "id": "QFqQ9qz2YpSj",
        "colab_type": "text"
      },
      "source": [
        "#The Best Model Is:(Without Feature Scaling)"
      ]
    },
    {
      "cell_type": "code",
      "metadata": {
        "id": "0dao3qiDYnTi",
        "colab_type": "code",
        "colab": {
          "base_uri": "https://localhost:8080/",
          "height": 78
        },
        "outputId": "dfe2bb66-4e26-4105-c0cc-06b98e499d4a"
      },
      "source": [
        "\n",
        "df[[\"model\", \"best_params\",\"best_score\"]][df.best_score == df.best_score.max()]\n"
      ],
      "execution_count": 21,
      "outputs": [
        {
          "output_type": "execute_result",
          "data": {
            "text/html": [
              "<div>\n",
              "<style scoped>\n",
              "    .dataframe tbody tr th:only-of-type {\n",
              "        vertical-align: middle;\n",
              "    }\n",
              "\n",
              "    .dataframe tbody tr th {\n",
              "        vertical-align: top;\n",
              "    }\n",
              "\n",
              "    .dataframe thead th {\n",
              "        text-align: right;\n",
              "    }\n",
              "</style>\n",
              "<table border=\"1\" class=\"dataframe\">\n",
              "  <thead>\n",
              "    <tr style=\"text-align: right;\">\n",
              "      <th></th>\n",
              "      <th>model</th>\n",
              "      <th>best_params</th>\n",
              "      <th>best_score</th>\n",
              "    </tr>\n",
              "  </thead>\n",
              "  <tbody>\n",
              "    <tr>\n",
              "      <th>1</th>\n",
              "      <td>Random_Forest</td>\n",
              "      <td>{'n_estimators': 25, 'criterion': 'gini'}</td>\n",
              "      <td>0.94</td>\n",
              "    </tr>\n",
              "  </tbody>\n",
              "</table>\n",
              "</div>"
            ],
            "text/plain": [
              "           model                                best_params  best_score\n",
              "1  Random_Forest  {'n_estimators': 25, 'criterion': 'gini'}        0.94"
            ]
          },
          "metadata": {
            "tags": []
          },
          "execution_count": 21
        }
      ]
    },
    {
      "cell_type": "markdown",
      "metadata": {
        "id": "Iq7kW0pAYyRa",
        "colab_type": "text"
      },
      "source": [
        "# Other model Performances"
      ]
    },
    {
      "cell_type": "code",
      "metadata": {
        "id": "Dq4NDK1lY2nW",
        "colab_type": "code",
        "colab": {
          "base_uri": "https://localhost:8080/",
          "height": 288
        },
        "outputId": "ed64808f-4d29-47b7-c265-1f1526482547"
      },
      "source": [
        "df.sort_values(\"best_score\", ascending = False)"
      ],
      "execution_count": 22,
      "outputs": [
        {
          "output_type": "execute_result",
          "data": {
            "text/html": [
              "<div>\n",
              "<style scoped>\n",
              "    .dataframe tbody tr th:only-of-type {\n",
              "        vertical-align: middle;\n",
              "    }\n",
              "\n",
              "    .dataframe tbody tr th {\n",
              "        vertical-align: top;\n",
              "    }\n",
              "\n",
              "    .dataframe thead th {\n",
              "        text-align: right;\n",
              "    }\n",
              "</style>\n",
              "<table border=\"1\" class=\"dataframe\">\n",
              "  <thead>\n",
              "    <tr style=\"text-align: right;\">\n",
              "      <th></th>\n",
              "      <th>model</th>\n",
              "      <th>best_score</th>\n",
              "      <th>best_params</th>\n",
              "    </tr>\n",
              "  </thead>\n",
              "  <tbody>\n",
              "    <tr>\n",
              "      <th>1</th>\n",
              "      <td>Random_Forest</td>\n",
              "      <td>0.940</td>\n",
              "      <td>{'n_estimators': 25, 'criterion': 'gini'}</td>\n",
              "    </tr>\n",
              "    <tr>\n",
              "      <th>6</th>\n",
              "      <td>DecisionTree_Classifier</td>\n",
              "      <td>0.930</td>\n",
              "      <td>{'criterion': 'entropy'}</td>\n",
              "    </tr>\n",
              "    <tr>\n",
              "      <th>3</th>\n",
              "      <td>Gaussian_NB</td>\n",
              "      <td>0.905</td>\n",
              "      <td>{}</td>\n",
              "    </tr>\n",
              "    <tr>\n",
              "      <th>0</th>\n",
              "      <td>svc</td>\n",
              "      <td>0.895</td>\n",
              "      <td>{'kernel': 'poly', 'C': 1.5}</td>\n",
              "    </tr>\n",
              "    <tr>\n",
              "      <th>5</th>\n",
              "      <td>K_NN</td>\n",
              "      <td>0.885</td>\n",
              "      <td>{'n_neighbors': 7}</td>\n",
              "    </tr>\n",
              "    <tr>\n",
              "      <th>2</th>\n",
              "      <td>Logistic_Regression</td>\n",
              "      <td>0.870</td>\n",
              "      <td>{'C': 1.5}</td>\n",
              "    </tr>\n",
              "    <tr>\n",
              "      <th>4</th>\n",
              "      <td>Bernoulli_NB</td>\n",
              "      <td>0.870</td>\n",
              "      <td>{}</td>\n",
              "    </tr>\n",
              "    <tr>\n",
              "      <th>7</th>\n",
              "      <td>Multinomial_NB</td>\n",
              "      <td>0.740</td>\n",
              "      <td>{}</td>\n",
              "    </tr>\n",
              "  </tbody>\n",
              "</table>\n",
              "</div>"
            ],
            "text/plain": [
              "                     model  ...                                best_params\n",
              "1            Random_Forest  ...  {'n_estimators': 25, 'criterion': 'gini'}\n",
              "6  DecisionTree_Classifier  ...                   {'criterion': 'entropy'}\n",
              "3              Gaussian_NB  ...                                         {}\n",
              "0                      svc  ...               {'kernel': 'poly', 'C': 1.5}\n",
              "5                     K_NN  ...                         {'n_neighbors': 7}\n",
              "2      Logistic_Regression  ...                                 {'C': 1.5}\n",
              "4             Bernoulli_NB  ...                                         {}\n",
              "7           Multinomial_NB  ...                                         {}\n",
              "\n",
              "[8 rows x 3 columns]"
            ]
          },
          "metadata": {
            "tags": []
          },
          "execution_count": 22
        }
      ]
    },
    {
      "cell_type": "markdown",
      "metadata": {
        "id": "vvgO1hN6ZRlz",
        "colab_type": "text"
      },
      "source": [
        "# self increasing model efficiency by tuning"
      ]
    },
    {
      "cell_type": "code",
      "metadata": {
        "id": "CKwZm4npZHUf",
        "colab_type": "code",
        "colab": {}
      },
      "source": [
        "#cross_val_score()"
      ],
      "execution_count": 23,
      "outputs": []
    },
    {
      "cell_type": "markdown",
      "metadata": {
        "id": "oew9XW5YzFQ3",
        "colab_type": "text"
      },
      "source": [
        "# With Feature Scaling\n"
      ]
    },
    {
      "cell_type": "code",
      "metadata": {
        "id": "k6AxzYJlzecM",
        "colab_type": "code",
        "colab": {
          "base_uri": "https://localhost:8080/",
          "height": 144
        },
        "outputId": "dbd38714-8570-40a1-ed3f-5baa816a4214"
      },
      "source": [
        "# To run model_params we need for loop.\n",
        "score1 = []\n",
        "for model_name, mp in model_params.items():\n",
        "    classifier1 = RandomizedSearchCV(mp[\"model\"], mp[\"params\"],\n",
        "                              cv = 5, return_train_score=False, n_iter = 3)\n",
        "    classifier1.fit(SX, y)\n",
        "    score1.append({\"model\":model_name,\n",
        "                  \"best_score\":classifier1.best_score_,\n",
        "                  \"best_params\" : classifier1.best_params_})\n",
        "    \n",
        "df1 = pd.DataFrame(score1, columns = [\"model\", \"best_score\", \"best_params\"])"
      ],
      "execution_count": 24,
      "outputs": [
        {
          "output_type": "stream",
          "text": [
            "/usr/local/lib/python3.6/dist-packages/sklearn/model_selection/_search.py:281: UserWarning: The total space of parameters 1 is smaller than n_iter=3. Running 1 iterations. For exhaustive searches, use GridSearchCV.\n",
            "  % (grid_size, self.n_iter, grid_size), UserWarning)\n",
            "/usr/local/lib/python3.6/dist-packages/sklearn/model_selection/_search.py:281: UserWarning: The total space of parameters 1 is smaller than n_iter=3. Running 1 iterations. For exhaustive searches, use GridSearchCV.\n",
            "  % (grid_size, self.n_iter, grid_size), UserWarning)\n",
            "/usr/local/lib/python3.6/dist-packages/sklearn/model_selection/_search.py:281: UserWarning: The total space of parameters 2 is smaller than n_iter=3. Running 2 iterations. For exhaustive searches, use GridSearchCV.\n",
            "  % (grid_size, self.n_iter, grid_size), UserWarning)\n"
          ],
          "name": "stderr"
        }
      ]
    },
    {
      "cell_type": "markdown",
      "metadata": {
        "id": "pm_CqfCTztgn",
        "colab_type": "text"
      },
      "source": [
        "# The Best Model is: (With Feature Scaling)"
      ]
    },
    {
      "cell_type": "code",
      "metadata": {
        "id": "t-HHx3g3zzeR",
        "colab_type": "code",
        "colab": {
          "base_uri": "https://localhost:8080/",
          "height": 78
        },
        "outputId": "4586ce78-6e07-4739-ccf5-316ed0ea60f6"
      },
      "source": [
        "\n",
        "df1[[\"model\", \"best_params\",\"best_score\"]][df1.best_score == df1.best_score.max()]\n"
      ],
      "execution_count": 25,
      "outputs": [
        {
          "output_type": "execute_result",
          "data": {
            "text/html": [
              "<div>\n",
              "<style scoped>\n",
              "    .dataframe tbody tr th:only-of-type {\n",
              "        vertical-align: middle;\n",
              "    }\n",
              "\n",
              "    .dataframe tbody tr th {\n",
              "        vertical-align: top;\n",
              "    }\n",
              "\n",
              "    .dataframe thead th {\n",
              "        text-align: right;\n",
              "    }\n",
              "</style>\n",
              "<table border=\"1\" class=\"dataframe\">\n",
              "  <thead>\n",
              "    <tr style=\"text-align: right;\">\n",
              "      <th></th>\n",
              "      <th>model</th>\n",
              "      <th>best_params</th>\n",
              "      <th>best_score</th>\n",
              "    </tr>\n",
              "  </thead>\n",
              "  <tbody>\n",
              "    <tr>\n",
              "      <th>0</th>\n",
              "      <td>svc</td>\n",
              "      <td>{'kernel': 'poly', 'C': 2.5}</td>\n",
              "      <td>0.945</td>\n",
              "    </tr>\n",
              "  </tbody>\n",
              "</table>\n",
              "</div>"
            ],
            "text/plain": [
              "  model                   best_params  best_score\n",
              "0   svc  {'kernel': 'poly', 'C': 2.5}       0.945"
            ]
          },
          "metadata": {
            "tags": []
          },
          "execution_count": 25
        }
      ]
    },
    {
      "cell_type": "markdown",
      "metadata": {
        "id": "GsQsvWOR0CYF",
        "colab_type": "text"
      },
      "source": [
        "# Other Model performances!"
      ]
    },
    {
      "cell_type": "code",
      "metadata": {
        "id": "vN8BKwkOz_r6",
        "colab_type": "code",
        "colab": {
          "base_uri": "https://localhost:8080/",
          "height": 258
        },
        "outputId": "7bc2f29d-1f7a-4055-d6d4-c9c9ba935f97"
      },
      "source": [
        "df1.sort_values(\"best_score\", ascending = False)"
      ],
      "execution_count": 26,
      "outputs": [
        {
          "output_type": "execute_result",
          "data": {
            "text/html": [
              "<div>\n",
              "<style scoped>\n",
              "    .dataframe tbody tr th:only-of-type {\n",
              "        vertical-align: middle;\n",
              "    }\n",
              "\n",
              "    .dataframe tbody tr th {\n",
              "        vertical-align: top;\n",
              "    }\n",
              "\n",
              "    .dataframe thead th {\n",
              "        text-align: right;\n",
              "    }\n",
              "</style>\n",
              "<table border=\"1\" class=\"dataframe\">\n",
              "  <thead>\n",
              "    <tr style=\"text-align: right;\">\n",
              "      <th></th>\n",
              "      <th>model</th>\n",
              "      <th>best_score</th>\n",
              "      <th>best_params</th>\n",
              "    </tr>\n",
              "  </thead>\n",
              "  <tbody>\n",
              "    <tr>\n",
              "      <th>0</th>\n",
              "      <td>svc</td>\n",
              "      <td>0.945</td>\n",
              "      <td>{'kernel': 'poly', 'C': 2.5}</td>\n",
              "    </tr>\n",
              "    <tr>\n",
              "      <th>5</th>\n",
              "      <td>K_NN</td>\n",
              "      <td>0.940</td>\n",
              "      <td>{'n_neighbors': 11}</td>\n",
              "    </tr>\n",
              "    <tr>\n",
              "      <th>1</th>\n",
              "      <td>Random_Forest</td>\n",
              "      <td>0.935</td>\n",
              "      <td>{'n_estimators': 50, 'criterion': 'gini'}</td>\n",
              "    </tr>\n",
              "    <tr>\n",
              "      <th>6</th>\n",
              "      <td>DecisionTree_Classifier</td>\n",
              "      <td>0.925</td>\n",
              "      <td>{'criterion': 'entropy'}</td>\n",
              "    </tr>\n",
              "    <tr>\n",
              "      <th>3</th>\n",
              "      <td>Gaussian_NB</td>\n",
              "      <td>0.905</td>\n",
              "      <td>{}</td>\n",
              "    </tr>\n",
              "    <tr>\n",
              "      <th>2</th>\n",
              "      <td>Logistic_Regression</td>\n",
              "      <td>0.870</td>\n",
              "      <td>{'C': 1.5}</td>\n",
              "    </tr>\n",
              "    <tr>\n",
              "      <th>4</th>\n",
              "      <td>Bernoulli_NB</td>\n",
              "      <td>0.870</td>\n",
              "      <td>{}</td>\n",
              "    </tr>\n",
              "  </tbody>\n",
              "</table>\n",
              "</div>"
            ],
            "text/plain": [
              "                     model  ...                                best_params\n",
              "0                      svc  ...               {'kernel': 'poly', 'C': 2.5}\n",
              "5                     K_NN  ...                        {'n_neighbors': 11}\n",
              "1            Random_Forest  ...  {'n_estimators': 50, 'criterion': 'gini'}\n",
              "6  DecisionTree_Classifier  ...                   {'criterion': 'entropy'}\n",
              "3              Gaussian_NB  ...                                         {}\n",
              "2      Logistic_Regression  ...                                 {'C': 1.5}\n",
              "4             Bernoulli_NB  ...                                         {}\n",
              "\n",
              "[7 rows x 3 columns]"
            ]
          },
          "metadata": {
            "tags": []
          },
          "execution_count": 26
        }
      ]
    },
    {
      "cell_type": "markdown",
      "metadata": {
        "id": "vR4fXIzHZWRZ",
        "colab_type": "text"
      },
      "source": [
        "# self increasing model efficiency by tuning\n"
      ]
    },
    {
      "cell_type": "code",
      "metadata": {
        "id": "8Bh90qWMYXqc",
        "colab_type": "code",
        "colab": {}
      },
      "source": [
        "# cross_val_score()"
      ],
      "execution_count": 27,
      "outputs": []
    }
  ]
}