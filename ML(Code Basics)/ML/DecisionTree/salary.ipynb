{
  "nbformat": 4,
  "nbformat_minor": 0,
  "metadata": {
    "colab": {
      "name": "salary.ipynb",
      "provenance": []
    },
    "kernelspec": {
      "name": "python3",
      "display_name": "Python 3"
    }
  },
  "cells": [
    {
      "cell_type": "code",
      "metadata": {
        "id": "bVNR6NECoTGj",
        "colab_type": "code",
        "colab": {}
      },
      "source": [
        "# To predict the employees salary is greater than 100k or not.\n",
        "\n",
        "import pandas as pd\n",
        "from sklearn.tree import DecisionTreeClassifier\n",
        "from sklearn.preprocessing import LabelEncoder\n",
        "\n",
        "ds = pd.read_csv(\"salaries.csv\") \n",
        "x = ds.iloc[:, 0:3].values\n",
        "y = ds.iloc[:, 3].values\n",
        " \n",
        "# Now data preprocessing step\n",
        "le_comp = LabelEncoder()\n",
        "le_pos = LabelEncoder()\n",
        "le_deg = LabelEncoder()\n",
        "\n",
        "x[:,0] = le_comp.fit_transform(x[:,0])\n",
        "x[:,1] = le_comp.fit_transform(x[:,1])\n",
        "x[:,2] = le_comp.fit_transform(x[:,2])\n",
        "\n",
        "# now fitting into the model\n",
        "classifier = DecisionTreeClassifier()\n",
        "classifier.fit(x,y)\n",
        "classifier.score(x,y)\n",
        "classifier.predict([[2,0,0]])   # gives Output: 1."
      ],
      "execution_count": null,
      "outputs": []
    }
  ]
}