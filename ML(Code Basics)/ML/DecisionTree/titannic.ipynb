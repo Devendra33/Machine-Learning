{
  "nbformat": 4,
  "nbformat_minor": 0,
  "metadata": {
    "colab": {
      "name": "titannic.ipynb",
      "provenance": []
    },
    "kernelspec": {
      "name": "python3",
      "display_name": "Python 3"
    }
  },
  "cells": [
    {
      "cell_type": "code",
      "metadata": {
        "id": "bVNR6NECoTGj",
        "colab_type": "code",
        "colab": {}
      },
      "source": [
        "# to classify whether the passenger survived or not.\n",
        "\n",
        "import numpy as np\n",
        "import pandas as pd\n",
        "import matplotlib.pyplot as plt\n",
        "from sklearn.preprocessing import LabelEncoder\n",
        "from sklearn.tree import DecisionTreeClassifier\n",
        "\n",
        "#importing the dataset\n",
        "ds = pd.read_csv(\"titanic.csv\")\n",
        "\n",
        "ds = ds.drop(columns = [\"PassengerId\", \"Name\",'SibSp', 'Parch', 'Ticket', 'Cabin', 'Embarked' ])\n",
        "ds.Age = ds.Age.fillna(25)   # 25 is appropiate guessing age.\n",
        "\n",
        "x = ds.iloc[:,1:].values\n",
        "y = ds.iloc[:,0].values\n",
        "\n",
        "# data preprocessing steps\n",
        "le_gen = LabelEncoder()\n",
        "x[:,1] =  le_gen.fit_transform(x[:,1]) \n",
        "\n",
        "\n",
        "from sklearn.model_selection import train_test_split\n",
        "x_train, x_test, y_train, y_test = train_test_split(x, y, test_size = 0.1, random_state = 50)\n",
        "\n",
        "classifier = DecisionTreeClassifier()\n",
        "classifier.fit(x_train, y_train)\n",
        "y_pred = classifier.predict(x_test)\n",
        "classifier.score(x_test, y_test)     # 85 % accurate model\n",
        "\n"
      ],
      "execution_count": null,
      "outputs": []
    }
  ]
}