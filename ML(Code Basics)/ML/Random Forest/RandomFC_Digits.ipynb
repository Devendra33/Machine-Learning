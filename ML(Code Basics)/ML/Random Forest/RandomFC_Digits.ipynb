{
  "nbformat": 4,
  "nbformat_minor": 0,
  "metadata": {
    "colab": {
      "name": "RandomFC_Digits.ipynb",
      "provenance": []
    },
    "kernelspec": {
      "name": "python3",
      "display_name": "Python 3"
    }
  },
  "cells": [
    {
      "cell_type": "code",
      "metadata": {
        "id": "bVNR6NECoTGj",
        "colab_type": "code",
        "colab": {}
      },
      "source": [
        "import pandas as pd\n",
        "import matplotlib.pyplot as plt\n",
        "\n",
        "from sklearn.datasets import load_digits\n",
        "from sklearn.metrics import confusion_matrix\n",
        "\n",
        "digit = load_digits()\n",
        "dir(digit)\n",
        "\n",
        "# for showing some images in the dataset\n",
        "for i in range(4):\n",
        "    plt.matshow(digit.images[i])\n",
        "    \n",
        "# Creating the pandas datasets\n",
        "ds = pd.DataFrame(digit.data)\n",
        "ds[\"Target\"] = digit.target\n",
        "X = ds.iloc[:,:-1].values\n",
        "y = ds.iloc[:, -1].values\n",
        "ds.to_csv(\"Num_Img_Data.csv\", index = False)\n",
        "\n",
        "from sklearn.model_selection import train_test_split\n",
        "X_train, X_test, y_train, y_test = train_test_split(X, y, test_size = 0.15)\n",
        "\n",
        "# fitting into the random forest algorithm\n",
        "from sklearn.ensemble import RandomForestClassifier\n",
        "classifier = RandomForestClassifier(n_estimators = 10)\n",
        "classifier.fit(X_train, y_train)\n",
        "classifier.score(X_test, y_test)\n",
        "\n",
        "y_pred = classifier.predict(X_test)\n",
        "cm = confusion_matrix(y_test, y_pred)\n",
        "\n",
        "# visualizing confusion matrix\n",
        "import seaborn as sn\n",
        "plt.figure(figsize = (10,7))\n",
        "sn.heatmap(cm, annot = True)\n",
        "plt.title(\"Digit Dataset.\")\n",
        "plt.xlabel(\"predicted\")\n",
        "plt.ylabel(\"Truth\")"
      ],
      "execution_count": null,
      "outputs": []
    }
  ]
}