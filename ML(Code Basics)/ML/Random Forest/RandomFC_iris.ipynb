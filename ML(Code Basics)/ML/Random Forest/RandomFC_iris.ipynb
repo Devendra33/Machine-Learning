{
  "nbformat": 4,
  "nbformat_minor": 0,
  "metadata": {
    "colab": {
      "name": "RandomFC_iris.ipynb",
      "provenance": []
    },
    "kernelspec": {
      "name": "python3",
      "display_name": "Python 3"
    }
  },
  "cells": [
    {
      "cell_type": "code",
      "metadata": {
        "id": "bVNR6NECoTGj",
        "colab_type": "code",
        "colab": {}
      },
      "source": [
        "import pandas as pd\n",
        "import numpy as np\n",
        "import matplotlib.pyplot as plt\n",
        "\n",
        "from sklearn.datasets import load_iris\n",
        "from sklearn.model_selection import train_test_split\n",
        "from sklearn.ensemble import RandomForestClassifier\n",
        "\n",
        "iris = load_iris()\n",
        "\n",
        "# creating the dataset ['sepal length (cm)', 'sepal width (cm)', 'petal length (cm)',\n",
        "#                                 'petal width (cm)'],\n",
        "ds = pd.DataFrame(iris.data, columns = iris.feature_names)\n",
        "ds[\"Target\"] = iris.target\n",
        "ds[\"Names\"] = ds.Target.apply(lambda x: iris.target_names[x])\n",
        "ds.to_csv(\"fower_data.csv\", index = False)\n",
        "\n",
        "X = ds.iloc[:, 0:4].values\n",
        "y = ds.iloc[:, 4].values\n",
        "\n",
        "X_train, X_test, y_train, y_test = train_test_split(X, y, test_size = 0.15)\n",
        "\n",
        "# fitiing into the model\n",
        "classifier = RandomForestClassifier(n_estimators = 10, criterion = \"entropy\", random_state = 0)\n",
        "classifier.fit(X_train, y_train)\n",
        "classifier.score(X_test, y_test)\n",
        "\n",
        "y_pred = classifier.predict(X_test)\n",
        "\n",
        "from sklearn.metrics import confusion_matrix\n",
        "cm = confusion_matrix(y_test, y_pred)\n"
      ],
      "execution_count": null,
      "outputs": []
    }
  ]
}