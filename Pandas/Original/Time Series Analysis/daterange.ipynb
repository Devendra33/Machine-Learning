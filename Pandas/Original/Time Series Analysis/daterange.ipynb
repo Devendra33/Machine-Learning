{
  "nbformat": 4,
  "nbformat_minor": 0,
  "metadata": {
    "colab": {
      "name": "daterange.ipynb",
      "provenance": []
    },
    "kernelspec": {
      "name": "python3",
      "display_name": "Python 3"
    }
  },
  "cells": [
    {
      "cell_type": "code",
      "metadata": {
        "id": "inb7n__P-6CA",
        "colab_type": "code",
        "colab": {}
      },
      "source": [
        "# importing the libraries\n",
        "import pandas as pd\n",
        "import numpy as np\n",
        "import matplotlib.pyplot as plt"
      ],
      "execution_count": 0,
      "outputs": []
    },
    {
      "cell_type": "code",
      "metadata": {
        "id": "MWqdW4Lh_Gxu",
        "colab_type": "code",
        "outputId": "e900ac36-9cf0-4728-d1aa-128bb0a6a018",
        "colab": {
          "base_uri": "https://localhost:8080/",
          "height": 35
        }
      },
      "source": [
        "ds = pd.read_csv(\"aapl_no_dates.csv\")\n",
        "ds.shape"
      ],
      "execution_count": 19,
      "outputs": [
        {
          "output_type": "execute_result",
          "data": {
            "text/plain": [
              "(22, 5)"
            ]
          },
          "metadata": {
            "tags": []
          },
          "execution_count": 19
        }
      ]
    },
    {
      "cell_type": "code",
      "metadata": {
        "id": "Ze8AmznN_qgd",
        "colab_type": "code",
        "outputId": "68d76bf0-9451-479e-9514-5a9b4beb420f",
        "colab": {
          "base_uri": "https://localhost:8080/",
          "height": 142
        }
      },
      "source": [
        "# creating a date range\n",
        "rng = pd.date_range(start = \"6-1-2020\", end = \"6-30-2020\", freq = \"B\") # B for Business days\n",
        "rng"
      ],
      "execution_count": 20,
      "outputs": [
        {
          "output_type": "execute_result",
          "data": {
            "text/plain": [
              "DatetimeIndex(['2020-06-01', '2020-06-02', '2020-06-03', '2020-06-04',\n",
              "               '2020-06-05', '2020-06-08', '2020-06-09', '2020-06-10',\n",
              "               '2020-06-11', '2020-06-12', '2020-06-15', '2020-06-16',\n",
              "               '2020-06-17', '2020-06-18', '2020-06-19', '2020-06-22',\n",
              "               '2020-06-23', '2020-06-24', '2020-06-25', '2020-06-26',\n",
              "               '2020-06-29', '2020-06-30'],\n",
              "              dtype='datetime64[ns]', freq='B')"
            ]
          },
          "metadata": {
            "tags": []
          },
          "execution_count": 20
        }
      ]
    },
    {
      "cell_type": "code",
      "metadata": {
        "id": "82oa3WphAqvO",
        "colab_type": "code",
        "colab": {}
      },
      "source": [
        "ds.set_index(rng, inplace = True)"
      ],
      "execution_count": 0,
      "outputs": []
    },
    {
      "cell_type": "code",
      "metadata": {
        "id": "C86ekpS1A2ZM",
        "colab_type": "code",
        "outputId": "64b90d27-0a75-46b6-c57f-55d22736a9af",
        "colab": {
          "base_uri": "https://localhost:8080/",
          "height": 947
        }
      },
      "source": [
        "# Now to add missing days(eg working days)\n",
        "ds.asfreq(\"D\", method=\"pad\") # pad will just copy the the value of upper column"
      ],
      "execution_count": 22,
      "outputs": [
        {
          "output_type": "execute_result",
          "data": {
            "text/html": [
              "<div>\n",
              "<style scoped>\n",
              "    .dataframe tbody tr th:only-of-type {\n",
              "        vertical-align: middle;\n",
              "    }\n",
              "\n",
              "    .dataframe tbody tr th {\n",
              "        vertical-align: top;\n",
              "    }\n",
              "\n",
              "    .dataframe thead th {\n",
              "        text-align: right;\n",
              "    }\n",
              "</style>\n",
              "<table border=\"1\" class=\"dataframe\">\n",
              "  <thead>\n",
              "    <tr style=\"text-align: right;\">\n",
              "      <th></th>\n",
              "      <th>Open</th>\n",
              "      <th>High</th>\n",
              "      <th>Low</th>\n",
              "      <th>Close</th>\n",
              "      <th>Volume</th>\n",
              "    </tr>\n",
              "  </thead>\n",
              "  <tbody>\n",
              "    <tr>\n",
              "      <th>2020-06-01</th>\n",
              "      <td>153.17</td>\n",
              "      <td>153.33</td>\n",
              "      <td>152.22</td>\n",
              "      <td>153.18</td>\n",
              "      <td>16404088</td>\n",
              "    </tr>\n",
              "    <tr>\n",
              "      <th>2020-06-02</th>\n",
              "      <td>153.58</td>\n",
              "      <td>155.45</td>\n",
              "      <td>152.89</td>\n",
              "      <td>155.45</td>\n",
              "      <td>27770715</td>\n",
              "    </tr>\n",
              "    <tr>\n",
              "      <th>2020-06-03</th>\n",
              "      <td>154.34</td>\n",
              "      <td>154.45</td>\n",
              "      <td>153.46</td>\n",
              "      <td>153.93</td>\n",
              "      <td>25331662</td>\n",
              "    </tr>\n",
              "    <tr>\n",
              "      <th>2020-06-04</th>\n",
              "      <td>153.90</td>\n",
              "      <td>155.81</td>\n",
              "      <td>153.78</td>\n",
              "      <td>154.45</td>\n",
              "      <td>26624926</td>\n",
              "    </tr>\n",
              "    <tr>\n",
              "      <th>2020-06-05</th>\n",
              "      <td>155.02</td>\n",
              "      <td>155.98</td>\n",
              "      <td>154.48</td>\n",
              "      <td>155.37</td>\n",
              "      <td>21069647</td>\n",
              "    </tr>\n",
              "    <tr>\n",
              "      <th>2020-06-06</th>\n",
              "      <td>155.02</td>\n",
              "      <td>155.98</td>\n",
              "      <td>154.48</td>\n",
              "      <td>155.37</td>\n",
              "      <td>21069647</td>\n",
              "    </tr>\n",
              "    <tr>\n",
              "      <th>2020-06-07</th>\n",
              "      <td>155.02</td>\n",
              "      <td>155.98</td>\n",
              "      <td>154.48</td>\n",
              "      <td>155.37</td>\n",
              "      <td>21069647</td>\n",
              "    </tr>\n",
              "    <tr>\n",
              "      <th>2020-06-08</th>\n",
              "      <td>155.25</td>\n",
              "      <td>155.54</td>\n",
              "      <td>154.40</td>\n",
              "      <td>154.99</td>\n",
              "      <td>21250798</td>\n",
              "    </tr>\n",
              "    <tr>\n",
              "      <th>2020-06-09</th>\n",
              "      <td>155.19</td>\n",
              "      <td>155.19</td>\n",
              "      <td>146.02</td>\n",
              "      <td>148.98</td>\n",
              "      <td>64882657</td>\n",
              "    </tr>\n",
              "    <tr>\n",
              "      <th>2020-06-10</th>\n",
              "      <td>145.74</td>\n",
              "      <td>146.09</td>\n",
              "      <td>142.51</td>\n",
              "      <td>145.42</td>\n",
              "      <td>72307330</td>\n",
              "    </tr>\n",
              "    <tr>\n",
              "      <th>2020-06-11</th>\n",
              "      <td>147.16</td>\n",
              "      <td>147.45</td>\n",
              "      <td>145.15</td>\n",
              "      <td>146.59</td>\n",
              "      <td>34165445</td>\n",
              "    </tr>\n",
              "    <tr>\n",
              "      <th>2020-06-12</th>\n",
              "      <td>147.50</td>\n",
              "      <td>147.50</td>\n",
              "      <td>143.84</td>\n",
              "      <td>145.16</td>\n",
              "      <td>31531232</td>\n",
              "    </tr>\n",
              "    <tr>\n",
              "      <th>2020-06-13</th>\n",
              "      <td>147.50</td>\n",
              "      <td>147.50</td>\n",
              "      <td>143.84</td>\n",
              "      <td>145.16</td>\n",
              "      <td>31531232</td>\n",
              "    </tr>\n",
              "    <tr>\n",
              "      <th>2020-06-14</th>\n",
              "      <td>147.50</td>\n",
              "      <td>147.50</td>\n",
              "      <td>143.84</td>\n",
              "      <td>145.16</td>\n",
              "      <td>31531232</td>\n",
              "    </tr>\n",
              "    <tr>\n",
              "      <th>2020-06-15</th>\n",
              "      <td>143.32</td>\n",
              "      <td>144.48</td>\n",
              "      <td>142.21</td>\n",
              "      <td>144.29</td>\n",
              "      <td>32165373</td>\n",
              "    </tr>\n",
              "    <tr>\n",
              "      <th>2020-06-16</th>\n",
              "      <td>143.78</td>\n",
              "      <td>144.50</td>\n",
              "      <td>142.20</td>\n",
              "      <td>142.27</td>\n",
              "      <td>50361093</td>\n",
              "    </tr>\n",
              "    <tr>\n",
              "      <th>2020-06-17</th>\n",
              "      <td>143.66</td>\n",
              "      <td>146.74</td>\n",
              "      <td>143.66</td>\n",
              "      <td>146.34</td>\n",
              "      <td>32541404</td>\n",
              "    </tr>\n",
              "    <tr>\n",
              "      <th>2020-06-18</th>\n",
              "      <td>146.87</td>\n",
              "      <td>146.87</td>\n",
              "      <td>144.94</td>\n",
              "      <td>145.01</td>\n",
              "      <td>24900073</td>\n",
              "    </tr>\n",
              "    <tr>\n",
              "      <th>2020-06-19</th>\n",
              "      <td>145.52</td>\n",
              "      <td>146.07</td>\n",
              "      <td>144.61</td>\n",
              "      <td>145.87</td>\n",
              "      <td>21265751</td>\n",
              "    </tr>\n",
              "    <tr>\n",
              "      <th>2020-06-20</th>\n",
              "      <td>145.52</td>\n",
              "      <td>146.07</td>\n",
              "      <td>144.61</td>\n",
              "      <td>145.87</td>\n",
              "      <td>21265751</td>\n",
              "    </tr>\n",
              "    <tr>\n",
              "      <th>2020-06-21</th>\n",
              "      <td>145.52</td>\n",
              "      <td>146.07</td>\n",
              "      <td>144.61</td>\n",
              "      <td>145.87</td>\n",
              "      <td>21265751</td>\n",
              "    </tr>\n",
              "    <tr>\n",
              "      <th>2020-06-22</th>\n",
              "      <td>145.77</td>\n",
              "      <td>146.70</td>\n",
              "      <td>145.12</td>\n",
              "      <td>145.63</td>\n",
              "      <td>19106294</td>\n",
              "    </tr>\n",
              "    <tr>\n",
              "      <th>2020-06-23</th>\n",
              "      <td>145.13</td>\n",
              "      <td>147.16</td>\n",
              "      <td>145.11</td>\n",
              "      <td>146.28</td>\n",
              "      <td>35439389</td>\n",
              "    </tr>\n",
              "    <tr>\n",
              "      <th>2020-06-24</th>\n",
              "      <td>147.17</td>\n",
              "      <td>148.28</td>\n",
              "      <td>145.38</td>\n",
              "      <td>145.82</td>\n",
              "      <td>25692361</td>\n",
              "    </tr>\n",
              "    <tr>\n",
              "      <th>2020-06-25</th>\n",
              "      <td>145.01</td>\n",
              "      <td>146.16</td>\n",
              "      <td>143.62</td>\n",
              "      <td>143.73</td>\n",
              "      <td>24761891</td>\n",
              "    </tr>\n",
              "    <tr>\n",
              "      <th>2020-06-26</th>\n",
              "      <td>144.49</td>\n",
              "      <td>146.11</td>\n",
              "      <td>143.16</td>\n",
              "      <td>145.83</td>\n",
              "      <td>22082432</td>\n",
              "    </tr>\n",
              "    <tr>\n",
              "      <th>2020-06-27</th>\n",
              "      <td>144.49</td>\n",
              "      <td>146.11</td>\n",
              "      <td>143.16</td>\n",
              "      <td>145.83</td>\n",
              "      <td>22082432</td>\n",
              "    </tr>\n",
              "    <tr>\n",
              "      <th>2020-06-28</th>\n",
              "      <td>144.49</td>\n",
              "      <td>146.11</td>\n",
              "      <td>143.16</td>\n",
              "      <td>145.83</td>\n",
              "      <td>22082432</td>\n",
              "    </tr>\n",
              "    <tr>\n",
              "      <th>2020-06-29</th>\n",
              "      <td>144.71</td>\n",
              "      <td>145.13</td>\n",
              "      <td>142.28</td>\n",
              "      <td>143.68</td>\n",
              "      <td>31499368</td>\n",
              "    </tr>\n",
              "    <tr>\n",
              "      <th>2020-06-30</th>\n",
              "      <td>144.45</td>\n",
              "      <td>144.96</td>\n",
              "      <td>143.78</td>\n",
              "      <td>144.02</td>\n",
              "      <td>23024107</td>\n",
              "    </tr>\n",
              "  </tbody>\n",
              "</table>\n",
              "</div>"
            ],
            "text/plain": [
              "              Open    High     Low   Close    Volume\n",
              "2020-06-01  153.17  153.33  152.22  153.18  16404088\n",
              "2020-06-02  153.58  155.45  152.89  155.45  27770715\n",
              "2020-06-03  154.34  154.45  153.46  153.93  25331662\n",
              "2020-06-04  153.90  155.81  153.78  154.45  26624926\n",
              "2020-06-05  155.02  155.98  154.48  155.37  21069647\n",
              "2020-06-06  155.02  155.98  154.48  155.37  21069647\n",
              "2020-06-07  155.02  155.98  154.48  155.37  21069647\n",
              "2020-06-08  155.25  155.54  154.40  154.99  21250798\n",
              "2020-06-09  155.19  155.19  146.02  148.98  64882657\n",
              "2020-06-10  145.74  146.09  142.51  145.42  72307330\n",
              "2020-06-11  147.16  147.45  145.15  146.59  34165445\n",
              "2020-06-12  147.50  147.50  143.84  145.16  31531232\n",
              "2020-06-13  147.50  147.50  143.84  145.16  31531232\n",
              "2020-06-14  147.50  147.50  143.84  145.16  31531232\n",
              "2020-06-15  143.32  144.48  142.21  144.29  32165373\n",
              "2020-06-16  143.78  144.50  142.20  142.27  50361093\n",
              "2020-06-17  143.66  146.74  143.66  146.34  32541404\n",
              "2020-06-18  146.87  146.87  144.94  145.01  24900073\n",
              "2020-06-19  145.52  146.07  144.61  145.87  21265751\n",
              "2020-06-20  145.52  146.07  144.61  145.87  21265751\n",
              "2020-06-21  145.52  146.07  144.61  145.87  21265751\n",
              "2020-06-22  145.77  146.70  145.12  145.63  19106294\n",
              "2020-06-23  145.13  147.16  145.11  146.28  35439389\n",
              "2020-06-24  147.17  148.28  145.38  145.82  25692361\n",
              "2020-06-25  145.01  146.16  143.62  143.73  24761891\n",
              "2020-06-26  144.49  146.11  143.16  145.83  22082432\n",
              "2020-06-27  144.49  146.11  143.16  145.83  22082432\n",
              "2020-06-28  144.49  146.11  143.16  145.83  22082432\n",
              "2020-06-29  144.71  145.13  142.28  143.68  31499368\n",
              "2020-06-30  144.45  144.96  143.78  144.02  23024107"
            ]
          },
          "metadata": {
            "tags": []
          },
          "execution_count": 22
        }
      ]
    },
    {
      "cell_type": "code",
      "metadata": {
        "id": "6Vn-9k8rBhKN",
        "colab_type": "code",
        "outputId": "ec3e8aa7-4af2-451d-cb19-6c77cebf2fb6",
        "colab": {
          "base_uri": "https://localhost:8080/",
          "height": 321
        }
      },
      "source": [
        "# ploting the graph\n",
        "ds.Close.plot()"
      ],
      "execution_count": 23,
      "outputs": [
        {
          "output_type": "execute_result",
          "data": {
            "text/plain": [
              "<matplotlib.axes._subplots.AxesSubplot at 0x7f99258b0f98>"
            ]
          },
          "metadata": {
            "tags": []
          },
          "execution_count": 23
        },
        {
          "output_type": "display_data",
          "data": {
            "image/png": "[encoded data removed]",
            "text/plain": [
              "<Figure size 432x288 with 1 Axes>"
            ]
          },
          "metadata": {
            "tags": [],
            "needs_background": "light"
          }
        }
      ]
    },
    {
      "cell_type": "code",
      "metadata": {
        "id": "rsiBfQX5Bvfg",
        "colab_type": "code",
        "outputId": "b1c37306-bd6e-4a45-cf13-0c218dd3576a",
        "colab": {
          "base_uri": "https://localhost:8080/",
          "height": 35
        }
      },
      "source": [
        "# to find the average of stock prices\n",
        "ds.Close.mean()"
      ],
      "execution_count": 24,
      "outputs": [
        {
          "output_type": "execute_result",
          "data": {
            "text/plain": [
              "147.83136363636365"
            ]
          },
          "metadata": {
            "tags": []
          },
          "execution_count": 24
        }
      ]
    },
    {
      "cell_type": "code",
      "metadata": {
        "id": "6SxR4gIaCCYY",
        "colab_type": "code",
        "outputId": "af4efb31-4bbc-4fc1-ed53-f37a61e6b117",
        "colab": {
          "base_uri": "https://localhost:8080/",
          "height": 35
        }
      },
      "source": [
        "# to find the average stock price ( 1st WEEK ONLY!)\n",
        "ds[\"6-1-2020\":\"6-7-2020\"].Close.mean()"
      ],
      "execution_count": 25,
      "outputs": [
        {
          "output_type": "execute_result",
          "data": {
            "text/plain": [
              "154.476"
            ]
          },
          "metadata": {
            "tags": []
          },
          "execution_count": 25
        }
      ]
    },
    {
      "cell_type": "code",
      "metadata": {
        "id": "UAmGoIKlCeEX",
        "colab_type": "code",
        "outputId": "5a887598-a79a-4f8c-c447-a6c3134d2e10",
        "colab": {
          "base_uri": "https://localhost:8080/",
          "height": 406
        }
      },
      "source": [
        "# To get the hourly data\n",
        "ds.asfreq(\"H\", method = \"pad\")"
      ],
      "execution_count": 26,
      "outputs": [
        {
          "output_type": "execute_result",
          "data": {
            "text/html": [
              "<div>\n",
              "<style scoped>\n",
              "    .dataframe tbody tr th:only-of-type {\n",
              "        vertical-align: middle;\n",
              "    }\n",
              "\n",
              "    .dataframe tbody tr th {\n",
              "        vertical-align: top;\n",
              "    }\n",
              "\n",
              "    .dataframe thead th {\n",
              "        text-align: right;\n",
              "    }\n",
              "</style>\n",
              "<table border=\"1\" class=\"dataframe\">\n",
              "  <thead>\n",
              "    <tr style=\"text-align: right;\">\n",
              "      <th></th>\n",
              "      <th>Open</th>\n",
              "      <th>High</th>\n",
              "      <th>Low</th>\n",
              "      <th>Close</th>\n",
              "      <th>Volume</th>\n",
              "    </tr>\n",
              "  </thead>\n",
              "  <tbody>\n",
              "    <tr>\n",
              "      <th>2020-06-01 00:00:00</th>\n",
              "      <td>153.17</td>\n",
              "      <td>153.33</td>\n",
              "      <td>152.22</td>\n",
              "      <td>153.18</td>\n",
              "      <td>16404088</td>\n",
              "    </tr>\n",
              "    <tr>\n",
              "      <th>2020-06-01 01:00:00</th>\n",
              "      <td>153.17</td>\n",
              "      <td>153.33</td>\n",
              "      <td>152.22</td>\n",
              "      <td>153.18</td>\n",
              "      <td>16404088</td>\n",
              "    </tr>\n",
              "    <tr>\n",
              "      <th>2020-06-01 02:00:00</th>\n",
              "      <td>153.17</td>\n",
              "      <td>153.33</td>\n",
              "      <td>152.22</td>\n",
              "      <td>153.18</td>\n",
              "      <td>16404088</td>\n",
              "    </tr>\n",
              "    <tr>\n",
              "      <th>2020-06-01 03:00:00</th>\n",
              "      <td>153.17</td>\n",
              "      <td>153.33</td>\n",
              "      <td>152.22</td>\n",
              "      <td>153.18</td>\n",
              "      <td>16404088</td>\n",
              "    </tr>\n",
              "    <tr>\n",
              "      <th>2020-06-01 04:00:00</th>\n",
              "      <td>153.17</td>\n",
              "      <td>153.33</td>\n",
              "      <td>152.22</td>\n",
              "      <td>153.18</td>\n",
              "      <td>16404088</td>\n",
              "    </tr>\n",
              "    <tr>\n",
              "      <th>...</th>\n",
              "      <td>...</td>\n",
              "      <td>...</td>\n",
              "      <td>...</td>\n",
              "      <td>...</td>\n",
              "      <td>...</td>\n",
              "    </tr>\n",
              "    <tr>\n",
              "      <th>2020-06-29 20:00:00</th>\n",
              "      <td>144.71</td>\n",
              "      <td>145.13</td>\n",
              "      <td>142.28</td>\n",
              "      <td>143.68</td>\n",
              "      <td>31499368</td>\n",
              "    </tr>\n",
              "    <tr>\n",
              "      <th>2020-06-29 21:00:00</th>\n",
              "      <td>144.71</td>\n",
              "      <td>145.13</td>\n",
              "      <td>142.28</td>\n",
              "      <td>143.68</td>\n",
              "      <td>31499368</td>\n",
              "    </tr>\n",
              "    <tr>\n",
              "      <th>2020-06-29 22:00:00</th>\n",
              "      <td>144.71</td>\n",
              "      <td>145.13</td>\n",
              "      <td>142.28</td>\n",
              "      <td>143.68</td>\n",
              "      <td>31499368</td>\n",
              "    </tr>\n",
              "    <tr>\n",
              "      <th>2020-06-29 23:00:00</th>\n",
              "      <td>144.71</td>\n",
              "      <td>145.13</td>\n",
              "      <td>142.28</td>\n",
              "      <td>143.68</td>\n",
              "      <td>31499368</td>\n",
              "    </tr>\n",
              "    <tr>\n",
              "      <th>2020-06-30 00:00:00</th>\n",
              "      <td>144.45</td>\n",
              "      <td>144.96</td>\n",
              "      <td>143.78</td>\n",
              "      <td>144.02</td>\n",
              "      <td>23024107</td>\n",
              "    </tr>\n",
              "  </tbody>\n",
              "</table>\n",
              "<p>697 rows × 5 columns</p>\n",
              "</div>"
            ],
            "text/plain": [
              "                       Open    High     Low   Close    Volume\n",
              "2020-06-01 00:00:00  153.17  153.33  152.22  153.18  16404088\n",
              "2020-06-01 01:00:00  153.17  153.33  152.22  153.18  16404088\n",
              "2020-06-01 02:00:00  153.17  153.33  152.22  153.18  16404088\n",
              "2020-06-01 03:00:00  153.17  153.33  152.22  153.18  16404088\n",
              "2020-06-01 04:00:00  153.17  153.33  152.22  153.18  16404088\n",
              "...                     ...     ...     ...     ...       ...\n",
              "2020-06-29 20:00:00  144.71  145.13  142.28  143.68  31499368\n",
              "2020-06-29 21:00:00  144.71  145.13  142.28  143.68  31499368\n",
              "2020-06-29 22:00:00  144.71  145.13  142.28  143.68  31499368\n",
              "2020-06-29 23:00:00  144.71  145.13  142.28  143.68  31499368\n",
              "2020-06-30 00:00:00  144.45  144.96  143.78  144.02  23024107\n",
              "\n",
              "[697 rows x 5 columns]"
            ]
          },
          "metadata": {
            "tags": []
          },
          "execution_count": 26
        }
      ]
    },
    {
      "cell_type": "code",
      "metadata": {
        "id": "GOpcRmh1DNY-",
        "colab_type": "code",
        "colab": {}
      },
      "source": [
        ""
      ],
      "execution_count": 0,
      "outputs": []
    },
    {
      "cell_type": "code",
      "metadata": {
        "id": "TM--lH9tC86B",
        "colab_type": "code",
        "outputId": "32b05f21-9483-4e3b-f055-9eb9af9701b9",
        "colab": {
          "base_uri": "https://localhost:8080/",
          "height": 356
        }
      },
      "source": [
        "# when we know the start date but does not know the end date\n",
        "rng1 = pd.date_range(start = \"6-1-2020\", periods= 72, freq = \"B\") # returns next 72 business days\n",
        "rng1"
      ],
      "execution_count": 27,
      "outputs": [
        {
          "output_type": "execute_result",
          "data": {
            "text/plain": [
              "DatetimeIndex(['2020-06-01', '2020-06-02', '2020-06-03', '2020-06-04',\n",
              "               '2020-06-05', '2020-06-08', '2020-06-09', '2020-06-10',\n",
              "               '2020-06-11', '2020-06-12', '2020-06-15', '2020-06-16',\n",
              "               '2020-06-17', '2020-06-18', '2020-06-19', '2020-06-22',\n",
              "               '2020-06-23', '2020-06-24', '2020-06-25', '2020-06-26',\n",
              "               '2020-06-29', '2020-06-30', '2020-07-01', '2020-07-02',\n",
              "               '2020-07-03', '2020-07-06', '2020-07-07', '2020-07-08',\n",
              "               '2020-07-09', '2020-07-10', '2020-07-13', '2020-07-14',\n",
              "               '2020-07-15', '2020-07-16', '2020-07-17', '2020-07-20',\n",
              "               '2020-07-21', '2020-07-22', '2020-07-23', '2020-07-24',\n",
              "               '2020-07-27', '2020-07-28', '2020-07-29', '2020-07-30',\n",
              "               '2020-07-31', '2020-08-03', '2020-08-04', '2020-08-05',\n",
              "               '2020-08-06', '2020-08-07', '2020-08-10', '2020-08-11',\n",
              "               '2020-08-12', '2020-08-13', '2020-08-14', '2020-08-17',\n",
              "               '2020-08-18', '2020-08-19', '2020-08-20', '2020-08-21',\n",
              "               '2020-08-24', '2020-08-25', '2020-08-26', '2020-08-27',\n",
              "               '2020-08-28', '2020-08-31', '2020-09-01', '2020-09-02',\n",
              "               '2020-09-03', '2020-09-04', '2020-09-07', '2020-09-08'],\n",
              "              dtype='datetime64[ns]', freq='B')"
            ]
          },
          "metadata": {
            "tags": []
          },
          "execution_count": 27
        }
      ]
    },
    {
      "cell_type": "code",
      "metadata": {
        "id": "J1ipS2sGDmOu",
        "colab_type": "code",
        "colab": {
          "base_uri": "https://localhost:8080/",
          "height": 198
        },
        "outputId": "3c85fcae-bec8-4b69-ea2f-9d42de147169"
      },
      "source": [
        "# Now making a dummy dataset for produced days \n",
        "ds1 = pd.DataFrame()\n",
        "s = pd.Series(np.random.randint(1,10, len(rng1)), index = rng1)\n",
        "ds1[\"col\"] = s\n",
        "ds1.head()"
      ],
      "execution_count": 28,
      "outputs": [
        {
          "output_type": "execute_result",
          "data": {
            "text/html": [
              "<div>\n",
              "<style scoped>\n",
              "    .dataframe tbody tr th:only-of-type {\n",
              "        vertical-align: middle;\n",
              "    }\n",
              "\n",
              "    .dataframe tbody tr th {\n",
              "        vertical-align: top;\n",
              "    }\n",
              "\n",
              "    .dataframe thead th {\n",
              "        text-align: right;\n",
              "    }\n",
              "</style>\n",
              "<table border=\"1\" class=\"dataframe\">\n",
              "  <thead>\n",
              "    <tr style=\"text-align: right;\">\n",
              "      <th></th>\n",
              "      <th>col</th>\n",
              "    </tr>\n",
              "  </thead>\n",
              "  <tbody>\n",
              "    <tr>\n",
              "      <th>2020-06-01</th>\n",
              "      <td>9</td>\n",
              "    </tr>\n",
              "    <tr>\n",
              "      <th>2020-06-02</th>\n",
              "      <td>6</td>\n",
              "    </tr>\n",
              "    <tr>\n",
              "      <th>2020-06-03</th>\n",
              "      <td>2</td>\n",
              "    </tr>\n",
              "    <tr>\n",
              "      <th>2020-06-04</th>\n",
              "      <td>7</td>\n",
              "    </tr>\n",
              "    <tr>\n",
              "      <th>2020-06-05</th>\n",
              "      <td>2</td>\n",
              "    </tr>\n",
              "  </tbody>\n",
              "</table>\n",
              "</div>"
            ],
            "text/plain": [
              "            col\n",
              "2020-06-01    9\n",
              "2020-06-02    6\n",
              "2020-06-03    2\n",
              "2020-06-04    7\n",
              "2020-06-05    2"
            ]
          },
          "metadata": {
            "tags": []
          },
          "execution_count": 28
        }
      ]
    }
  ]
}