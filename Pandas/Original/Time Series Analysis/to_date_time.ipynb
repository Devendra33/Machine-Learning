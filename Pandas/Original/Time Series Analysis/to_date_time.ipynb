{
  "nbformat": 4,
  "nbformat_minor": 0,
  "metadata": {
    "colab": {
      "name": "to_date_time.ipynb",
      "provenance": []
    },
    "kernelspec": {
      "name": "python3",
      "display_name": "Python 3"
    }
  },
  "cells": [
    {
      "cell_type": "code",
      "metadata": {
        "id": "r9vs64gZrra8",
        "colab_type": "code",
        "colab": {}
      },
      "source": [
        "# Now converting this to datetime\n",
        "import pandas as pd\n",
        "# 5 january 2017\n",
        "dates = [\"2017-01-05\", \"Jan 5, 2017\", \"01/05/2017\", \"2017.01.05\", \"2017/01/05\", \"20170105\"]\n",
        "dates_with_time = [\"2017-01-05 2:30 PM\", \"Jan 5, 2017 14:30\", \"01/05/2017\"]"
      ],
      "execution_count": 0,
      "outputs": []
    },
    {
      "cell_type": "code",
      "metadata": {
        "id": "0-Wn8364r5j3",
        "colab_type": "code",
        "colab": {
          "base_uri": "https://localhost:8080/",
          "height": 71
        },
        "outputId": "380cfc48-fa06-407c-b656-de30abc63fac"
      },
      "source": [
        "pd.to_datetime(dates)"
      ],
      "execution_count": 8,
      "outputs": [
        {
          "output_type": "execute_result",
          "data": {
            "text/plain": [
              "DatetimeIndex(['2017-01-05', '2017-01-05', '2017-01-05', '2017-01-05',\n",
              "               '2017-01-05', '2017-01-05'],\n",
              "              dtype='datetime64[ns]', freq=None)"
            ]
          },
          "metadata": {
            "tags": []
          },
          "execution_count": 8
        }
      ]
    },
    {
      "cell_type": "code",
      "metadata": {
        "id": "BSn52WhktF1Y",
        "colab_type": "code",
        "colab": {
          "base_uri": "https://localhost:8080/",
          "height": 71
        },
        "outputId": "4c722f91-ee76-41e7-d0fc-9d632586847d"
      },
      "source": [
        "pd.to_datetime(dates_with_time)"
      ],
      "execution_count": 7,
      "outputs": [
        {
          "output_type": "execute_result",
          "data": {
            "text/plain": [
              "DatetimeIndex(['2017-01-05 14:30:00', '2017-01-05 14:30:00',\n",
              "               '2017-01-05 00:00:00'],\n",
              "              dtype='datetime64[ns]', freq=None)"
            ]
          },
          "metadata": {
            "tags": []
          },
          "execution_count": 7
        }
      ]
    },
    {
      "cell_type": "code",
      "metadata": {
        "id": "WLnSfb9ntIq4",
        "colab_type": "code",
        "colab": {
          "base_uri": "https://localhost:8080/",
          "height": 35
        },
        "outputId": "5d245832-b8db-4e9f-8d03-86cde9856709"
      },
      "source": [
        "# us date format mm/dd/yyyy (Default)\n",
        "# europe date format dd/mm/yyyy\n",
        "pd.to_datetime(\"05/01/2017\", dayfirst = True)   # 5 will be considered as day"
      ],
      "execution_count": 11,
      "outputs": [
        {
          "output_type": "execute_result",
          "data": {
            "text/plain": [
              "Timestamp('2017-01-05 00:00:00')"
            ]
          },
          "metadata": {
            "tags": []
          },
          "execution_count": 11
        }
      ]
    },
    {
      "cell_type": "code",
      "metadata": {
        "id": "T79QcXBrt1QX",
        "colab_type": "code",
        "colab": {
          "base_uri": "https://localhost:8080/",
          "height": 35
        },
        "outputId": "331039c4-f296-4139-89cb-ce1788eb818d"
      },
      "source": [
        "# universal date conversion format\n",
        "pd.to_datetime(\"05$01$$2017\",format=\"%d$%m$$%Y\" )  # any character can be replaced in place of $"
      ],
      "execution_count": 13,
      "outputs": [
        {
          "output_type": "execute_result",
          "data": {
            "text/plain": [
              "Timestamp('2017-01-05 00:00:00')"
            ]
          },
          "metadata": {
            "tags": []
          },
          "execution_count": 13
        }
      ]
    },
    {
      "cell_type": "code",
      "metadata": {
        "id": "0-ASxSTSuo7v",
        "colab_type": "code",
        "colab": {
          "base_uri": "https://localhost:8080/",
          "height": 71
        },
        "outputId": "0a7e5dc4-7fa6-4ea7-a1cf-edf77a83e218"
      },
      "source": [
        "# to handle errors (not date time values) \n",
        "# NaT means Not a Timestamp.\n",
        "dates = [\"2017-01-05\", \"Jan 5, 2017\", \"01/05/2017\", \"2017.01.05\", \"2017/01/05\", \"20170105\", \"abc\", \"dev\"]\n",
        "dt = pd.to_datetime(dates, errors = \"coerce\")\n",
        "dt"
      ],
      "execution_count": 17,
      "outputs": [
        {
          "output_type": "execute_result",
          "data": {
            "text/plain": [
              "DatetimeIndex(['2017-01-05', '2017-01-05', '2017-01-05', '2017-01-05',\n",
              "               '2017-01-05', '2017-01-05',        'NaT',        'NaT'],\n",
              "              dtype='datetime64[ns]', freq=None)"
            ]
          },
          "metadata": {
            "tags": []
          },
          "execution_count": 17
        }
      ]
    }
  ]
}