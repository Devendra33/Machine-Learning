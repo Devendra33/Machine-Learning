{
  "nbformat": 4,
  "nbformat_minor": 0,
  "metadata": {
    "colab": {
      "name": "8_Melt.ipynb",
      "provenance": [],
      "collapsed_sections": []
    },
    "kernelspec": {
      "name": "python3",
      "display_name": "Python 3"
    }
  },
  "cells": [
    {
      "cell_type": "code",
      "metadata": {
        "id": "swdzqGYYA5CC",
        "colab_type": "code",
        "colab": {}
      },
      "source": [
        "# melt function\n",
        "# it is used to transform or reshape data\n",
        "\n",
        "import pandas as pd\n",
        "\n",
        "ds = pd.read_csv(\"weather4.csv\")\n",
        "# id_vars to remain that in rows.\n",
        "pd.melt(ds, id_vars = \"day\", var_name  = \"city\", value_name = \"temperature\")\n"
      ],
      "execution_count": null,
      "outputs": []
    }
  ]
}