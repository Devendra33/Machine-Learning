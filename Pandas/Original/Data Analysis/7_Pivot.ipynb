{
  "nbformat": 4,
  "nbformat_minor": 0,
  "metadata": {
    "colab": {
      "name": "7_Pivot.ipynb",
      "provenance": []
    },
    "kernelspec": {
      "name": "python3",
      "display_name": "Python 3"
    }
  },
  "cells": [
    {
      "cell_type": "code",
      "metadata": {
        "id": "swdzqGYYA5CC",
        "colab_type": "code",
        "colab": {}
      },
      "source": [
        "# pivot function \n",
        "import pandas as pd\n",
        "\n",
        "ds = pd.read_csv(\"weather.csv\")\n",
        "\n",
        "# format\n",
        "# ds.pivot(index = \"for x-axis\", columns = \"for y-axis\"), we can select any attribute for  rows and columns.\n",
        "\n",
        "ds.pivot(index = \"date\", columns = \"city\") # change whole table structure and shows all the values\n",
        "\n",
        "ds.pivot(index = \"date\", columns = \"city\", values = \"humidity\")  # only shows humidity\n",
        "\n",
        "# Pivot Table: it is used to summarize and aggregate data inside a dataframe.\n",
        "# format: pivot_table(index = \"\", columns = \"\", aggfunc = \"mean/sum/diff/prod\", values = \"\", margins = True)\n",
        "# just search numpy function on google for more operation of aggfunc.\n",
        "\n",
        "\n",
        "ds = pd.read_csv(\"weather2.csv\")\n",
        "\n",
        "ds.pivot_table(index = \"date\", columns = \"city\", aggfunc = \"mean\") \n",
        "\n",
        "# for chi square table set margins = True\n",
        "ds.pivot_table(index = \"date\", columns = \"city\", aggfunc = \"mean\", margins = True)\n",
        "\n",
        "\n",
        "# pivot grouper\n",
        "\n",
        "ds = pd.read_csv(\"weather3.csv\")\n",
        "# now find the avg of temp and humidity according to end of month\n",
        "# set freq = \"W\" for according to end of week\n",
        "\n",
        "ds[\"date\"] = pd.to_datetime(ds[\"date\"])\n",
        "type(ds[\"date\"][0])\n",
        "\n",
        "ds.pivot_table(index = pd.Grouper(freq = \"M\", key = \"date\"), columns = \"city\")\n",
        "\n",
        "\n"
      ],
      "execution_count": null,
      "outputs": []
    }
  ]
}