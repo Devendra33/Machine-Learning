{
  "nbformat": 4,
  "nbformat_minor": 0,
  "metadata": {
    "colab": {
      "name": "9_stack.ipynb",
      "provenance": [],
      "collapsed_sections": []
    },
    "kernelspec": {
      "name": "python3",
      "display_name": "Python 3"
    }
  },
  "cells": [
    {
      "cell_type": "code",
      "metadata": {
        "id": "swdzqGYYA5CC",
        "colab_type": "code",
        "colab": {}
      },
      "source": [
        "\n",
        "import pandas as pd\n",
        "ds = pd.read_excel(\"stocks.xlsx\", header = [0,1])\n",
        "ds\n",
        "\n",
        "ds.stack(level = 1)  # changes the inner most header\n",
        "ds.stack(level = 0)  # changes the top most header\n",
        "\n",
        "# reverse transformation\n",
        "stacked = ds.stack()\n",
        "stacked.unstack()\n",
        "\n",
        "# now with 3 header\n",
        "ds = pd.read_excel(\"stocks_3_levels.xlsx\", header = [0,1,2])\n",
        "ds\n",
        "\n",
        "ds.stack() # changes inner most attributes\n",
        "ds.stack(level = 0)  # changes top most attributes\n",
        "ds.stack(level = 1) # changes middle attributes"
      ],
      "execution_count": null,
      "outputs": []
    }
  ]
}