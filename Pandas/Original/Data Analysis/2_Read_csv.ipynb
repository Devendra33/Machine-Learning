{
  "nbformat": 4,
  "nbformat_minor": 0,
  "metadata": {
    "colab": {
      "name": "2_Read_csv.ipynb",
      "provenance": []
    },
    "kernelspec": {
      "name": "python3",
      "display_name": "Python 3"
    }
  },
  "cells": [
    {
      "cell_type": "code",
      "metadata": {
        "id": "swdzqGYYA5CC",
        "colab_type": "code",
        "colab": {}
      },
      "source": [
        "import pandas as pd\n",
        "\n",
        "# Reading a file\n",
        "col =  ['index', 'nbaDebutYear', 'firstName', 'lastName', 'jersey',\n",
        "       'heightMeters', 'weightKilograms', 'int_dt'] \n",
        "ds = pd.read_csv(\"player_data.csv\", header = None, names = col)  # reading  a file with column titles\n",
        "ds = pd.read_csv(\"player_data.csv\", header = 0) # can be used for skipping the rows,\n",
        "                                                # header = 0, it is default\n",
        "                                                # if header = 1 then first row become title\n",
        "\n",
        "ds = pd.read_csv(\"player_data.csv\", nrows = 1 )  # to read nunber of n number of rows\n",
        "\n",
        "ds = pd.read_csv(\"player_data.csv\", na_values = {\"jersey\":[2]} ) # it makes null value, key == column name\n",
        "                                                                                    #value == to make it null\n",
        "                                                                                        \n",
        "# Now Writing into a file.\n",
        "ds.to_csv(\"new_file.csv\", index = False, columns =['index', 'firstName', 'lastName'], header = False)\n",
        "# index = False : now default index will not be visible on the file,\n",
        "# columns =['index', 'firstName', 'lastName'] :  only these columns will visile on new file,\n",
        "# header = False : column title will not be visible\n",
        "\n",
        "\n",
        "                                                                                        \n",
        "\n"
      ],
      "execution_count": null,
      "outputs": []
    }
  ]
}