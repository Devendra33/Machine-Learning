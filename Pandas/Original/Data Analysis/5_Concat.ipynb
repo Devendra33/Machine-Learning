{
  "nbformat": 4,
  "nbformat_minor": 0,
  "metadata": {
    "colab": {
      "name": "5_Concat.ipynb",
      "provenance": []
    },
    "kernelspec": {
      "name": "python3",
      "display_name": "Python 3"
    }
  },
  "cells": [
    {
      "cell_type": "code",
      "metadata": {
        "id": "swdzqGYYA5CC",
        "colab_type": "code",
        "colab": {}
      },
      "source": [
        "# concat - code basics\n",
        "# 1 data table\n",
        "import pandas as pd\n",
        "india_weather = {\"city\":[\"mumbai\", \"delhi\", \"indore\"],\n",
        "                 \"humidity\":[50, 60, 80],\n",
        "                 \"temp\":[25, 48, 42]}\n",
        "\n",
        "us_weather = {\"city\":[\"new york\", \"berlin\", \"chicago\"],\n",
        "                 \"humidity\":[40, 65, 25],\n",
        "                 \"temp\":[41, 43, 44]}\n",
        "\n",
        "# creating tables from above dictionaries\n",
        "ind_tab = pd.DataFrame(india_weather)\n",
        "us_tab = pd.DataFrame(us_weather)\n",
        "\n",
        "# format\n",
        "# pd.concat([tab1, tab2], ignore_index = False, keys = None, join  = \"outer\" ,axis = 0)\n",
        "\n",
        "ds = pd.concat([ind_tab, us_tab])  # not continoues index\n",
        "\n",
        "ds = pd.concat([ind_tab, us_tab], ignore_index = True) # now it is in continous order\n",
        "                                                        # we cannot use keys param with ignore_index.\n",
        "                                                        \n",
        "ds = pd.concat([ind_tab, us_tab], ignore_index = False, keys = [\"india\", \"us\"])\n",
        "\n",
        "\n",
        "# now concating columns wise\n",
        "temp_df = pd.DataFrame({\"city\":[\"mumbai\", \"delhi\", \"indore\"],\n",
        "                        \"temp\":[25,42,32]})\n",
        "\n",
        "wind_df = pd.DataFrame({\"city\":[\"mumbai\", \"delhi\", \"indore\"],\n",
        "                        \"wind\":[50,72,55]})\n",
        "\n",
        "ds = pd.concat([temp_df, wind_df], axis = 1)\n"
      ],
      "execution_count": null,
      "outputs": []
    }
  ]
}