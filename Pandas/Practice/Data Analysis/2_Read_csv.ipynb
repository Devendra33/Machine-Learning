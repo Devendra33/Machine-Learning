{
  "nbformat": 4,
  "nbformat_minor": 0,
  "metadata": {
    "colab": {
      "name": "2_Read_csv.ipynb",
      "provenance": []
    },
    "kernelspec": {
      "name": "python3",
      "display_name": "Python 3"
    }
  },
  "cells": [
    {
      "cell_type": "markdown",
      "metadata": {
        "id": "nJUiAoucEXU9",
        "colab_type": "text"
      },
      "source": [
        "Practice Notebook!\n"
      ]
    },
    {
      "cell_type": "code",
      "metadata": {
        "id": "BQkgMEXkE8Gd",
        "colab_type": "code",
        "colab": {}
      },
      "source": [
        "import pandas as pd\n",
        "\n",
        "# use player_data.csv\n",
        "\n",
        "ds = pd.read_csv(\"player_data.csv\")\n",
        "\n",
        "# Reading a file\n",
        "col =  ['index', 'nbaDebutYear', 'firstName', 'lastName', 'jersey',\n",
        "       'heightMeters', 'weightKilograms', 'int_dt'] \n",
        "      # reading  a file with column titles\n",
        "      # can be used for skipping the rows,\n",
        "                                            \n",
        "                # header = 0, it is default\n",
        "                # if header = 1 then first row become title\n",
        "       \n",
        "                # to read nunber of n number of rows\n",
        "\n",
        "          # it makes null value, key == column name\n",
        "          # value == to make it null\n",
        "       "
      ],
      "execution_count": null,
      "outputs": []
    },
    {
      "cell_type": "code",
      "metadata": {
        "id": "AlfqbL8wH92o",
        "colab_type": "code",
        "colab": {}
      },
      "source": [
        "# Now Writing into a file.( to_csv())\n",
        "\n",
        "# index = False : now default index will not be visible on the file,\n",
        "# columns =['index', 'firstName', 'lastName'] :  only these columns will visile on new file,\n",
        "# header = False : column title will not be visible"
      ],
      "execution_count": null,
      "outputs": []
    }
  ]
}