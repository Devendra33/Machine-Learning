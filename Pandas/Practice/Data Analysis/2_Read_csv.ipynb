{
  "nbformat": 4,
  "nbformat_minor": 0,
  "metadata": {
    "colab": {
      "name": "2_Read_csv.ipynb",
      "provenance": []
    },
    "kernelspec": {
      "name": "python3",
      "display_name": "Python 3"
    }
  },
  "cells": [
    {
      "cell_type": "markdown",
      "metadata": {
        "id": "nJUiAoucEXU9"
      },
      "source": [
        "Practice Notebook!\n"
      ]
    },
    {
      "cell_type": "code",
      "metadata": {
        "id": "BQkgMEXkE8Gd",
        "colab": {
          "base_uri": "https://localhost:8080/",
          "height": 196
        },
        "outputId": "5a355ba8-8184-4117-d3b6-c473aac6428f"
      },
      "source": [
        "import pandas as pd\n",
        "import matplotlib.pyplot as plt\n",
        "import numpy as np\n",
        "# use Tech_Gaints.xlsx\n",
        "\n",
        "# Reading a file\n",
        "\n",
        "      # reading  a file with column titles\n",
        "      # can be used for skipping the rows,\n",
        "                                            \n",
        "                # header = 0, it is default\n",
        "                # if header = 1 then first row become title\n",
        "       \n",
        "                # to read nunber of n number of rows\n",
        "\n",
        "          # it makes null value, key == column name\n",
        "          # value == to make it null\n",
        "       "
      ],
      "execution_count": 24,
      "outputs": [
        {
          "output_type": "execute_result",
          "data": {
            "text/html": [
              "<div>\n",
              "<style scoped>\n",
              "    .dataframe tbody tr th:only-of-type {\n",
              "        vertical-align: middle;\n",
              "    }\n",
              "\n",
              "    .dataframe tbody tr th {\n",
              "        vertical-align: top;\n",
              "    }\n",
              "\n",
              "    .dataframe thead th {\n",
              "        text-align: right;\n",
              "    }\n",
              "</style>\n",
              "<table border=\"1\" class=\"dataframe\">\n",
              "  <thead>\n",
              "    <tr style=\"text-align: right;\">\n",
              "      <th></th>\n",
              "      <th>Tickers</th>\n",
              "      <th>Eps</th>\n",
              "      <th>Revenue</th>\n",
              "      <th>Price</th>\n",
              "      <th>Peaple</th>\n",
              "    </tr>\n",
              "  </thead>\n",
              "  <tbody>\n",
              "    <tr>\n",
              "      <th>0</th>\n",
              "      <td>Google</td>\n",
              "      <td>27.8</td>\n",
              "      <td>87</td>\n",
              "      <td>845.0</td>\n",
              "      <td>larry page</td>\n",
              "    </tr>\n",
              "    <tr>\n",
              "      <th>1</th>\n",
              "      <td>WallMart</td>\n",
              "      <td>4.6</td>\n",
              "      <td>484</td>\n",
              "      <td>65.0</td>\n",
              "      <td>NaN</td>\n",
              "    </tr>\n",
              "    <tr>\n",
              "      <th>2</th>\n",
              "      <td>Mircosoft</td>\n",
              "      <td>-1.0</td>\n",
              "      <td>85</td>\n",
              "      <td>64.0</td>\n",
              "      <td>bill gates</td>\n",
              "    </tr>\n",
              "    <tr>\n",
              "      <th>3</th>\n",
              "      <td>Reliance</td>\n",
              "      <td>NaN</td>\n",
              "      <td>50</td>\n",
              "      <td>1023.0</td>\n",
              "      <td>mukesh ambani</td>\n",
              "    </tr>\n",
              "    <tr>\n",
              "      <th>4</th>\n",
              "      <td>Tata</td>\n",
              "      <td>5.6</td>\n",
              "      <td>-1</td>\n",
              "      <td>NaN</td>\n",
              "      <td>ratan tata</td>\n",
              "    </tr>\n",
              "  </tbody>\n",
              "</table>\n",
              "</div>"
            ],
            "text/plain": [
              "     Tickers   Eps  Revenue   Price         Peaple\n",
              "0     Google  27.8       87   845.0     larry page\n",
              "1   WallMart   4.6      484    65.0            NaN\n",
              "2  Mircosoft  -1.0       85    64.0     bill gates\n",
              "3   Reliance   NaN       50  1023.0  mukesh ambani\n",
              "4       Tata   5.6       -1     NaN     ratan tata"
            ]
          },
          "metadata": {
            "tags": []
          },
          "execution_count": 24
        }
      ]
    },
    {
      "cell_type": "code",
      "metadata": {
        "id": "AlfqbL8wH92o"
      },
      "source": [
        "# Now Writing into a file.( to_csv())\n",
        "\n",
        "# index = False : now default index will not be visible on the file,\n",
        "# columns =['index', 'firstName', 'lastName'] :  only these columns will visile on new file,\n",
        "# header = False : column title will not be visible"
      ],
      "execution_count": 26,
      "outputs": []
    },
    {
      "cell_type": "markdown",
      "metadata": {
        "id": "VuDeEW1DhvQv"
      },
      "source": [
        "# To Attach N Sheets in Excel sheet"
      ]
    },
    {
      "cell_type": "code",
      "metadata": {
        "id": "7ejy8xm_uqvo"
      },
      "source": [
        "# Use ExcelWriter function in pandas."
      ],
      "execution_count": 29,
      "outputs": []
    }
  ]
}