{
  "nbformat": 4,
  "nbformat_minor": 0,
  "metadata": {
    "colab": {
      "name": "1_Dataframe_basics.ipynb",
      "provenance": []
    },
    "kernelspec": {
      "name": "python3",
      "display_name": "Python 3"
    }
  },
  "cells": [
    {
      "cell_type": "markdown",
      "metadata": {
        "id": "nJUiAoucEXU9",
        "colab_type": "text"
      },
      "source": [
        "Practice Notebook!\n"
      ]
    },
    {
      "cell_type": "code",
      "metadata": {
        "id": "SewVo-ReAa0v",
        "colab_type": "code",
        "colab": {}
      },
      "source": [
        "\n",
        "# Dataframe Operations\n",
        "\n",
        "# Creating Dataframe\n",
        "# from csv file\n",
        "ds = pd.read_csv(\"File_name.csv\")\n"
      ],
      "execution_count": null,
      "outputs": []
    },
    {
      "cell_type": "code",
      "metadata": {
        "id": "gX_FrDWBDj9a",
        "colab_type": "code",
        "colab": {}
      },
      "source": [
        "# from dictionary\n",
        "dic  = {\"name\":[\"alok\", \"dev\", \"aman\", \"akshay\"], \"roll\":[15,34,15,12], \"course\":[\"CSE-BAO\",\"CSE-BAO\",\"CSE-BAO\",\"CSE-BAO\"]}\n"
      ],
      "execution_count": null,
      "outputs": []
    },
    {
      "cell_type": "code",
      "metadata": {
        "id": "N4VtUsZJDphT",
        "colab_type": "code",
        "colab": {}
      },
      "source": [
        "# from LIST\n",
        "# from tuple in list   IMP: Each tuple in the list is ROW\n",
        "l = [(\"ALOK\", 12,\"CSE-BAO\"),(\"DEV\", 34,\"CSE-BAO\"),(\"AMAN\", 15,\"CSE-BAO\")]\n"
      ],
      "execution_count": null,
      "outputs": []
    },
    {
      "cell_type": "code",
      "metadata": {
        "id": "PpR2hcVLDs_v",
        "colab_type": "code",
        "colab": {}
      },
      "source": [
        "# dictionary in list\n",
        "\n",
        "l = [{ 'firstName': 'LaMarcus', 'lastName': 'Aldridge', 'jersey': '12', 'heightMeters': '2.11', 'nbaDebutYear': '2006', 'weightKilograms': '117.9'},\n",
        "     { 'firstName': 'LeBron', 'lastName': 'James', 'jersey': '2', 'heightMeters': '2.03', 'nbaDebutYear': '2003', 'weightKilograms': '113.4' },\n",
        "     { 'firstName': 'Kawhi', 'lastName': 'Leonard', 'jersey': '2', 'heightMeters': '2.01', 'nbaDebutYear': '2011', 'weightKilograms': '104.3' }]\n"
      ],
      "execution_count": null,
      "outputs": []
    },
    {
      "cell_type": "code",
      "metadata": {
        "id": "_lZBiPWKDwd2",
        "colab_type": "code",
        "colab": {}
      },
      "source": [
        "l_int = [55,96,5]  #add this to columns of ds\n"
      ],
      "execution_count": null,
      "outputs": []
    },
    {
      "cell_type": "code",
      "metadata": {
        "id": "WGcO_rTPD0Xy",
        "colab_type": "code",
        "colab": {}
      },
      "source": [
        "# to select Rows\n",
        "      # default = 5, select from upper portion\n",
        "      # default = 5  selects from lower portion\n"
      ],
      "execution_count": null,
      "outputs": []
    },
    {
      "cell_type": "code",
      "metadata": {
        "id": "kypEyREFD8wW",
        "colab_type": "code",
        "colab": {}
      },
      "source": [
        "# MAIN FORMAT DS[\"ROWS\"][\"COLUMNS\"]\n",
        "         # selects 0,1 row of jersey\n"
      ],
      "execution_count": null,
      "outputs": []
    },
    {
      "cell_type": "code",
      "metadata": {
        "id": "ceJhEohSD-wK",
        "colab_type": "code",
        "colab": {}
      },
      "source": [
        " #for selecting rows from any where ds[:](selects all rows)\n",
        "      # selects 1,2 rows(indexs) only\n"
      ],
      "execution_count": null,
      "outputs": []
    },
    {
      "cell_type": "code",
      "metadata": {
        "id": "nog7V68-EBS5",
        "colab_type": "code",
        "colab": {}
      },
      "source": [
        "# Mathematical operation\n",
        "      # tuple unpacking\n",
        "      # minimum element\n",
        "      # maximum element\n",
        "      # standard deviation\n",
        "      # description of dataframe\n"
      ],
      "execution_count": null,
      "outputs": []
    },
    {
      "cell_type": "code",
      "metadata": {
        "id": "3f-HF5ChEDiR",
        "colab_type": "code",
        "colab": {}
      },
      "source": [
        "# selection of Columns\n",
        "# to select single column.\n",
        "     # does not work when there are gaps in columns names then, ds[\"lastName\"] work always.\n",
        "\n",
        "# to select group of columns \n"
      ],
      "execution_count": null,
      "outputs": []
    },
    {
      "cell_type": "code",
      "metadata": {
        "id": "PBg7kkciEHpO",
        "colab_type": "code",
        "colab": {}
      },
      "source": [
        "# SQL operation on dataframe\n",
        "# selecting a single column, so store on a list.   \n",
        "        # select jersey from tablename where int_dt == 5;\n"
      ],
      "execution_count": null,
      "outputs": []
    },
    {
      "cell_type": "code",
      "metadata": {
        "id": "LRcCzr6HELI5",
        "colab_type": "code",
        "colab": {}
      },
      "source": [
        "# selection the multiple columns, so store on a dictionary.\n",
        "     # col names treated as keys.\n"
      ],
      "execution_count": null,
      "outputs": []
    },
    {
      "cell_type": "code",
      "metadata": {
        "id": "owCOWBUeEPgM",
        "colab_type": "code",
        "colab": {}
      },
      "source": [
        "# making columns as index\n",
        "      # set the column as index\n",
        "      # get information by element of index\n",
        "      # back to normal\n",
        "\n",
        "# to  save the file as csv in the current directory. \n"
      ],
      "execution_count": null,
      "outputs": []
    }
  ]
}