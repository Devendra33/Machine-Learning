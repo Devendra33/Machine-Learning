{
  "nbformat": 4,
  "nbformat_minor": 0,
  "metadata": {
    "colab": {
      "name": "8_Melt.ipynb",
      "provenance": []
    },
    "kernelspec": {
      "name": "python3",
      "display_name": "Python 3"
    }
  },
  "cells": [
    {
      "cell_type": "markdown",
      "metadata": {
        "id": "nJUiAoucEXU9",
        "colab_type": "text"
      },
      "source": [
        "Practice Notebook!\n"
      ]
    },
    {
      "cell_type": "markdown",
      "metadata": {
        "id": "1OtklBLJMcNs",
        "colab_type": "text"
      },
      "source": [
        "# Melt function"
      ]
    },
    {
      "cell_type": "code",
      "metadata": {
        "id": "BAL_iiCdMWpN",
        "colab_type": "code",
        "colab": {}
      },
      "source": [
        "# melt function\n",
        "# it is used to transform or reshape data\n",
        "import pandas as pd\n",
        "\n",
        "ds = pd.read_csv(\"weather4.csv\")\n",
        "# id_vars to remain that in rows.\n",
        "\n"
      ],
      "execution_count": null,
      "outputs": []
    }
  ]
}