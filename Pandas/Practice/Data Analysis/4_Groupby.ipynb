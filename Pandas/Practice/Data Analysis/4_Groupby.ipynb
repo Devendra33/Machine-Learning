{
  "nbformat": 4,
  "nbformat_minor": 0,
  "metadata": {
    "colab": {
      "name": "4_Groupby.ipynb",
      "provenance": []
    },
    "kernelspec": {
      "name": "python3",
      "display_name": "Python 3"
    }
  },
  "cells": [
    {
      "cell_type": "markdown",
      "metadata": {
        "id": "nJUiAoucEXU9",
        "colab_type": "text"
      },
      "source": [
        "Practice Notebook!\n"
      ]
    },
    {
      "cell_type": "code",
      "metadata": {
        "id": "7IBfEUDSJMqc",
        "colab_type": "code",
        "colab": {}
      },
      "source": [
        "import pandas as pd\n",
        "\n",
        "ds = pd.read_csv(\"wheather.csv\")\n",
        "\n",
        "# now applying the groupby method\n"
      ],
      "execution_count": null,
      "outputs": []
    },
    {
      "cell_type": "code",
      "metadata": {
        "id": "yvJJXDs7JSHh",
        "colab_type": "code",
        "colab": {}
      },
      "source": [
        "# for selecting a perticular city domain\n",
        "\n",
        "       # gives all details of mumbai  city\n",
        "\n",
        "        # gives the maximum value of cities\n",
        "        # gives the minimum value of cities\n",
        "        # gives  the averag\n"
      ],
      "execution_count": null,
      "outputs": []
    },
    {
      "cell_type": "code",
      "metadata": {
        "id": "R2SpP2W6JWbW",
        "colab_type": "code",
        "colab": {}
      },
      "source": [
        "    # gives all the details of all the cities.\n",
        "\n",
        "    # it will plot the graph for each group.\n"
      ],
      "execution_count": null,
      "outputs": []
    }
  ]
}