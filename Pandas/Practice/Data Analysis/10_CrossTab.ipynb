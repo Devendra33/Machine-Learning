{
  "nbformat": 4,
  "nbformat_minor": 0,
  "metadata": {
    "colab": {
      "name": "10_CrossTab.ipynb",
      "provenance": []
    },
    "kernelspec": {
      "name": "python3",
      "display_name": "Python 3"
    }
  },
  "cells": [
    {
      "cell_type": "markdown",
      "metadata": {
        "id": "nJUiAoucEXU9",
        "colab_type": "text"
      },
      "source": [
        "Practice Notebook!\n"
      ]
    },
    {
      "cell_type": "code",
      "metadata": {
        "id": "Jrt2BcYDOw8P",
        "colab_type": "code",
        "colab": {}
      },
      "source": [
        "# Cross tab: Stands for contengency table."
      ],
      "execution_count": null,
      "outputs": []
    },
    {
      "cell_type": "code",
      "metadata": {
        "id": "_mQ2DfCyMyME",
        "colab_type": "code",
        "colab": {}
      },
      "source": [
        "import pandas as pd\n",
        "ds = pd.read_excel(\"survey.xls\")\n",
        "ds.head()"
      ],
      "execution_count": null,
      "outputs": []
    },
    {
      "cell_type": "code",
      "metadata": {
        "id": "qS2oKWO8OfDU",
        "colab_type": "code",
        "colab": {}
      },
      "source": [
        "# making the contengency table\n"
      ],
      "execution_count": null,
      "outputs": []
    },
    {
      "cell_type": "code",
      "metadata": {
        "id": "LWn5lcfUOiTh",
        "colab_type": "code",
        "colab": {}
      },
      "source": [
        "# contengency table for sex and handedness\n"
      ],
      "execution_count": null,
      "outputs": []
    },
    {
      "cell_type": "code",
      "metadata": {
        "id": "YVkOeQ7AOktT",
        "colab_type": "code",
        "colab": {}
      },
      "source": [
        "# contengency table for sex and handedness\n"
      ],
      "execution_count": null,
      "outputs": []
    },
    {
      "cell_type": "code",
      "metadata": {
        "id": "CzEVh1b2OmwF",
        "colab_type": "code",
        "colab": {}
      },
      "source": [
        "# for chi square format \n"
      ],
      "execution_count": null,
      "outputs": []
    },
    {
      "cell_type": "code",
      "metadata": {
        "id": "cSSlG8toOp6b",
        "colab_type": "code",
        "colab": {}
      },
      "source": [
        "# now finding the percentage of female who r left handed (16.6%)\n",
        "# and male who r left handed(41.6%)\n"
      ],
      "execution_count": null,
      "outputs": []
    },
    {
      "cell_type": "code",
      "metadata": {
        "id": "5GsA2PSpOteJ",
        "colab_type": "code",
        "colab": {}
      },
      "source": [
        "# now finding the \"AVERAGE AGE\" of the sexes(males and females)\n",
        "# and handedness(left or right)\n"
      ],
      "execution_count": null,
      "outputs": []
    }
  ]
}