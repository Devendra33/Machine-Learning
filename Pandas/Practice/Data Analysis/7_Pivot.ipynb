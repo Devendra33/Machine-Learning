{
  "nbformat": 4,
  "nbformat_minor": 0,
  "metadata": {
    "colab": {
      "name": "7_Pivot.ipynb",
      "provenance": []
    },
    "kernelspec": {
      "name": "python3",
      "display_name": "Python 3"
    }
  },
  "cells": [
    {
      "cell_type": "markdown",
      "metadata": {
        "id": "nJUiAoucEXU9",
        "colab_type": "text"
      },
      "source": [
        "Practice Notebook!\n"
      ]
    },
    {
      "cell_type": "markdown",
      "metadata": {
        "id": "F1-vC2K4MAz9",
        "colab_type": "text"
      },
      "source": [
        "# pivot function"
      ]
    },
    {
      "cell_type": "code",
      "metadata": {
        "id": "68V7Eyq9Kvby",
        "colab_type": "code",
        "colab": {}
      },
      "source": [
        "# pivot function \n",
        "\n",
        "import pandas as pd\n",
        "\n",
        "ds = pd.read_csv(\"weather.csv\")\n",
        "\n",
        "# format\n",
        "# ds.pivot(index = \"for x-axis\", columns = \"for y-axis\"), we can select any attribute for rows and columns.\n"
      ],
      "execution_count": null,
      "outputs": []
    },
    {
      "cell_type": "markdown",
      "metadata": {
        "id": "MXoKRKLvL7Vp",
        "colab_type": "text"
      },
      "source": [
        "# Pivot Table"
      ]
    },
    {
      "cell_type": "code",
      "metadata": {
        "id": "1GlcaJxTLGGh",
        "colab_type": "code",
        "colab": {}
      },
      "source": [
        "# Pivot Table: it is used to summarize and aggregate data inside a dataframe.\n",
        "# format: pivot_table(index = \"\", columns = \"\", aggfunc = \"mean/sum/diff/prod\", values = \"\", margins = True)\n",
        "# just search numpy function on google for more operation of aggfunc.\n",
        "ds = pd.read_csv(\"weather2.csv\")\n"
      ],
      "execution_count": null,
      "outputs": []
    },
    {
      "cell_type": "code",
      "metadata": {
        "id": "VMkzDB8ILSl1",
        "colab_type": "code",
        "colab": {}
      },
      "source": [
        "# for chi square table set margins = True\n"
      ],
      "execution_count": null,
      "outputs": []
    },
    {
      "cell_type": "markdown",
      "metadata": {
        "id": "gxsdumTYLO9-",
        "colab_type": "text"
      },
      "source": [
        "# pivot grouper\n"
      ]
    },
    {
      "cell_type": "code",
      "metadata": {
        "id": "Dfega1XZLZyA",
        "colab_type": "code",
        "colab": {}
      },
      "source": [
        "\n",
        "ds = pd.read_csv(\"weather3.csv\")\n",
        "# now find the avg of temp and humidity according to end of month\n",
        "# set freq = \"W\" for according to end of week\n"
      ],
      "execution_count": null,
      "outputs": []
    }
  ]
}