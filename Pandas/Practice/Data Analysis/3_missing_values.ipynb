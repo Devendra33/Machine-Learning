{
  "nbformat": 4,
  "nbformat_minor": 0,
  "metadata": {
    "colab": {
      "name": "3_missing_values.ipynb",
      "provenance": []
    },
    "kernelspec": {
      "name": "python3",
      "display_name": "Python 3"
    }
  },
  "cells": [
    {
      "cell_type": "markdown",
      "metadata": {
        "id": "nJUiAoucEXU9",
        "colab_type": "text"
      },
      "source": [
        "Practice Notebook!\n"
      ]
    },
    {
      "cell_type": "code",
      "metadata": {
        "id": "BQkgMEXkE8Gd",
        "colab_type": "code",
        "colab": {}
      },
      "source": [
        "# Handling Missing values of file\n",
        "import pandas as pd\n",
        "import numpy as np\n",
        "\n",
        "ds = pd.read_csv(\"Data.csv\")\n",
        "# fillna()\n",
        "\n",
        "      # fill nan values with zero in all columns\n",
        "\n",
        "              # to fill missing values accoriding to columns\n",
        "              # forward fill, copy only 1 time\n",
        "              # backword fill, copy 2 times\n"
      ],
      "execution_count": null,
      "outputs": []
    },
    {
      "cell_type": "code",
      "metadata": {
        "id": "AlfqbL8wH92o",
        "colab_type": "code",
        "colab": {}
      },
      "source": [
        "# to fill nan with intermeadiate value of adjacent upper and lower cell \n"
      ],
      "execution_count": null,
      "outputs": []
    },
    {
      "cell_type": "code",
      "metadata": {
        "id": "u6zjMkrLIkKA",
        "colab_type": "code",
        "colab": {}
      },
      "source": [
        "# dropna()\n",
        "\n",
        "       # default how = any, drops every row which has nan value in any column\n",
        "       # drops a rows when all columns are nan only\n",
        "\n",
        "# Now thresh param, drop a row with valid(not null) numbers of values\n",
        "# if thresh = 1, then atleast one not value should be present\n",
        "         # does not drop any.\n",
        "         # means requires 4 valid values, so drop rows with null value \n"
      ],
      "execution_count": null,
      "outputs": []
    },
    {
      "cell_type": "code",
      "metadata": {
        "id": "VKI77nLJInaR",
        "colab_type": "code",
        "colab": {}
      },
      "source": [
        "# Handling missing values using replace function.\n",
        "\n",
        "dic = {\"Temperature\": [-32,-99999,28,-99999,32,31,34], \"Windspeed\": [6,7,-99999,8,-88888,2,8], \"Event\":[\"rain\",\"sunny\",\"no event\",\"rain\",\"no event\",\"sunny\",\"sunny\"]}\n",
        "# create ds of dictionary of dic and perform replace opeartions\n",
        "\n",
        "             # replaces all -99999 by Nan in whole df\n",
        "             # used for replacing multiple values\n",
        "\n",
        "                   # for replacing values according to the columns.\n",
        "                   # for changing -99999 we can pass list of values as well\n",
        "\n",
        "            # when just simply wants to replace this values from whole table \n"
      ],
      "execution_count": null,
      "outputs": []
    },
    {
      "cell_type": "code",
      "metadata": {
        "id": "WKySRHvKIyOL",
        "colab_type": "code",
        "colab": {}
      },
      "source": [
        "dic1 = {\"Temperature\": [\"-32 f\",-99999,28,-99999,\"32 f\",31,34], \"Windspeed\": [\"6 mph\",7,-99999 ,\"8 mph\",-88888,2,8], \"Event\":[\"rain\",\"sunny\",\"no event\",\"rain\",\"no event\",\"sunny\",\"sunny\"]}\n",
        "# create ds of dictionary of dic1 and perform regex opeartions\n",
        "\n",
        "# tough task .....using regex\n",
        "     # replace all alphabetss with blancks\n",
        "\n",
        "           # replace all alphabetss with blancks according to a columns\n"
      ],
      "execution_count": null,
      "outputs": []
    },
    {
      "cell_type": "code",
      "metadata": {
        "id": "JWVZ_Yx8IzKP",
        "colab_type": "code",
        "colab": {}
      },
      "source": [
        "# Now replacing a list by list\n",
        "dic2 = {\"score\": [\"good\", \"poor\", \"excellent\", \"average\", \"good\", \"good\",\"poor\"], \"names\":[\"dex\",\"aman\",\"aru\",\"kabir\",\"ragju\",\"ran\",\"sxx\"]}\n",
        "\n",
        "# create ds of dictionary of dic2 and perform replace opeartions\n"
      ],
      "execution_count": null,
      "outputs": []
    }
  ]
}