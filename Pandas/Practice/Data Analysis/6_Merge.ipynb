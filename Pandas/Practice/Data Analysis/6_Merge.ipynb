{
  "nbformat": 4,
  "nbformat_minor": 0,
  "metadata": {
    "colab": {
      "name": "6_Merge.ipynb",
      "provenance": []
    },
    "kernelspec": {
      "name": "python3",
      "display_name": "Python 3"
    }
  },
  "cells": [
    {
      "cell_type": "markdown",
      "metadata": {
        "id": "nJUiAoucEXU9",
        "colab_type": "text"
      },
      "source": [
        "Practice Notebook!\n"
      ]
    },
    {
      "cell_type": "code",
      "metadata": {
        "id": "Y0n_coO9Kbip",
        "colab_type": "code",
        "colab": {}
      },
      "source": [
        "# Merge - code basics\n",
        "# generally used for columns wise operations\n",
        "\n",
        "import pandas as pd\n",
        "\n",
        "ds1 = pd.DataFrame({\"city\":[\"indore\",\"delhi\",\"mumbai\"],\n",
        "                    \"temp\":[45,22,31]})\n",
        "\n",
        "\n",
        "ds2 = pd.DataFrame({\"city\":[\"mumbai\",\"delhi\",\"indore\"],\n",
        "                    \"wind\":[26,55,11]})\n",
        "# format of merge\n",
        "# pd.merge(ds1, ds2, on = \"\", how = \"outer\", indicator = True, suffixes = [\"_left\", \"_right\"])\n",
        "\n",
        "# merge ds1 and ds2 on the basis of city column.\n"
      ],
      "execution_count": null,
      "outputs": []
    },
    {
      "cell_type": "code",
      "metadata": {
        "id": "-hl5WAsJKiKB",
        "colab_type": "code",
        "colab": {}
      },
      "source": [
        "# understanding the joins \n",
        "ds1 = pd.DataFrame({\"city\":[\"indore\",\"delhi\",\"mumbai\", \"dehradun\"],\n",
        "                    \"temp\":[45,22,31, 45]})\n",
        "\n",
        "\n",
        "ds2 = pd.DataFrame({\"city\":[\"mumbai\",\"delhi\",\"bhopal\"],\n",
        "                    \"wind\":[26,55,11]})\n",
        "\n",
        "\t\t # how = \"inner\" by default\n",
        "\n",
        "# outer join.\n",
        "# left join\n",
        "# left join\n",
        "# right join\n"
      ],
      "execution_count": null,
      "outputs": []
    },
    {
      "cell_type": "code",
      "metadata": {
        "id": "EgliyxhiKirz",
        "colab_type": "code",
        "colab": {}
      },
      "source": [
        "# now using of suffixs\n",
        "ds1 = pd.DataFrame({\"city\": [\"new york\", \"chicago\", \"orlando\", \"baltimore\"],\n",
        "                    \"temp\":[21,15,45,32],\n",
        "                    \"humid\": [30,35,33,45]})\n",
        "\n",
        "ds2 = pd.DataFrame({\"city\": [\"new york\", \"chicago\", \"san diego\"],\n",
        "                    \"temp\":[31,25,35],\n",
        "                    \"humid\": [25,30,38]})\n",
        "\n",
        "# to change suffixes.\n"
      ],
      "execution_count": null,
      "outputs": []
    }
  ]
}