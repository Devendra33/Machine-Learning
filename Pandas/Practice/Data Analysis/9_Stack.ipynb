{
  "nbformat": 4,
  "nbformat_minor": 0,
  "metadata": {
    "colab": {
      "name": "9_Stack.ipynb",
      "provenance": []
    },
    "kernelspec": {
      "name": "python3",
      "display_name": "Python 3"
    }
  },
  "cells": [
    {
      "cell_type": "markdown",
      "metadata": {
        "id": "nJUiAoucEXU9",
        "colab_type": "text"
      },
      "source": [
        "Practice Notebook!\n"
      ]
    },
    {
      "cell_type": "code",
      "metadata": {
        "id": "_mQ2DfCyMyME",
        "colab_type": "code",
        "colab": {}
      },
      "source": [
        "# upload the required file here\n",
        "\n",
        "import pandas as pd\n",
        "ds = pd.read_excel(\"stocks.xlsx\", header = [0,1])\n",
        "ds\n"
      ],
      "execution_count": null,
      "outputs": []
    },
    {
      "cell_type": "code",
      "metadata": {
        "id": "DZFSia2KM06s",
        "colab_type": "code",
        "colab": {}
      },
      "source": [
        " \t # changes the inner most header\n",
        "\t # changes the top most header\n"
      ],
      "execution_count": null,
      "outputs": []
    },
    {
      "cell_type": "code",
      "metadata": {
        "id": "sCTg_3sbNL9x",
        "colab_type": "code",
        "colab": {}
      },
      "source": [
        "# reverse transformation\n"
      ],
      "execution_count": null,
      "outputs": []
    },
    {
      "cell_type": "code",
      "metadata": {
        "id": "N1hDCzSZNQMY",
        "colab_type": "code",
        "colab": {}
      },
      "source": [
        "# now with 3 header\n",
        "ds = pd.read_excel(\"stocks_3_levels.xlsx\", header = [0,1,2])\n",
        "ds\n"
      ],
      "execution_count": null,
      "outputs": []
    },
    {
      "cell_type": "code",
      "metadata": {
        "id": "_vs_ZKisNTm2",
        "colab_type": "code",
        "colab": {}
      },
      "source": [
        "  # changes inner most attributes\n",
        "  # changes top most attributes\n",
        "  # changes middle attributes\n"
      ],
      "execution_count": null,
      "outputs": []
    }
  ]
}