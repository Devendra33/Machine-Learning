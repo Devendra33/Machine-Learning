{
  "nbformat": 4,
  "nbformat_minor": 0,
  "metadata": {
    "colab": {
      "name": "5_Periods_PeriodIndex.ipynb",
      "provenance": []
    },
    "kernelspec": {
      "name": "python3",
      "display_name": "Python 3"
    }
  },
  "cells": [
    {
      "cell_type": "code",
      "metadata": {
        "id": "5LqK5YZvPXEc",
        "colab_type": "code",
        "colab": {}
      },
      "source": [
        "# Period and PeriodIndex\n",
        "import pandas as pd\n",
        "import numpy as np\n",
        "import matplotlib.pyplot as plt"
      ],
      "execution_count": null,
      "outputs": []
    },
    {
      "cell_type": "code",
      "metadata": {
        "id": "FVGRLOjvPyCv",
        "colab_type": "code",
        "colab": {}
      },
      "source": [
        "y = pd.Period(\"2019\")"
      ],
      "execution_count": null,
      "outputs": []
    },
    {
      "cell_type": "code",
      "metadata": {
        "id": "4o-RlpKYQPSl",
        "colab_type": "code",
        "colab": {
          "base_uri": "https://localhost:8080/",
          "height": 35
        },
        "outputId": "bb739c70-7639-4d00-9bac-977b983957a6"
      },
      "source": [
        "# Start time\n"
      ],
      "execution_count": null,
      "outputs": [
        {
          "output_type": "execute_result",
          "data": {
            "text/plain": [
              "Timestamp('2019-01-01 00:00:00')"
            ]
          },
          "metadata": {
            "tags": []
          },
          "execution_count": 5
        }
      ]
    },
    {
      "cell_type": "code",
      "metadata": {
        "id": "nPLEu22bQSJS",
        "colab_type": "code",
        "colab": {
          "base_uri": "https://localhost:8080/",
          "height": 35
        },
        "outputId": "19de00b1-2201-46e9-fa1f-9f6b18c0a598"
      },
      "source": [
        "# End time \n"
      ],
      "execution_count": null,
      "outputs": [
        {
          "output_type": "execute_result",
          "data": {
            "text/plain": [
              "Timestamp('2019-12-31 23:59:59.999999999')"
            ]
          },
          "metadata": {
            "tags": []
          },
          "execution_count": 4
        }
      ]
    },
    {
      "cell_type": "code",
      "metadata": {
        "id": "pUQmdnseQisy",
        "colab_type": "code",
        "colab": {
          "base_uri": "https://localhost:8080/",
          "height": 35
        },
        "outputId": "02564816-8d6f-4e51-8b0f-146ac107b1e9"
      },
      "source": [
        "# we can also create another year by just adding 1.\n"
      ],
      "execution_count": null,
      "outputs": [
        {
          "output_type": "execute_result",
          "data": {
            "text/plain": [
              "Timestamp('2020-12-31 23:59:59.999999999')"
            ]
          },
          "metadata": {
            "tags": []
          },
          "execution_count": 9
        }
      ]
    },
    {
      "cell_type": "code",
      "metadata": {
        "id": "L3lwBi86RR9F",
        "colab_type": "code",
        "colab": {
          "base_uri": "https://localhost:8080/",
          "height": 35
        },
        "outputId": "e1ac95da-2aaa-459f-a90f-092653313c14"
      },
      "source": [
        "# we can also change frequency by Months, days ,Hours,\n",
        "# for months\n"
      ],
      "execution_count": null,
      "outputs": [
        {
          "output_type": "execute_result",
          "data": {
            "text/plain": [
              "Period('2016-01', 'M')"
            ]
          },
          "metadata": {
            "tags": []
          },
          "execution_count": 17
        }
      ]
    },
    {
      "cell_type": "code",
      "metadata": {
        "id": "LApPpj28THlk",
        "colab_type": "code",
        "colab": {
          "base_uri": "https://localhost:8080/",
          "height": 35
        },
        "outputId": "1161dcc3-0459-467e-987d-d2f1b7f163ea"
      },
      "source": [
        "     # start time of month"
      ],
      "execution_count": null,
      "outputs": [
        {
          "output_type": "execute_result",
          "data": {
            "text/plain": [
              "Timestamp('2016-01-01 00:00:00')"
            ]
          },
          "metadata": {
            "tags": []
          },
          "execution_count": 18
        }
      ]
    },
    {
      "cell_type": "code",
      "metadata": {
        "id": "7gYg3bduTJaT",
        "colab_type": "code",
        "colab": {
          "base_uri": "https://localhost:8080/",
          "height": 35
        },
        "outputId": "9a0448a6-ce0c-49cd-d483-43c8916761c5"
      },
      "source": [
        "     # it gives end time of month"
      ],
      "execution_count": null,
      "outputs": [
        {
          "output_type": "execute_result",
          "data": {
            "text/plain": [
              "Timestamp('2016-01-31 23:59:59.999999999')"
            ]
          },
          "metadata": {
            "tags": []
          },
          "execution_count": 19
        }
      ]
    },
    {
      "cell_type": "code",
      "metadata": {
        "id": "84jRq27UTNxM",
        "colab_type": "code",
        "colab": {
          "base_uri": "https://localhost:8080/",
          "height": 35
        },
        "outputId": "b79ca066-4123-4381-960a-cc56acf031fe"
      },
      "source": [
        "   # it gives the feb month."
      ],
      "execution_count": null,
      "outputs": [
        {
          "output_type": "execute_result",
          "data": {
            "text/plain": [
              "Period('2016-02', 'M')"
            ]
          },
          "metadata": {
            "tags": []
          },
          "execution_count": 20
        }
      ]
    },
    {
      "cell_type": "code",
      "metadata": {
        "id": "y_uktg8KTVMr",
        "colab_type": "code",
        "colab": {
          "base_uri": "https://localhost:8080/",
          "height": 35
        },
        "outputId": "2958464a-cb69-41d6-b8cf-91f7e4d9f2eb"
      },
      "source": [
        "# for days\n"
      ],
      "execution_count": null,
      "outputs": [
        {
          "output_type": "execute_result",
          "data": {
            "text/plain": [
              "Period('2016-11-05', 'D')"
            ]
          },
          "metadata": {
            "tags": []
          },
          "execution_count": 21
        }
      ]
    },
    {
      "cell_type": "code",
      "metadata": {
        "id": "b1y7TueuUdFX",
        "colab_type": "code",
        "colab": {
          "base_uri": "https://localhost:8080/",
          "height": 35
        },
        "outputId": "46f2d1ec-93eb-4bc9-fdda-5d2a66e77fb3"
      },
      "source": [
        "    # start time of day"
      ],
      "execution_count": null,
      "outputs": [
        {
          "output_type": "execute_result",
          "data": {
            "text/plain": [
              "Timestamp('2016-11-05 00:00:00')"
            ]
          },
          "metadata": {
            "tags": []
          },
          "execution_count": 22
        }
      ]
    },
    {
      "cell_type": "code",
      "metadata": {
        "id": "HWz3jUOkUfRr",
        "colab_type": "code",
        "colab": {
          "base_uri": "https://localhost:8080/",
          "height": 35
        },
        "outputId": "fb69a42b-4193-4b99-bdff-fb89451d10ed"
      },
      "source": [
        "    # end time of day"
      ],
      "execution_count": null,
      "outputs": [
        {
          "output_type": "execute_result",
          "data": {
            "text/plain": [
              "Timestamp('2016-11-05 23:59:59.999999999')"
            ]
          },
          "metadata": {
            "tags": []
          },
          "execution_count": 23
        }
      ]
    },
    {
      "cell_type": "code",
      "metadata": {
        "id": "semli75vUilr",
        "colab_type": "code",
        "colab": {
          "base_uri": "https://localhost:8080/",
          "height": 35
        },
        "outputId": "e8625c77-694e-421c-badb-031050ae3e81"
      },
      "source": [
        "    # gives the next day!"
      ],
      "execution_count": null,
      "outputs": [
        {
          "output_type": "execute_result",
          "data": {
            "text/plain": [
              "Period('2016-11-06', 'D')"
            ]
          },
          "metadata": {
            "tags": []
          },
          "execution_count": 24
        }
      ]
    },
    {
      "cell_type": "code",
      "metadata": {
        "id": "v8EngSMBUpFh",
        "colab_type": "code",
        "colab": {
          "base_uri": "https://localhost:8080/",
          "height": 35
        },
        "outputId": "ffac457e-e583-49f2-bbc0-f0e5586fff8e"
      },
      "source": [
        "      # making the period for hour"
      ],
      "execution_count": null,
      "outputs": [
        {
          "output_type": "execute_result",
          "data": {
            "text/plain": [
              "Period('2016-11-02 14:00', 'H')"
            ]
          },
          "metadata": {
            "tags": []
          },
          "execution_count": 29
        }
      ]
    },
    {
      "cell_type": "code",
      "metadata": {
        "id": "OlG01MzjU4tG",
        "colab_type": "code",
        "colab": {
          "base_uri": "https://localhost:8080/",
          "height": 35
        },
        "outputId": "6760b0da-a232-4f21-8bff-890d7730d3e5"
      },
      "source": [
        "     # start time of the period(hour)"
      ],
      "execution_count": null,
      "outputs": [
        {
          "output_type": "execute_result",
          "data": {
            "text/plain": [
              "Timestamp('2016-11-02 14:00:00')"
            ]
          },
          "metadata": {
            "tags": []
          },
          "execution_count": 30
        }
      ]
    },
    {
      "cell_type": "code",
      "metadata": {
        "id": "lQ07-aFeU7NJ",
        "colab_type": "code",
        "colab": {
          "base_uri": "https://localhost:8080/",
          "height": 35
        },
        "outputId": "2ed92c74-8db8-4d4c-ec4d-6ae586b49bed"
      },
      "source": [
        "    # end time of the period"
      ],
      "execution_count": null,
      "outputs": [
        {
          "output_type": "execute_result",
          "data": {
            "text/plain": [
              "Timestamp('2016-11-02 14:59:59.999999999')"
            ]
          },
          "metadata": {
            "tags": []
          },
          "execution_count": 31
        }
      ]
    },
    {
      "cell_type": "code",
      "metadata": {
        "id": "SHMUmk-lVGJA",
        "colab_type": "code",
        "colab": {
          "base_uri": "https://localhost:8080/",
          "height": 35
        },
        "outputId": "d2ee6e57-53c7-4cca-a529-4ddf4c3cdd2a"
      },
      "source": [
        "    # gives next hour!"
      ],
      "execution_count": null,
      "outputs": [
        {
          "output_type": "execute_result",
          "data": {
            "text/plain": [
              "Period('2016-11-02 15:00', 'H')"
            ]
          },
          "metadata": {
            "tags": []
          },
          "execution_count": 32
        }
      ]
    },
    {
      "cell_type": "code",
      "metadata": {
        "id": "NmSI-BdSZ5IO",
        "colab_type": "code",
        "colab": {}
      },
      "source": [
        "# now Quaters (4 quaters in a year)\n",
        "     # in freq write when your quater ends"
      ],
      "execution_count": null,
      "outputs": []
    },
    {
      "cell_type": "code",
      "metadata": {
        "id": "VQPY_8-4aW6c",
        "colab_type": "code",
        "colab": {
          "base_uri": "https://localhost:8080/",
          "height": 35
        },
        "outputId": "cf19fbb3-7bde-43ab-d418-f377436a87c5"
      },
      "source": [
        "    # it gives the start time."
      ],
      "execution_count": null,
      "outputs": [
        {
          "output_type": "execute_result",
          "data": {
            "text/plain": [
              "Timestamp('2016-11-01 00:00:00')"
            ]
          },
          "metadata": {
            "tags": []
          },
          "execution_count": 34
        }
      ]
    },
    {
      "cell_type": "code",
      "metadata": {
        "id": "JRLkHMyNaYi_",
        "colab_type": "code",
        "colab": {
          "base_uri": "https://localhost:8080/",
          "height": 35
        },
        "outputId": "8e5b51d9-fd32-44d4-b3fa-2b0093e2d56a"
      },
      "source": [
        "     # 31st jan is the ending of the quater\n"
      ],
      "execution_count": null,
      "outputs": [
        {
          "output_type": "execute_result",
          "data": {
            "text/plain": [
              "Timestamp('2017-01-31 23:59:59.999999999')"
            ]
          },
          "metadata": {
            "tags": []
          },
          "execution_count": 35
        }
      ]
    },
    {
      "cell_type": "code",
      "metadata": {
        "id": "gitI7U_gbD-q",
        "colab_type": "code",
        "colab": {
          "base_uri": "https://localhost:8080/",
          "height": 89
        },
        "outputId": "08f866b0-a976-4ae9-dc55-eda4f5349aa9"
      },
      "source": [
        "# now period range function\n"
      ],
      "execution_count": null,
      "outputs": [
        {
          "output_type": "execute_result",
          "data": {
            "text/plain": [
              "PeriodIndex(['2011Q1', '2011Q2', '2011Q3', '2011Q4', '2012Q1', '2012Q2',\n",
              "             '2012Q3', '2012Q4', '2013Q1', '2013Q2', '2013Q3', '2013Q4',\n",
              "             '2014Q1', '2014Q2', '2014Q3', '2014Q4', '2015Q1'],\n",
              "            dtype='period[Q-DEC]', freq='Q-DEC')"
            ]
          },
          "metadata": {
            "tags": []
          },
          "execution_count": 40
        }
      ]
    },
    {
      "cell_type": "code",
      "metadata": {
        "id": "xwcwFsPNdtc2",
        "colab_type": "code",
        "colab": {}
      },
      "source": [
        "# for epypt period ends in january\n"
      ],
      "execution_count": null,
      "outputs": []
    },
    {
      "cell_type": "code",
      "metadata": {
        "id": "_uM5yGvPeVwo",
        "colab_type": "code",
        "colab": {
          "base_uri": "https://localhost:8080/",
          "height": 35
        },
        "outputId": "78c1b99c-615a-4e32-d8ff-f4ffeb455352"
      },
      "source": [
        ""
      ],
      "execution_count": null,
      "outputs": [
        {
          "output_type": "execute_result",
          "data": {
            "text/plain": [
              "Timestamp('2015-01-01 00:00:00')"
            ]
          },
          "metadata": {
            "tags": []
          },
          "execution_count": 53
        }
      ]
    },
    {
      "cell_type": "code",
      "metadata": {
        "id": "TC_zmlx3g1O_",
        "colab_type": "code",
        "colab": {
          "base_uri": "https://localhost:8080/",
          "height": 339
        },
        "outputId": "f89a1fcb-1a81-43e3-b628-e39fc1762a4b"
      },
      "source": [
        "# now creating a series\n",
        "s = pd.Series(np.random.randn(len(pr)), index=pr)\n",
        "s"
      ],
      "execution_count": null,
      "outputs": [
        {
          "output_type": "execute_result",
          "data": {
            "text/plain": [
              "2011Q1   -0.699187\n",
              "2011Q2   -1.189613\n",
              "2011Q3    2.219318\n",
              "2011Q4   -0.984657\n",
              "2012Q1    0.664961\n",
              "2012Q2   -0.064944\n",
              "2012Q3   -1.441646\n",
              "2012Q4   -0.355526\n",
              "2013Q1    0.260620\n",
              "2013Q2    0.786357\n",
              "2013Q3    0.610516\n",
              "2013Q4    0.550666\n",
              "2014Q1   -0.571366\n",
              "2014Q2   -1.027123\n",
              "2014Q3    1.111242\n",
              "2014Q4   -1.908722\n",
              "2015Q1   -0.446260\n",
              "Freq: Q-DEC, dtype: float64"
            ]
          },
          "metadata": {
            "tags": []
          },
          "execution_count": 61
        }
      ]
    },
    {
      "cell_type": "code",
      "metadata": {
        "id": "Fybu9g5shkvx",
        "colab_type": "code",
        "colab": {
          "base_uri": "https://localhost:8080/",
          "height": 106
        },
        "outputId": "4b2f7e19-bd2d-4197-81b1-d198a008bbe3"
      },
      "source": [
        "# now we can retrive a quater by its year\n",
        "s[\"2011\"]"
      ],
      "execution_count": null,
      "outputs": [
        {
          "output_type": "execute_result",
          "data": {
            "text/plain": [
              "2011Q1   -0.699187\n",
              "2011Q2   -1.189613\n",
              "2011Q3    2.219318\n",
              "2011Q4   -0.984657\n",
              "Freq: Q-DEC, dtype: float64"
            ]
          },
          "metadata": {
            "tags": []
          },
          "execution_count": 62
        }
      ]
    },
    {
      "cell_type": "code",
      "metadata": {
        "id": "P2HVss78hrvl",
        "colab_type": "code",
        "colab": {
          "base_uri": "https://localhost:8080/",
          "height": 249
        },
        "outputId": "9b297c86-f1ee-453e-add6-3cca16045f62"
      },
      "source": [
        "# now we can retrive a quater by its yearS\n",
        "# perform slicing of the years"
      ],
      "execution_count": null,
      "outputs": [
        {
          "output_type": "execute_result",
          "data": {
            "text/plain": [
              "2011Q1   -0.699187\n",
              "2011Q2   -1.189613\n",
              "2011Q3    2.219318\n",
              "2011Q4   -0.984657\n",
              "2012Q1    0.664961\n",
              "2012Q2   -0.064944\n",
              "2012Q3   -1.441646\n",
              "2012Q4   -0.355526\n",
              "2013Q1    0.260620\n",
              "2013Q2    0.786357\n",
              "2013Q3    0.610516\n",
              "2013Q4    0.550666\n",
              "Freq: Q-DEC, dtype: float64"
            ]
          },
          "metadata": {
            "tags": []
          },
          "execution_count": 63
        }
      ]
    },
    {
      "cell_type": "code",
      "metadata": {
        "id": "SQk5cH-Uh3mP",
        "colab_type": "code",
        "colab": {
          "base_uri": "https://localhost:8080/",
          "height": 124
        },
        "outputId": "1ec0c8c2-c869-4a4b-928e-ad6395d9e991"
      },
      "source": [
        "# converting into the quater into dates\n"
      ],
      "execution_count": null,
      "outputs": [
        {
          "output_type": "execute_result",
          "data": {
            "text/plain": [
              "DatetimeIndex(['2011-01-01', '2011-04-01', '2011-07-01', '2011-10-01',\n",
              "               '2012-01-01', '2012-04-01', '2012-07-01', '2012-10-01',\n",
              "               '2013-01-01', '2013-04-01', '2013-07-01', '2013-10-01',\n",
              "               '2014-01-01', '2014-04-01', '2014-07-01', '2014-10-01',\n",
              "               '2015-01-01'],\n",
              "              dtype='datetime64[ns]', freq='QS-OCT')"
            ]
          },
          "metadata": {
            "tags": []
          },
          "execution_count": 65
        }
      ]
    },
    {
      "cell_type": "code",
      "metadata": {
        "id": "uiC_kYcWiL24",
        "colab_type": "code",
        "colab": {
          "base_uri": "https://localhost:8080/",
          "height": 89
        },
        "outputId": "cab78729-1ae6-4f45-8435-a97c5f0f8861"
      },
      "source": [
        "# converting the timestamp into index\n"
      ],
      "execution_count": null,
      "outputs": [
        {
          "output_type": "execute_result",
          "data": {
            "text/plain": [
              "PeriodIndex(['2011Q1', '2011Q2', '2011Q3', '2011Q4', '2012Q1', '2012Q2',\n",
              "             '2012Q3', '2012Q4', '2013Q1', '2013Q2', '2013Q3', '2013Q4',\n",
              "             '2014Q1', '2014Q2', '2014Q3', '2014Q4', '2015Q1'],\n",
              "            dtype='period[Q-DEC]', freq='Q-DEC')"
            ]
          },
          "metadata": {
            "tags": []
          },
          "execution_count": 66
        }
      ]
    },
    {
      "cell_type": "code",
      "metadata": {
        "id": "WqMUKi3UiezO",
        "colab_type": "code",
        "colab": {
          "base_uri": "https://localhost:8080/",
          "height": 138
        },
        "outputId": "8b2b438b-252d-4e1b-fb57-21aa3cb2a0f5"
      },
      "source": [
        "# import the dataset for exercise\n"
      ],
      "execution_count": null,
      "outputs": [
        {
          "output_type": "execute_result",
          "data": {
            "text/html": [
              "<div>\n",
              "<style scoped>\n",
              "    .dataframe tbody tr th:only-of-type {\n",
              "        vertical-align: middle;\n",
              "    }\n",
              "\n",
              "    .dataframe tbody tr th {\n",
              "        vertical-align: top;\n",
              "    }\n",
              "\n",
              "    .dataframe thead th {\n",
              "        text-align: right;\n",
              "    }\n",
              "</style>\n",
              "<table border=\"1\" class=\"dataframe\">\n",
              "  <thead>\n",
              "    <tr style=\"text-align: right;\">\n",
              "      <th></th>\n",
              "      <th>Line Item</th>\n",
              "      <th>2017Q1</th>\n",
              "      <th>2017Q2</th>\n",
              "      <th>2017Q3</th>\n",
              "      <th>2017Q4</th>\n",
              "      <th>2018Q1</th>\n",
              "    </tr>\n",
              "  </thead>\n",
              "  <tbody>\n",
              "    <tr>\n",
              "      <th>0</th>\n",
              "      <td>Revenue</td>\n",
              "      <td>115904</td>\n",
              "      <td>120854</td>\n",
              "      <td>118179</td>\n",
              "      <td>130936</td>\n",
              "      <td>117542</td>\n",
              "    </tr>\n",
              "    <tr>\n",
              "      <th>1</th>\n",
              "      <td>Expenses</td>\n",
              "      <td>86544</td>\n",
              "      <td>89485</td>\n",
              "      <td>87484</td>\n",
              "      <td>97743</td>\n",
              "      <td>87688</td>\n",
              "    </tr>\n",
              "    <tr>\n",
              "      <th>2</th>\n",
              "      <td>Profit</td>\n",
              "      <td>29360</td>\n",
              "      <td>31369</td>\n",
              "      <td>30695</td>\n",
              "      <td>33193</td>\n",
              "      <td>29854</td>\n",
              "    </tr>\n",
              "  </tbody>\n",
              "</table>\n",
              "</div>"
            ],
            "text/plain": [
              "  Line Item  2017Q1  2017Q2  2017Q3  2017Q4  2018Q1\n",
              "0   Revenue  115904  120854  118179  130936  117542\n",
              "1  Expenses   86544   89485   87484   97743   87688\n",
              "2    Profit   29360   31369   30695   33193   29854"
            ]
          },
          "metadata": {
            "tags": []
          },
          "execution_count": 67
        }
      ]
    },
    {
      "cell_type": "code",
      "metadata": {
        "id": "t_pPuSl6klyf",
        "colab_type": "code",
        "colab": {
          "base_uri": "https://localhost:8080/",
          "height": 198
        },
        "outputId": "b291d04f-ddd4-4ba0-df9c-17d47672daf6"
      },
      "source": [
        "# performing transposing of the matrix"
      ],
      "execution_count": null,
      "outputs": [
        {
          "output_type": "execute_result",
          "data": {
            "text/html": [
              "<div>\n",
              "<style scoped>\n",
              "    .dataframe tbody tr th:only-of-type {\n",
              "        vertical-align: middle;\n",
              "    }\n",
              "\n",
              "    .dataframe tbody tr th {\n",
              "        vertical-align: top;\n",
              "    }\n",
              "\n",
              "    .dataframe thead th {\n",
              "        text-align: right;\n",
              "    }\n",
              "</style>\n",
              "<table border=\"1\" class=\"dataframe\">\n",
              "  <thead>\n",
              "    <tr style=\"text-align: right;\">\n",
              "      <th>Line Item</th>\n",
              "      <th>Revenue</th>\n",
              "      <th>Expenses</th>\n",
              "      <th>Profit</th>\n",
              "    </tr>\n",
              "  </thead>\n",
              "  <tbody>\n",
              "    <tr>\n",
              "      <th>2017Q1</th>\n",
              "      <td>115904</td>\n",
              "      <td>86544</td>\n",
              "      <td>29360</td>\n",
              "    </tr>\n",
              "    <tr>\n",
              "      <th>2017Q2</th>\n",
              "      <td>120854</td>\n",
              "      <td>89485</td>\n",
              "      <td>31369</td>\n",
              "    </tr>\n",
              "    <tr>\n",
              "      <th>2017Q3</th>\n",
              "      <td>118179</td>\n",
              "      <td>87484</td>\n",
              "      <td>30695</td>\n",
              "    </tr>\n",
              "    <tr>\n",
              "      <th>2017Q4</th>\n",
              "      <td>130936</td>\n",
              "      <td>97743</td>\n",
              "      <td>33193</td>\n",
              "    </tr>\n",
              "    <tr>\n",
              "      <th>2018Q1</th>\n",
              "      <td>117542</td>\n",
              "      <td>87688</td>\n",
              "      <td>29854</td>\n",
              "    </tr>\n",
              "  </tbody>\n",
              "</table>\n",
              "</div>"
            ],
            "text/plain": [
              "Line Item  Revenue  Expenses  Profit\n",
              "2017Q1      115904     86544   29360\n",
              "2017Q2      120854     89485   31369\n",
              "2017Q3      118179     87484   30695\n",
              "2017Q4      130936     97743   33193\n",
              "2018Q1      117542     87688   29854"
            ]
          },
          "metadata": {
            "tags": []
          },
          "execution_count": 78
        }
      ]
    },
    {
      "cell_type": "code",
      "metadata": {
        "id": "ESbaPHw3m4gm",
        "colab_type": "code",
        "colab": {
          "base_uri": "https://localhost:8080/",
          "height": 35
        },
        "outputId": "71257b2b-c740-45fa-89e0-651b3d2c0f37"
      },
      "source": [
        ""
      ],
      "execution_count": null,
      "outputs": [
        {
          "output_type": "execute_result",
          "data": {
            "text/plain": [
              "PeriodIndex(['2017Q1', '2017Q2', '2017Q3', '2017Q4', '2018Q1'], dtype='period[Q-JAN]', freq='Q-JAN')"
            ]
          },
          "metadata": {
            "tags": []
          },
          "execution_count": 81
        }
      ]
    },
    {
      "cell_type": "code",
      "metadata": {
        "id": "6ILxEk2wl6vS",
        "colab_type": "code",
        "colab": {
          "base_uri": "https://localhost:8080/",
          "height": 198
        },
        "outputId": "9837f624-943d-445b-9050-760e30730f2c"
      },
      "source": [
        ""
      ],
      "execution_count": null,
      "outputs": [
        {
          "output_type": "execute_result",
          "data": {
            "text/html": [
              "<div>\n",
              "<style scoped>\n",
              "    .dataframe tbody tr th:only-of-type {\n",
              "        vertical-align: middle;\n",
              "    }\n",
              "\n",
              "    .dataframe tbody tr th {\n",
              "        vertical-align: top;\n",
              "    }\n",
              "\n",
              "    .dataframe thead th {\n",
              "        text-align: right;\n",
              "    }\n",
              "</style>\n",
              "<table border=\"1\" class=\"dataframe\">\n",
              "  <thead>\n",
              "    <tr style=\"text-align: right;\">\n",
              "      <th>Line Item</th>\n",
              "      <th>Revenue</th>\n",
              "      <th>Expenses</th>\n",
              "      <th>Profit</th>\n",
              "      <th>start date</th>\n",
              "      <th>Start date</th>\n",
              "      <th>End date</th>\n",
              "    </tr>\n",
              "  </thead>\n",
              "  <tbody>\n",
              "    <tr>\n",
              "      <th>2017Q1</th>\n",
              "      <td>115904</td>\n",
              "      <td>86544</td>\n",
              "      <td>29360</td>\n",
              "      <td>2016-02-01</td>\n",
              "      <td>2016-02-01</td>\n",
              "      <td>2016-04-30</td>\n",
              "    </tr>\n",
              "    <tr>\n",
              "      <th>2017Q2</th>\n",
              "      <td>120854</td>\n",
              "      <td>89485</td>\n",
              "      <td>31369</td>\n",
              "      <td>2016-05-01</td>\n",
              "      <td>2016-05-01</td>\n",
              "      <td>2016-07-31</td>\n",
              "    </tr>\n",
              "    <tr>\n",
              "      <th>2017Q3</th>\n",
              "      <td>118179</td>\n",
              "      <td>87484</td>\n",
              "      <td>30695</td>\n",
              "      <td>2016-08-01</td>\n",
              "      <td>2016-08-01</td>\n",
              "      <td>2016-10-31</td>\n",
              "    </tr>\n",
              "    <tr>\n",
              "      <th>2017Q4</th>\n",
              "      <td>130936</td>\n",
              "      <td>97743</td>\n",
              "      <td>33193</td>\n",
              "      <td>2016-11-01</td>\n",
              "      <td>2016-11-01</td>\n",
              "      <td>2017-01-31</td>\n",
              "    </tr>\n",
              "    <tr>\n",
              "      <th>2018Q1</th>\n",
              "      <td>117542</td>\n",
              "      <td>87688</td>\n",
              "      <td>29854</td>\n",
              "      <td>2017-02-01</td>\n",
              "      <td>2017-02-01</td>\n",
              "      <td>2017-04-30</td>\n",
              "    </tr>\n",
              "  </tbody>\n",
              "</table>\n",
              "</div>"
            ],
            "text/plain": [
              "Line Item  Revenue  Expenses  Profit start date Start date   End date\n",
              "2017Q1      115904     86544   29360 2016-02-01 2016-02-01 2016-04-30\n",
              "2017Q2      120854     89485   31369 2016-05-01 2016-05-01 2016-07-31\n",
              "2017Q3      118179     87484   30695 2016-08-01 2016-08-01 2016-10-31\n",
              "2017Q4      130936     97743   33193 2016-11-01 2016-11-01 2017-01-31\n",
              "2018Q1      117542     87688   29854 2017-02-01 2017-02-01 2017-04-30"
            ]
          },
          "metadata": {
            "tags": []
          },
          "execution_count": 99
        }
      ]
    }
  ]
}