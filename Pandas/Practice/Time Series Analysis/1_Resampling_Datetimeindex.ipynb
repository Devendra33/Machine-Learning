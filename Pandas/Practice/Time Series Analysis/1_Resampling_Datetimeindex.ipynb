{
  "nbformat": 4,
  "nbformat_minor": 0,
  "metadata": {
    "colab": {
      "name": "1_Resampling_Datetimeindex.ipynb",
      "provenance": []
    },
    "kernelspec": {
      "name": "python3",
      "display_name": "Python 3"
    }
  },
  "cells": [
    {
      "cell_type": "code",
      "metadata": {
        "id": "49l5eP2HgH_h",
        "colab_type": "code",
        "colab": {}
      },
      "source": [
        "# Time series analysis\n",
        "import pandas as pd"
      ],
      "execution_count": null,
      "outputs": []
    },
    {
      "cell_type": "code",
      "metadata": {
        "id": "3jOgGzn-h7R4",
        "colab_type": "code",
        "colab": {}
      },
      "source": [
        "# importing the dataset\n",
        "# file name: AAPL.csv, convert Date column in dates and index col.\n"
      ],
      "execution_count": null,
      "outputs": []
    },
    {
      "cell_type": "code",
      "metadata": {
        "id": "OVGVluUZiQCC",
        "colab_type": "code",
        "colab": {
          "base_uri": "https://localhost:8080/",
          "height": 228
        },
        "outputId": "222a65e4-cbf0-4444-e074-7fd1b3763cfa"
      },
      "source": [
        "# Now benefits of setting index column to be date\n",
        "# 1. retrive  data according to a month\n",
        "     # july month data\n",
        "\n",
        "     # average stock price in month of july.\n",
        "\n",
        "     # returns the range of days (1st week)\n",
        "\n"
      ],
      "execution_count": null,
      "outputs": [
        {
          "output_type": "execute_result",
          "data": {
            "text/html": [
              "<div>\n",
              "<style scoped>\n",
              "    .dataframe tbody tr th:only-of-type {\n",
              "        vertical-align: middle;\n",
              "    }\n",
              "\n",
              "    .dataframe tbody tr th {\n",
              "        vertical-align: top;\n",
              "    }\n",
              "\n",
              "    .dataframe thead th {\n",
              "        text-align: right;\n",
              "    }\n",
              "</style>\n",
              "<table border=\"1\" class=\"dataframe\">\n",
              "  <thead>\n",
              "    <tr style=\"text-align: right;\">\n",
              "      <th></th>\n",
              "      <th>Open</th>\n",
              "      <th>High</th>\n",
              "      <th>Low</th>\n",
              "      <th>Close</th>\n",
              "      <th>Adj Close</th>\n",
              "      <th>Volume</th>\n",
              "    </tr>\n",
              "    <tr>\n",
              "      <th>Date</th>\n",
              "      <th></th>\n",
              "      <th></th>\n",
              "      <th></th>\n",
              "      <th></th>\n",
              "      <th></th>\n",
              "      <th></th>\n",
              "    </tr>\n",
              "  </thead>\n",
              "  <tbody>\n",
              "    <tr>\n",
              "      <th>2019-07-01</th>\n",
              "      <td>203.169998</td>\n",
              "      <td>204.490005</td>\n",
              "      <td>200.649994</td>\n",
              "      <td>201.550003</td>\n",
              "      <td>199.172989</td>\n",
              "      <td>27316700</td>\n",
              "    </tr>\n",
              "    <tr>\n",
              "      <th>2019-07-02</th>\n",
              "      <td>201.410004</td>\n",
              "      <td>203.130005</td>\n",
              "      <td>201.360001</td>\n",
              "      <td>202.729996</td>\n",
              "      <td>200.339050</td>\n",
              "      <td>16935200</td>\n",
              "    </tr>\n",
              "    <tr>\n",
              "      <th>2019-07-03</th>\n",
              "      <td>203.279999</td>\n",
              "      <td>204.440002</td>\n",
              "      <td>202.690002</td>\n",
              "      <td>204.410004</td>\n",
              "      <td>201.999237</td>\n",
              "      <td>11362000</td>\n",
              "    </tr>\n",
              "    <tr>\n",
              "      <th>2019-07-05</th>\n",
              "      <td>203.350006</td>\n",
              "      <td>205.080002</td>\n",
              "      <td>202.899994</td>\n",
              "      <td>204.229996</td>\n",
              "      <td>201.821350</td>\n",
              "      <td>17265500</td>\n",
              "    </tr>\n",
              "    <tr>\n",
              "      <th>2019-07-08</th>\n",
              "      <td>200.809998</td>\n",
              "      <td>201.399994</td>\n",
              "      <td>198.410004</td>\n",
              "      <td>200.020004</td>\n",
              "      <td>197.661011</td>\n",
              "      <td>25338600</td>\n",
              "    </tr>\n",
              "  </tbody>\n",
              "</table>\n",
              "</div>"
            ],
            "text/plain": [
              "                  Open        High  ...   Adj Close    Volume\n",
              "Date                                ...                      \n",
              "2019-07-01  203.169998  204.490005  ...  199.172989  27316700\n",
              "2019-07-02  201.410004  203.130005  ...  200.339050  16935200\n",
              "2019-07-03  203.279999  204.440002  ...  201.999237  11362000\n",
              "2019-07-05  203.350006  205.080002  ...  201.821350  17265500\n",
              "2019-07-08  200.809998  201.399994  ...  197.661011  25338600\n",
              "\n",
              "[5 rows x 6 columns]"
            ]
          },
          "metadata": {
            "tags": []
          },
          "execution_count": 17
        }
      ]
    },
    {
      "cell_type": "code",
      "metadata": {
        "id": "UUbJnqOkmG5S",
        "colab_type": "code",
        "colab": {
          "base_uri": "https://localhost:8080/",
          "height": 1000
        },
        "outputId": "b93ea843-da43-45b0-ffb8-b52149d84664"
      },
      "source": [
        "# Resampling technique\n",
        "      # monthly mean of each month\n",
        "      # weekly mean "
      ],
      "execution_count": null,
      "outputs": [
        {
          "output_type": "execute_result",
          "data": {
            "text/plain": [
              "Date\n",
              "2019-06-16    193.972500\n",
              "2019-06-23    197.689999\n",
              "2019-06-30    198.322003\n",
              "2019-07-07    203.230000\n",
              "2019-07-14    201.908002\n",
              "2019-07-21    204.262003\n",
              "2019-07-28    207.898001\n",
              "2019-08-04    208.789996\n",
              "2019-08-11    198.759997\n",
              "2019-08-18    204.088000\n",
              "2019-08-25    209.690002\n",
              "2019-09-01    206.786002\n",
              "2019-09-08    210.357498\n",
              "2019-09-15    219.259997\n",
              "2019-09-22    220.412000\n",
              "2019-09-29    219.228000\n",
              "2019-10-06    223.070001\n",
              "2019-10-13    228.957999\n",
              "2019-10-20    235.450000\n",
              "2019-10-27    242.762000\n",
              "2019-11-03    248.035999\n",
              "2019-11-10    258.288001\n",
              "2019-11-17    263.406006\n",
              "2019-11-24    264.074005\n",
              "2019-12-01    266.437500\n",
              "2019-12-08    264.327997\n",
              "2019-12-15    270.556000\n",
              "2019-12-22    279.893994\n",
              "2019-12-29    286.994995\n",
              "2020-01-05    295.737496\n",
              "2020-01-12    304.267999\n",
              "2020-01-19    314.989996\n",
              "2020-01-26    317.952507\n",
              "2020-02-02    316.872003\n",
              "2020-02-09    318.840002\n",
              "2020-02-16    323.635998\n",
              "2020-02-23    318.992493\n",
              "2020-03-01    285.157990\n",
              "2020-03-08    294.564001\n",
              "2020-03-15    270.628000\n",
              "2020-03-22    243.152002\n",
              "2020-03-29    244.590002\n",
              "2020-04-05    247.269998\n",
              "2020-04-12    263.989998\n",
              "2020-04-19    282.843994\n",
              "2020-04-26    275.879999\n",
              "2020-05-03    286.470001\n",
              "2020-05-10    301.044000\n",
              "2020-05-17    310.264002\n",
              "2020-05-24    316.614008\n",
              "2020-05-31    317.757499\n",
              "2020-06-07    324.826001\n",
              "2020-06-14    343.429992\n",
              "Freq: W-SUN, Name: Close, dtype: float64"
            ]
          },
          "metadata": {
            "tags": []
          },
          "execution_count": 20
        }
      ]
    },
    {
      "cell_type": "code",
      "metadata": {
        "id": "NjyugIEhmw94",
        "colab_type": "code",
        "colab": {
          "base_uri": "https://localhost:8080/",
          "height": 309
        },
        "outputId": "7e5f46c1-b35a-4c5b-aa5e-76bb646eabfa"
      },
      "source": [
        "# ploting using resampling\n",
        "     # plot average stock price according to month"
      ],
      "execution_count": null,
      "outputs": [
        {
          "output_type": "execute_result",
          "data": {
            "text/plain": [
              "<matplotlib.axes._subplots.AxesSubplot at 0x7f5b2011c828>"
            ]
          },
          "metadata": {
            "tags": []
          },
          "execution_count": 22
        },
        {
          "output_type": "display_data",
          "data": {
            "image/png": "[encoded data removed]",
            "text/plain": [
              "<Figure size 432x288 with 1 Axes>"
            ]
          },
          "metadata": {
            "tags": [],
            "needs_background": "light"
          }
        }
      ]
    },
    {
      "cell_type": "code",
      "metadata": {
        "id": "ArzEUPGwnNlW",
        "colab_type": "code",
        "colab": {
          "base_uri": "https://localhost:8080/",
          "height": 392
        },
        "outputId": "a1ee617b-fb17-4663-f318-3e50e74ac8fe"
      },
      "source": [
        "    # plot bar graph."
      ],
      "execution_count": null,
      "outputs": [
        {
          "output_type": "execute_result",
          "data": {
            "text/plain": [
              "<matplotlib.axes._subplots.AxesSubplot at 0x7f5b1e657c50>"
            ]
          },
          "metadata": {
            "tags": []
          },
          "execution_count": 23
        },
        {
          "output_type": "display_data",
          "data": {
            "image/png": "[encoded data removed]",
            "text/plain": [
              "<Figure size 432x288 with 1 Axes>"
            ]
          },
          "metadata": {
            "tags": [],
            "needs_background": "light"
          }
        }
      ]
    }
  ]
}