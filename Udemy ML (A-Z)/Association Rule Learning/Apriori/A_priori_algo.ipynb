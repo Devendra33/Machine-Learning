{
  "nbformat": 4,
  "nbformat_minor": 0,
  "metadata": {
    "colab": {
      "name": "Apriori.ipynb",
      "provenance": []
    },
    "kernelspec": {
      "name": "python3",
      "display_name": "Python 3"
    }
  },
  "cells": [
    {
      "cell_type": "code",
      "metadata": {
        "id": "dK2DtquFp3-1",
        "colab_type": "code",
        "colab": {}
      },
      "source": [
        "# Apriori is used  for market basket analysis.\n",
        "\n",
        "import pandas as pd\n",
        "import numpy as np\n",
        "import matplotlib.pyplot as plt\n",
        "\n",
        "\n",
        "# importing the datasets\n",
        "ds = pd.read_csv(\"Market_Basket_Optimisation.csv\", header = None)\n",
        "\n",
        "# we have to create a list of all rows(int string format) to implement apriori \n",
        "\n",
        "tran_lst = []\n",
        "\n",
        "for i in range(7501):\n",
        "    tran_lst.append([str(ds.values[i, j]) for j in range(20)])\n",
        "\n",
        "from apyori import apriori\n",
        "\n",
        "\n",
        "# min_support = 3 products * 7 days(bcoz it is data of  1 week) / 7500 == 3*7/7501 (kitne % hai puri transaction me)\n",
        "# min_confidence 0.8 is the ideal, if we want some good results then reduce it to 0.7,0.6,..., 0.2.(% of buying rhs object)\n",
        "# min_lift = 3 always good logical rule or we can also write between 3-9.(if min_lift = 3, then >3 values are good but <3 are bad.)\n",
        "# min_length = 2 , for buy 1 get 1 free deals, or 3 for buy 2 get 1 free deal.\n",
        "\n",
        "rule = apriori(transactions = tran_lst, min_support = 0.003,    min_confidence = 0.2, min_lift = 3,\n",
        "               min_length = 2, max_length = 2)\n",
        "\n",
        "# Visualization the Results.\n",
        "res = list(rule)\n",
        "\n",
        "def inspect(res1):\n",
        "    lhs = [tuple(res[2][0][0])[0] for res in res1]\n",
        "    rhs = [tuple(res[2][0][1])[0] for res in res1]\n",
        "    support = [res[1] for res in res1]\n",
        "    confidence = [res[2][0][2] for res in res1]\n",
        "    lift = [res[2][0][3] for res in res1]\n",
        "    return list(zip(lhs, rhs, support, confidence, lift))\n",
        "\n",
        "frame = pd.DataFrame(inspect(res), columns = [\"Left Hand Side\",\"Right Hand Side\",\"Support\",\"Confidence\",\"Lift\"])\n",
        "\n",
        "frame = frame.nlargest(n = 9, columns = \"Lift\")\n",
        "\n",
        "frame.to_csv(\"MBA_Res.csv\", index = False)"
      ],
      "execution_count": 0,
      "outputs": []
    }
  ]
}