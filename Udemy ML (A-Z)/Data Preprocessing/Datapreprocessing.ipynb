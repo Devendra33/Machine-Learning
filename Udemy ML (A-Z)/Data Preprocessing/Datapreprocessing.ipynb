{
  "nbformat": 4,
  "nbformat_minor": 0,
  "metadata": {
    "colab": {
      "name": "Datapreprocessing.ipynb",
      "provenance": []
    },
    "kernelspec": {
      "name": "python3",
      "display_name": "Python 3"
    }
  },
  "cells": [
    {
      "cell_type": "code",
      "metadata": {
        "id": "dK2DtquFp3-1",
        "colab_type": "code",
        "colab": {}
      },
      "source": [
        "# ML practice\n",
        "import numpy as np\n",
        "import pandas as pd\n",
        "from sklearn.impute import SimpleImputer\n",
        "from sklearn.preprocessing import LabelEncoder, OneHotEncoder\n",
        "\n",
        "# importing the dataset  \n",
        "dataset = pd.read_csv(\"data.csv\")\n",
        "\n",
        "# splitting into dependent and independ variable.\n",
        "ind = dataset.iloc[:,0:3].values\n",
        "dep = dataset.iloc[:,3:4].values\n",
        "\n",
        "# handling missing values\n",
        "\n",
        "imp = SimpleImputer(missing_values = np.nan, strategy =\"median\" )\n",
        "ind[:,1:3] = imp.fit_transform(ind[:,1:3])\n",
        "\n",
        "# handling categorical (for independent dataset)\n",
        "label_ind = LabelEncoder()\n",
        "ind[:,0] = label_ind.fit_transform(ind[:,0]) \n",
        "ohe = OneHotEncoder(categorical_features = [0])\n",
        "ind = ohe.fit_transform(ind).toarray()\n",
        "\n",
        "# handling categorical (for dependent dataset)\n",
        "label_dep = LabelEncoder()\n",
        "dep = label_dep.fit_transform(dep)\n",
        "\n",
        "# testing and training\n",
        "\n",
        "from sklearn.model_selection import train_test_split\n",
        "ind_train, ind_test, dep_train, dep_test = train_test_split(ind, dep, test_size = 0.2, random_state = 0)\n",
        "\n",
        "# feature scaling  (only apply on independent data)\n",
        "\n",
        "from sklearn.preprocessing import StandardScaler\n",
        "sc = StandardScaler()\n",
        "ind_train = sc.fit_transform(ind_train)\n",
        "ind_test = sc.transform(ind_test)     # already fitted.q"
      ],
      "execution_count": 0,
      "outputs": []
    }
  ]
}